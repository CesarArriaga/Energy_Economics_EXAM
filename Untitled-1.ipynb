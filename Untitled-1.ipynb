{
 "cells": [
  {
   "cell_type": "markdown",
   "metadata": {},
   "source": [
    "**variable lado izquierdo:** hourly DAM prices for different zones (SE1,SE2,SE3,SE4)\n",
    "\n",
    "**Variables lado derecho:**\n",
    "**GAS VARIABLES**\n",
    "**X1** = Natural Gas price (the daily Henry Hub, is publishedby the U.S. Department ofEnergy’s Energy Information Agency)\n",
    "\n",
    "**NUCLEAR VARIABLES**\n",
    "**X2** = Daily Nuclear MW available **X3** = Daily Nuclear MW available (other plant)\n",
    "\n",
    "**HYDRO VARIABLES**\n",
    "**X4** = daily California hydro index **X5** = Hourly discharge from hydro stations **X6** = Hourly discharge from hydro stations (different station)\n",
    "\n",
    "**Demand related variables**\n",
    "**X7** = Hourly actual system MWh loads **F7** = The forecast for the load **X8** = Same but for other area **F8** = Same but for other area\n",
    "\n",
    "**Renweable energy**\n",
    "**X9** = Hourly actual solar MWh **F9** = His forecast **X10** = Hourly actual wind MWh **F10** = His forecast\n",
    "\n",
    "**For othear areas the same for solar and wind** (X11,F11,X12,F12)"
   ]
  },
  {
   "cell_type": "code",
   "execution_count": 1,
   "metadata": {},
   "outputs": [
    {
     "name": "stdout",
     "output_type": "stream",
     "text": [
      "Requirement already satisfied: entsoe-py in /Users/rodrigovillegasgomez/opt/anaconda3/lib/python3.9/site-packages (0.5.11)\n",
      "Requirement already satisfied: requests in /Users/rodrigovillegasgomez/opt/anaconda3/lib/python3.9/site-packages (from entsoe-py) (2.28.1)\n",
      "Requirement already satisfied: pytz in /Users/rodrigovillegasgomez/opt/anaconda3/lib/python3.9/site-packages (from entsoe-py) (2022.7)\n",
      "Requirement already satisfied: beautifulsoup4>=4.11.1 in /Users/rodrigovillegasgomez/opt/anaconda3/lib/python3.9/site-packages (from entsoe-py) (4.12.2)\n",
      "Requirement already satisfied: pandas>=1.4.0 in /Users/rodrigovillegasgomez/opt/anaconda3/lib/python3.9/site-packages (from entsoe-py) (1.4.4)\n",
      "Requirement already satisfied: soupsieve>1.2 in /Users/rodrigovillegasgomez/opt/anaconda3/lib/python3.9/site-packages (from beautifulsoup4>=4.11.1->entsoe-py) (2.4)\n",
      "Requirement already satisfied: python-dateutil>=2.8.1 in /Users/rodrigovillegasgomez/opt/anaconda3/lib/python3.9/site-packages (from pandas>=1.4.0->entsoe-py) (2.8.2)\n",
      "Requirement already satisfied: numpy>=1.18.5 in /Users/rodrigovillegasgomez/opt/anaconda3/lib/python3.9/site-packages (from pandas>=1.4.0->entsoe-py) (1.23.5)\n",
      "Requirement already satisfied: charset-normalizer<3,>=2 in /Users/rodrigovillegasgomez/opt/anaconda3/lib/python3.9/site-packages (from requests->entsoe-py) (2.0.4)\n",
      "Requirement already satisfied: idna<4,>=2.5 in /Users/rodrigovillegasgomez/opt/anaconda3/lib/python3.9/site-packages (from requests->entsoe-py) (3.4)\n",
      "Requirement already satisfied: urllib3<1.27,>=1.21.1 in /Users/rodrigovillegasgomez/opt/anaconda3/lib/python3.9/site-packages (from requests->entsoe-py) (1.26.15)\n",
      "Requirement already satisfied: certifi>=2017.4.17 in /Users/rodrigovillegasgomez/opt/anaconda3/lib/python3.9/site-packages (from requests->entsoe-py) (2023.7.22)\n",
      "Requirement already satisfied: six>=1.5 in /Users/rodrigovillegasgomez/opt/anaconda3/lib/python3.9/site-packages (from python-dateutil>=2.8.1->pandas>=1.4.0->entsoe-py) (1.16.0)\n"
     ]
    },
    {
     "name": "stdout",
     "output_type": "stream",
     "text": [
      "Note: you may need to restart the kernel to use updated packages.\n"
     ]
    }
   ],
   "source": [
    "pip install entsoe-py"
   ]
  },
  {
   "cell_type": "code",
   "execution_count": 2,
   "metadata": {},
   "outputs": [],
   "source": [
    "import pandas as pd, numpy as np, os, pickle\n",
    "from entsoe import EntsoePandasClient, Area"
   ]
  },
  {
   "cell_type": "code",
   "execution_count": 3,
   "metadata": {},
   "outputs": [],
   "source": [
    "direc = os.getcwd()\n",
    "data_dir = os.path.join(direc,'CleanedData')"
   ]
  },
  {
   "cell_type": "code",
   "execution_count": 4,
   "metadata": {},
   "outputs": [],
   "source": [
    "year = 2022\n",
    "g_area = ['SE_1','SE_2','SE_3','SE_4']"
   ]
  },
  {
   "cell_type": "code",
   "execution_count": 5,
   "metadata": {},
   "outputs": [],
   "source": [
    "entsoe_api_key = os.environ.get(\"ENTSOE_API_KEY\").replace(\"'\",\"\")"
   ]
  },
  {
   "cell_type": "code",
   "execution_count": 6,
   "metadata": {},
   "outputs": [],
   "source": [
    "client = EntsoePandasClient(api_key=entsoe_api_key)"
   ]
  },
  {
   "cell_type": "code",
   "execution_count": 7,
   "metadata": {},
   "outputs": [],
   "source": [
    "start_str, end_str = str(year)+'-01-01T00',str(year)+'-12-31T23', \n",
    "start_CET = pd.Timestamp(start_str,tz='Europe/Stockholm'); start_UTC = start_CET.tz_convert('UTC')\n",
    "end_CET = pd.Timestamp(end_str,tz='Europe/Stockholm'); end_UTC = end_CET.tz_convert('UTC')\n",
    "h_index = pd.Index(pd.date_range(start_CET,end_CET,freq='H'),name='HourCET/CEST')"
   ]
  },
  {
   "cell_type": "markdown",
   "metadata": {},
   "source": [
    "**Test data demand**"
   ]
  },
  {
   "cell_type": "code",
   "execution_count": 8,
   "metadata": {},
   "outputs": [],
   "source": [
    "df_demand = pd.concat([\n",
    "    pd.concat([client.query_load_forecast(Area[x], start=start_CET,end=end_CET, process_type='A01').rename_axis('HourCET/CEST').reindex(h_index).assign(g_E = x).set_index('g_E',append=True)['Forecasted Load'].rename('ForecastedLoad_MWh') for x in g_area],axis=0),\n",
    "    pd.concat([client.query_load(Area[x], start=start_CET,end=end_CET).rename_axis('HourCET/CEST').reindex(h_index).assign(g_E=x).set_index('g_E',append=True)['Actual Load'].rename('ActualLoad_MWh') for x in g_area],axis=0)\n",
    "],axis=1).reset_index()"
   ]
  },
  {
   "cell_type": "code",
   "execution_count": 9,
   "metadata": {},
   "outputs": [],
   "source": [
    "df_demand['HourUTC'] = df_demand['HourCET/CEST'].dt.tz_convert('UTC')\n",
    "df_demand['HourOfTheDay'] = df_demand['HourCET/CEST'].dt.hour\n",
    "df_demand['Weekday'] = df_demand['HourCET/CEST'].dt.weekday \n",
    "df_demand['Week'] = df_demand['HourCET/CEST'].dt.isocalendar().week\n",
    "df_demand['Month'] = df_demand['HourCET/CEST'].dt.month\n",
    "df_demand['h'] = 1\n",
    "df_demand['h'] = df_demand.groupby('g_E')['h'].cumsum()\n",
    "df_demand['g_E'] = df_demand['g_E'].str.replace('_','')\n",
    "new_col_order = ['g_E','HourUTC','HourCET/CEST','Month','Week','Weekday','HourOfTheDay','h','ForecastedLoad_MWh','ActualLoad_MWh']\n",
    "df_demand = df_demand[new_col_order].sort_values(new_col_order).reset_index(drop=True)"
   ]
  },
  {
   "cell_type": "code",
   "execution_count": 10,
   "metadata": {},
   "outputs": [],
   "source": [
    "file_path = os.path.join(data_dir,'Load_'+''.join(df_demand['g_E'].unique().tolist())+'_'+str(year))\n",
    "df_demand.to_pickle(file_path)"
   ]
  },
  {
   "cell_type": "markdown",
   "metadata": {},
   "source": [
    "**Day-ahead Prices 2022**"
   ]
  },
  {
   "cell_type": "code",
   "execution_count": 11,
   "metadata": {},
   "outputs": [],
   "source": [
    "df_prices = pd.concat([client.query_day_ahead_prices(Area[g], start=start_CET, end=end_CET).reindex(h_index).rename('Day-AheadPrice_€/MWh').to_frame().rename_axis('HourCET/CEST').assign(g_E=g).set_index('g_E',append=True)['Day-AheadPrice_€/MWh'] for g in list(g_area)],axis=0).reset_index()"
   ]
  },
  {
   "cell_type": "code",
   "execution_count": 12,
   "metadata": {},
   "outputs": [],
   "source": [
    "df_prices['HourUTC'] = df_prices['HourCET/CEST'].dt.tz_convert('UTC')\n",
    "df_prices['HourOfTheDay'] = df_prices['HourCET/CEST'].dt.hour\n",
    "df_prices['Weekday'] = df_prices['HourCET/CEST'].dt.weekday \n",
    "df_prices['Week'] = df_prices['HourCET/CEST'].dt.isocalendar().week\n",
    "df_prices['Month'] = df_prices['HourCET/CEST'].dt.month\n",
    "df_prices['h'] = 1\n",
    "df_prices['h'] = df_prices.groupby('g_E')['h'].cumsum()\n",
    "df_prices['g_E'] = df_prices['g_E'].str.replace('_','')\n",
    "new_col_order = ['g_E','HourUTC','HourCET/CEST','Month','Week','Weekday','HourOfTheDay','h','Day-AheadPrice_€/MWh']\n",
    "df_prices = df_prices[new_col_order].sort_values(['g_E','h']).reset_index(drop=True)"
   ]
  },
  {
   "cell_type": "code",
   "execution_count": 13,
   "metadata": {},
   "outputs": [],
   "source": [
    "file_path = os.path.join(data_dir,'Day-AheadPrices_'+''.join(df_prices['g_E'].unique().tolist())+'_'+str(year))\n",
    "df_prices.to_pickle(file_path)"
   ]
  },
  {
   "cell_type": "code",
   "execution_count": 14,
   "metadata": {},
   "outputs": [
    {
     "name": "stdout",
     "output_type": "stream",
     "text": [
      "   g_E                   HourUTC              HourCET/CEST  Month  Week  \\\n",
      "0  SE1 2021-12-31 23:00:00+00:00 2022-01-01 00:00:00+01:00      1    52   \n",
      "1  SE1 2022-01-01 00:00:00+00:00 2022-01-01 01:00:00+01:00      1    52   \n",
      "2  SE1 2022-01-01 01:00:00+00:00 2022-01-01 02:00:00+01:00      1    52   \n",
      "3  SE1 2022-01-01 02:00:00+00:00 2022-01-01 03:00:00+01:00      1    52   \n",
      "4  SE1 2022-01-01 03:00:00+00:00 2022-01-01 04:00:00+01:00      1    52   \n",
      "\n",
      "   Weekday  HourOfTheDay  h  Day-AheadPrice_€/MWh  \n",
      "0        5             0  1                 46.60  \n",
      "1        5             1  2                 41.33  \n",
      "2        5             2  3                 42.18  \n",
      "3        5             3  4                 44.37  \n",
      "4        5             4  5                 37.67  \n"
     ]
    }
   ],
   "source": [
    "df_prices_2022 = pd.read_pickle('CleanedData/Day-AheadPrices_SE1SE2SE3SE4_2022')\n",
    "print(df_prices_2022.head())"
   ]
  },
  {
   "cell_type": "markdown",
   "metadata": {},
   "source": [
    "**Day-ahead Prices 2023**\n"
   ]
  },
  {
   "cell_type": "code",
   "execution_count": 15,
   "metadata": {},
   "outputs": [],
   "source": [
    "year = 2023\n",
    "\n",
    "start_str, end_str = str(year)+'-01-01T00',str(year)+'-11-30T23', \n",
    "start_CET = pd.Timestamp(start_str,tz='Europe/Stockholm'); start_UTC = start_CET.tz_convert('UTC')\n",
    "end_CET = pd.Timestamp(end_str,tz='Europe/Stockholm'); end_UTC = end_CET.tz_convert('UTC')\n",
    "h_index = pd.Index(pd.date_range(start_CET,end_CET,freq='H'),name='HourCET/CEST')"
   ]
  },
  {
   "cell_type": "code",
   "execution_count": 16,
   "metadata": {},
   "outputs": [],
   "source": [
    "df_prices = pd.concat([client.query_day_ahead_prices(Area[g], start=start_CET, end=end_CET).reindex(h_index).rename('Day-AheadPrice_€/MWh').to_frame().rename_axis('HourCET/CEST').assign(g_E=g).set_index('g_E',append=True)['Day-AheadPrice_€/MWh'] for g in list(g_area)],axis=0).reset_index()"
   ]
  },
  {
   "cell_type": "code",
   "execution_count": 17,
   "metadata": {},
   "outputs": [],
   "source": [
    "df_prices['HourUTC'] = df_prices['HourCET/CEST'].dt.tz_convert('UTC')\n",
    "df_prices['HourOfTheDay'] = df_prices['HourCET/CEST'].dt.hour\n",
    "df_prices['Weekday'] = df_prices['HourCET/CEST'].dt.weekday \n",
    "df_prices['Week'] = df_prices['HourCET/CEST'].dt.isocalendar().week\n",
    "df_prices['Month'] = df_prices['HourCET/CEST'].dt.month\n",
    "df_prices['h'] = 1\n",
    "df_prices['h'] = df_prices.groupby('g_E')['h'].cumsum()\n",
    "df_prices['g_E'] = df_prices['g_E'].str.replace('_','')\n",
    "new_col_order = ['g_E','HourUTC','HourCET/CEST','Month','Week','Weekday','HourOfTheDay','h','Day-AheadPrice_€/MWh']\n",
    "df_prices = df_prices[new_col_order].sort_values(['g_E','h']).reset_index(drop=True)"
   ]
  },
  {
   "cell_type": "code",
   "execution_count": 18,
   "metadata": {},
   "outputs": [],
   "source": [
    "file_path = os.path.join(data_dir,'Day-AheadPrices_'+''.join(df_prices['g_E'].unique().tolist())+'_'+str(year))\n",
    "df_prices.to_pickle(file_path)"
   ]
  },
  {
   "cell_type": "code",
   "execution_count": 19,
   "metadata": {},
   "outputs": [
    {
     "name": "stdout",
     "output_type": "stream",
     "text": [
      "   g_E                   HourUTC              HourCET/CEST  Month  Week  \\\n",
      "0  SE1 2022-12-31 23:00:00+00:00 2023-01-01 00:00:00+01:00      1    52   \n",
      "1  SE1 2023-01-01 00:00:00+00:00 2023-01-01 01:00:00+01:00      1    52   \n",
      "2  SE1 2023-01-01 01:00:00+00:00 2023-01-01 02:00:00+01:00      1    52   \n",
      "3  SE1 2023-01-01 02:00:00+00:00 2023-01-01 03:00:00+01:00      1    52   \n",
      "4  SE1 2023-01-01 03:00:00+00:00 2023-01-01 04:00:00+01:00      1    52   \n",
      "\n",
      "   Weekday  HourOfTheDay  h  Day-AheadPrice_€/MWh  \n",
      "0        6             0  1                  2.01  \n",
      "1        6             1  2                  1.38  \n",
      "2        6             2  3                  0.09  \n",
      "3        6             3  4                  0.08  \n",
      "4        6             4  5                  0.05  \n"
     ]
    }
   ],
   "source": [
    "df_prices_2023 = pd.read_pickle('CleanedData/Day-AheadPrices_SE1SE2SE3SE4_2023')\n",
    "print(df_prices_2023.head())"
   ]
  },
  {
   "cell_type": "markdown",
   "metadata": {},
   "source": [
    "**Day-Ahead Prices 2021**"
   ]
  },
  {
   "cell_type": "code",
   "execution_count": 20,
   "metadata": {},
   "outputs": [],
   "source": [
    "year = 2021\n",
    "\n",
    "start_str, end_str = str(year)+'-01-01T00',str(year)+'-12-31T23', \n",
    "start_CET = pd.Timestamp(start_str,tz='Europe/Stockholm'); start_UTC = start_CET.tz_convert('UTC')\n",
    "end_CET = pd.Timestamp(end_str,tz='Europe/Stockholm'); end_UTC = end_CET.tz_convert('UTC')\n",
    "h_index = pd.Index(pd.date_range(start_CET,end_CET,freq='H'),name='HourCET/CEST')"
   ]
  },
  {
   "cell_type": "code",
   "execution_count": 21,
   "metadata": {},
   "outputs": [],
   "source": [
    "df_prices = pd.concat([client.query_day_ahead_prices(Area[g], start=start_CET, end=end_CET).reindex(h_index).rename('Day-AheadPrice_€/MWh').to_frame().rename_axis('HourCET/CEST').assign(g_E=g).set_index('g_E',append=True)['Day-AheadPrice_€/MWh'] for g in list(g_area)],axis=0).reset_index()"
   ]
  },
  {
   "cell_type": "code",
   "execution_count": 22,
   "metadata": {},
   "outputs": [],
   "source": [
    "df_prices['HourUTC'] = df_prices['HourCET/CEST'].dt.tz_convert('UTC')\n",
    "df_prices['HourOfTheDay'] = df_prices['HourCET/CEST'].dt.hour\n",
    "df_prices['Weekday'] = df_prices['HourCET/CEST'].dt.weekday \n",
    "df_prices['Week'] = df_prices['HourCET/CEST'].dt.isocalendar().week\n",
    "df_prices['Month'] = df_prices['HourCET/CEST'].dt.month\n",
    "df_prices['h'] = 1\n",
    "df_prices['h'] = df_prices.groupby('g_E')['h'].cumsum()\n",
    "df_prices['g_E'] = df_prices['g_E'].str.replace('_','')\n",
    "new_col_order = ['g_E','HourUTC','HourCET/CEST','Month','Week','Weekday','HourOfTheDay','h','Day-AheadPrice_€/MWh']\n",
    "df_prices = df_prices[new_col_order].sort_values(['g_E','h']).reset_index(drop=True)"
   ]
  },
  {
   "cell_type": "code",
   "execution_count": 23,
   "metadata": {},
   "outputs": [],
   "source": [
    "file_path = os.path.join(data_dir,'Day-AheadPrices_'+''.join(df_prices['g_E'].unique().tolist())+'_'+str(year))\n",
    "df_prices.to_pickle(file_path)"
   ]
  },
  {
   "cell_type": "code",
   "execution_count": 24,
   "metadata": {},
   "outputs": [
    {
     "name": "stdout",
     "output_type": "stream",
     "text": [
      "   g_E                   HourUTC              HourCET/CEST  Month  Week  \\\n",
      "0  SE1 2020-12-31 23:00:00+00:00 2021-01-01 00:00:00+01:00      1    53   \n",
      "1  SE1 2021-01-01 00:00:00+00:00 2021-01-01 01:00:00+01:00      1    53   \n",
      "2  SE1 2021-01-01 01:00:00+00:00 2021-01-01 02:00:00+01:00      1    53   \n",
      "3  SE1 2021-01-01 02:00:00+00:00 2021-01-01 03:00:00+01:00      1    53   \n",
      "4  SE1 2021-01-01 03:00:00+00:00 2021-01-01 04:00:00+01:00      1    53   \n",
      "\n",
      "   Weekday  HourOfTheDay  h  Day-AheadPrice_€/MWh  \n",
      "0        4             0  1                 24.95  \n",
      "1        4             1  2                 24.35  \n",
      "2        4             2  3                 23.98  \n",
      "3        4             3  4                 23.72  \n",
      "4        4             4  5                 23.73  \n"
     ]
    }
   ],
   "source": [
    "df_prices_2021 = pd.read_pickle('CleanedData/Day-AheadPrices_SE1SE2SE3SE4_2021')\n",
    "print(df_prices_2021.head())"
   ]
  },
  {
   "cell_type": "markdown",
   "metadata": {},
   "source": [
    "**Day Ahead Prices 2020**"
   ]
  },
  {
   "cell_type": "code",
   "execution_count": 25,
   "metadata": {},
   "outputs": [],
   "source": [
    "year = 2020\n",
    "\n",
    "start_str, end_str = str(year)+'-01-01T00',str(year)+'-12-31T23', \n",
    "start_CET = pd.Timestamp(start_str,tz='Europe/Stockholm'); start_UTC = start_CET.tz_convert('UTC')\n",
    "end_CET = pd.Timestamp(end_str,tz='Europe/Stockholm'); end_UTC = end_CET.tz_convert('UTC')\n",
    "h_index = pd.Index(pd.date_range(start_CET,end_CET,freq='H'),name='HourCET/CEST')"
   ]
  },
  {
   "cell_type": "code",
   "execution_count": 26,
   "metadata": {},
   "outputs": [],
   "source": [
    "df_prices = pd.concat([client.query_day_ahead_prices(Area[g], start=start_CET, end=end_CET).reindex(h_index).rename('Day-AheadPrice_€/MWh').to_frame().rename_axis('HourCET/CEST').assign(g_E=g).set_index('g_E',append=True)['Day-AheadPrice_€/MWh'] for g in list(g_area)],axis=0).reset_index()"
   ]
  },
  {
   "cell_type": "code",
   "execution_count": 27,
   "metadata": {},
   "outputs": [],
   "source": [
    "df_prices['HourUTC'] = df_prices['HourCET/CEST'].dt.tz_convert('UTC')\n",
    "df_prices['HourOfTheDay'] = df_prices['HourCET/CEST'].dt.hour\n",
    "df_prices['Weekday'] = df_prices['HourCET/CEST'].dt.weekday \n",
    "df_prices['Week'] = df_prices['HourCET/CEST'].dt.isocalendar().week\n",
    "df_prices['Month'] = df_prices['HourCET/CEST'].dt.month\n",
    "df_prices['h'] = 1\n",
    "df_prices['h'] = df_prices.groupby('g_E')['h'].cumsum()\n",
    "df_prices['g_E'] = df_prices['g_E'].str.replace('_','')\n",
    "new_col_order = ['g_E','HourUTC','HourCET/CEST','Month','Week','Weekday','HourOfTheDay','h','Day-AheadPrice_€/MWh']\n",
    "df_prices = df_prices[new_col_order].sort_values(['g_E','h']).reset_index(drop=True)"
   ]
  },
  {
   "cell_type": "code",
   "execution_count": 28,
   "metadata": {},
   "outputs": [],
   "source": [
    "file_path = os.path.join(data_dir,'Day-AheadPrices_'+''.join(df_prices['g_E'].unique().tolist())+'_'+str(year))\n",
    "df_prices.to_pickle(file_path)"
   ]
  },
  {
   "cell_type": "code",
   "execution_count": 29,
   "metadata": {},
   "outputs": [
    {
     "name": "stdout",
     "output_type": "stream",
     "text": [
      "   g_E                   HourUTC              HourCET/CEST  Month  Week  \\\n",
      "0  SE1 2019-12-31 23:00:00+00:00 2020-01-01 00:00:00+01:00      1     1   \n",
      "1  SE1 2020-01-01 00:00:00+00:00 2020-01-01 01:00:00+01:00      1     1   \n",
      "2  SE1 2020-01-01 01:00:00+00:00 2020-01-01 02:00:00+01:00      1     1   \n",
      "3  SE1 2020-01-01 02:00:00+00:00 2020-01-01 03:00:00+01:00      1     1   \n",
      "4  SE1 2020-01-01 03:00:00+00:00 2020-01-01 04:00:00+01:00      1     1   \n",
      "\n",
      "   Weekday  HourOfTheDay  h  Day-AheadPrice_€/MWh  \n",
      "0        2             0  1                 28.78  \n",
      "1        2             1  2                 28.45  \n",
      "2        2             2  3                 27.90  \n",
      "3        2             3  4                 27.52  \n",
      "4        2             4  5                 27.54  \n"
     ]
    }
   ],
   "source": [
    "df = pd.read_pickle('CleanedData/Day-AheadPrices_SE1SE2SE3SE4_2020')\n",
    "print(df.head())"
   ]
  },
  {
   "cell_type": "markdown",
   "metadata": {},
   "source": [
    "**Day Ahead Prices 2019**"
   ]
  },
  {
   "cell_type": "code",
   "execution_count": 30,
   "metadata": {},
   "outputs": [],
   "source": [
    "year = 2019\n",
    "\n",
    "start_str, end_str = str(year)+'-01-01T00',str(year)+'-12-31T23', \n",
    "start_CET = pd.Timestamp(start_str,tz='Europe/Stockholm'); start_UTC = start_CET.tz_convert('UTC')\n",
    "end_CET = pd.Timestamp(end_str,tz='Europe/Stockholm'); end_UTC = end_CET.tz_convert('UTC')\n",
    "h_index = pd.Index(pd.date_range(start_CET,end_CET,freq='H'),name='HourCET/CEST')"
   ]
  },
  {
   "cell_type": "code",
   "execution_count": 31,
   "metadata": {},
   "outputs": [],
   "source": [
    "df_prices = pd.concat([client.query_day_ahead_prices(Area[g], start=start_CET, end=end_CET).reindex(h_index).rename('Day-AheadPrice_€/MWh').to_frame().rename_axis('HourCET/CEST').assign(g_E=g).set_index('g_E',append=True)['Day-AheadPrice_€/MWh'] for g in list(g_area)],axis=0).reset_index()"
   ]
  },
  {
   "cell_type": "code",
   "execution_count": 32,
   "metadata": {},
   "outputs": [],
   "source": [
    "df_prices['HourUTC'] = df_prices['HourCET/CEST'].dt.tz_convert('UTC')\n",
    "df_prices['HourOfTheDay'] = df_prices['HourCET/CEST'].dt.hour\n",
    "df_prices['Weekday'] = df_prices['HourCET/CEST'].dt.weekday \n",
    "df_prices['Week'] = df_prices['HourCET/CEST'].dt.isocalendar().week\n",
    "df_prices['Month'] = df_prices['HourCET/CEST'].dt.month\n",
    "df_prices['h'] = 1\n",
    "df_prices['h'] = df_prices.groupby('g_E')['h'].cumsum()\n",
    "df_prices['g_E'] = df_prices['g_E'].str.replace('_','')\n",
    "new_col_order = ['g_E','HourUTC','HourCET/CEST','Month','Week','Weekday','HourOfTheDay','h','Day-AheadPrice_€/MWh']\n",
    "df_prices = df_prices[new_col_order].sort_values(['g_E','h']).reset_index(drop=True)"
   ]
  },
  {
   "cell_type": "code",
   "execution_count": 33,
   "metadata": {},
   "outputs": [],
   "source": [
    "file_path = os.path.join(data_dir,'Day-AheadPrices_'+''.join(df_prices['g_E'].unique().tolist())+'_'+str(year))\n",
    "df_prices.to_pickle(file_path)"
   ]
  },
  {
   "cell_type": "code",
   "execution_count": 34,
   "metadata": {},
   "outputs": [
    {
     "name": "stdout",
     "output_type": "stream",
     "text": [
      "   g_E                   HourUTC              HourCET/CEST  Month  Week  \\\n",
      "0  SE1 2018-12-31 23:00:00+00:00 2019-01-01 00:00:00+01:00      1     1   \n",
      "1  SE1 2019-01-01 00:00:00+00:00 2019-01-01 01:00:00+01:00      1     1   \n",
      "2  SE1 2019-01-01 01:00:00+00:00 2019-01-01 02:00:00+01:00      1     1   \n",
      "3  SE1 2019-01-01 02:00:00+00:00 2019-01-01 03:00:00+01:00      1     1   \n",
      "4  SE1 2019-01-01 03:00:00+00:00 2019-01-01 04:00:00+01:00      1     1   \n",
      "\n",
      "   Weekday  HourOfTheDay  h  Day-AheadPrice_€/MWh  \n",
      "0        1             0  1                 28.32  \n",
      "1        1             1  2                 10.07  \n",
      "2        1             2  3                 10.03  \n",
      "3        1             3  4                  4.56  \n",
      "4        1             4  5                  4.83  \n"
     ]
    }
   ],
   "source": [
    "df = pd.read_pickle('CleanedData/Day-AheadPrices_SE1SE2SE3SE4_2019')\n",
    "print(df.head())"
   ]
  },
  {
   "cell_type": "markdown",
   "metadata": {},
   "source": [
    "**Day Ahead Prices 2018**"
   ]
  },
  {
   "cell_type": "code",
   "execution_count": 35,
   "metadata": {},
   "outputs": [],
   "source": [
    "year = 2018\n",
    "\n",
    "start_str, end_str = str(year)+'-01-01T00',str(year)+'-12-31T23', \n",
    "start_CET = pd.Timestamp(start_str,tz='Europe/Stockholm'); start_UTC = start_CET.tz_convert('UTC')\n",
    "end_CET = pd.Timestamp(end_str,tz='Europe/Stockholm'); end_UTC = end_CET.tz_convert('UTC')\n",
    "h_index = pd.Index(pd.date_range(start_CET,end_CET,freq='H'),name='HourCET/CEST')"
   ]
  },
  {
   "cell_type": "code",
   "execution_count": 36,
   "metadata": {},
   "outputs": [],
   "source": [
    "df_prices = pd.concat([client.query_day_ahead_prices(Area[g], start=start_CET, end=end_CET).reindex(h_index).rename('Day-AheadPrice_€/MWh').to_frame().rename_axis('HourCET/CEST').assign(g_E=g).set_index('g_E',append=True)['Day-AheadPrice_€/MWh'] for g in list(g_area)],axis=0).reset_index()"
   ]
  },
  {
   "cell_type": "code",
   "execution_count": 37,
   "metadata": {},
   "outputs": [],
   "source": [
    "df_prices['HourUTC'] = df_prices['HourCET/CEST'].dt.tz_convert('UTC')\n",
    "df_prices['HourOfTheDay'] = df_prices['HourCET/CEST'].dt.hour\n",
    "df_prices['Weekday'] = df_prices['HourCET/CEST'].dt.weekday \n",
    "df_prices['Week'] = df_prices['HourCET/CEST'].dt.isocalendar().week\n",
    "df_prices['Month'] = df_prices['HourCET/CEST'].dt.month\n",
    "df_prices['h'] = 1\n",
    "df_prices['h'] = df_prices.groupby('g_E')['h'].cumsum()\n",
    "df_prices['g_E'] = df_prices['g_E'].str.replace('_','')\n",
    "new_col_order = ['g_E','HourUTC','HourCET/CEST','Month','Week','Weekday','HourOfTheDay','h','Day-AheadPrice_€/MWh']\n",
    "df_prices = df_prices[new_col_order].sort_values(['g_E','h']).reset_index(drop=True)"
   ]
  },
  {
   "cell_type": "code",
   "execution_count": 38,
   "metadata": {},
   "outputs": [],
   "source": [
    "file_path = os.path.join(data_dir,'Day-AheadPrices_'+''.join(df_prices['g_E'].unique().tolist())+'_'+str(year))\n",
    "df_prices.to_pickle(file_path)"
   ]
  },
  {
   "cell_type": "code",
   "execution_count": 39,
   "metadata": {},
   "outputs": [
    {
     "name": "stdout",
     "output_type": "stream",
     "text": [
      "   g_E                   HourUTC              HourCET/CEST  Month  Week  \\\n",
      "0  SE1 2017-12-31 23:00:00+00:00 2018-01-01 00:00:00+01:00      1     1   \n",
      "1  SE1 2018-01-01 00:00:00+00:00 2018-01-01 01:00:00+01:00      1     1   \n",
      "2  SE1 2018-01-01 01:00:00+00:00 2018-01-01 02:00:00+01:00      1     1   \n",
      "3  SE1 2018-01-01 02:00:00+00:00 2018-01-01 03:00:00+01:00      1     1   \n",
      "4  SE1 2018-01-01 03:00:00+00:00 2018-01-01 04:00:00+01:00      1     1   \n",
      "\n",
      "   Weekday  HourOfTheDay  h  Day-AheadPrice_€/MWh  \n",
      "0        0             0  1                 26.33  \n",
      "1        0             1  2                 26.43  \n",
      "2        0             2  3                 26.10  \n",
      "3        0             3  4                 24.70  \n",
      "4        0             4  5                 24.74  \n"
     ]
    }
   ],
   "source": [
    "df = pd.read_pickle('CleanedData/Day-AheadPrices_SE1SE2SE3SE4_2018')\n",
    "print(df.head())"
   ]
  },
  {
   "cell_type": "markdown",
   "metadata": {},
   "source": [
    "**Day Ahead Prices 2017**"
   ]
  },
  {
   "cell_type": "code",
   "execution_count": 40,
   "metadata": {},
   "outputs": [],
   "source": [
    "year = 2017\n",
    "\n",
    "start_str, end_str = str(year)+'-01-01T00',str(year)+'-12-31T23', \n",
    "start_CET = pd.Timestamp(start_str,tz='Europe/Stockholm'); start_UTC = start_CET.tz_convert('UTC')\n",
    "end_CET = pd.Timestamp(end_str,tz='Europe/Stockholm'); end_UTC = end_CET.tz_convert('UTC')\n",
    "h_index = pd.Index(pd.date_range(start_CET,end_CET,freq='H'),name='HourCET/CEST')"
   ]
  },
  {
   "cell_type": "code",
   "execution_count": 41,
   "metadata": {},
   "outputs": [],
   "source": [
    "df_prices = pd.concat([client.query_day_ahead_prices(Area[g], start=start_CET, end=end_CET).reindex(h_index).rename('Day-AheadPrice_€/MWh').to_frame().rename_axis('HourCET/CEST').assign(g_E=g).set_index('g_E',append=True)['Day-AheadPrice_€/MWh'] for g in list(g_area)],axis=0).reset_index()"
   ]
  },
  {
   "cell_type": "code",
   "execution_count": 42,
   "metadata": {},
   "outputs": [],
   "source": [
    "df_prices['HourUTC'] = df_prices['HourCET/CEST'].dt.tz_convert('UTC')\n",
    "df_prices['HourOfTheDay'] = df_prices['HourCET/CEST'].dt.hour\n",
    "df_prices['Weekday'] = df_prices['HourCET/CEST'].dt.weekday \n",
    "df_prices['Week'] = df_prices['HourCET/CEST'].dt.isocalendar().week\n",
    "df_prices['Month'] = df_prices['HourCET/CEST'].dt.month\n",
    "df_prices['h'] = 1\n",
    "df_prices['h'] = df_prices.groupby('g_E')['h'].cumsum()\n",
    "df_prices['g_E'] = df_prices['g_E'].str.replace('_','')\n",
    "new_col_order = ['g_E','HourUTC','HourCET/CEST','Month','Week','Weekday','HourOfTheDay','h','Day-AheadPrice_€/MWh']\n",
    "df_prices = df_prices[new_col_order].sort_values(['g_E','h']).reset_index(drop=True)"
   ]
  },
  {
   "cell_type": "code",
   "execution_count": 43,
   "metadata": {},
   "outputs": [],
   "source": [
    "file_path = os.path.join(data_dir,'Day-AheadPrices_'+''.join(df_prices['g_E'].unique().tolist())+'_'+str(year))\n",
    "df_prices.to_pickle(file_path)"
   ]
  },
  {
   "cell_type": "code",
   "execution_count": 44,
   "metadata": {},
   "outputs": [
    {
     "name": "stdout",
     "output_type": "stream",
     "text": [
      "   g_E                   HourUTC              HourCET/CEST  Month  Week  \\\n",
      "0  SE1 2016-12-31 23:00:00+00:00 2017-01-01 00:00:00+01:00      1    52   \n",
      "1  SE1 2017-01-01 00:00:00+00:00 2017-01-01 01:00:00+01:00      1    52   \n",
      "2  SE1 2017-01-01 01:00:00+00:00 2017-01-01 02:00:00+01:00      1    52   \n",
      "3  SE1 2017-01-01 02:00:00+00:00 2017-01-01 03:00:00+01:00      1    52   \n",
      "4  SE1 2017-01-01 03:00:00+00:00 2017-01-01 04:00:00+01:00      1    52   \n",
      "\n",
      "   Weekday  HourOfTheDay  h  Day-AheadPrice_€/MWh  \n",
      "0        6             0  1                 24.03  \n",
      "1        6             1  2                 24.03  \n",
      "2        6             2  3                 24.02  \n",
      "3        6             3  4                 23.19  \n",
      "4        6             4  5                 24.10  \n"
     ]
    }
   ],
   "source": [
    "df = pd.read_pickle('CleanedData/Day-AheadPrices_SE1SE2SE3SE4_2017')\n",
    "print(df.head())"
   ]
  },
  {
   "cell_type": "markdown",
   "metadata": {},
   "source": [
    "**Day Ahead Prices 2016**"
   ]
  },
  {
   "cell_type": "code",
   "execution_count": 45,
   "metadata": {},
   "outputs": [],
   "source": [
    "year = 2016\n",
    "\n",
    "start_str, end_str = str(year)+'-01-01T00',str(year)+'-12-31T23', \n",
    "start_CET = pd.Timestamp(start_str,tz='Europe/Stockholm'); start_UTC = start_CET.tz_convert('UTC')\n",
    "end_CET = pd.Timestamp(end_str,tz='Europe/Stockholm'); end_UTC = end_CET.tz_convert('UTC')\n",
    "h_index = pd.Index(pd.date_range(start_CET,end_CET,freq='H'),name='HourCET/CEST')"
   ]
  },
  {
   "cell_type": "code",
   "execution_count": 46,
   "metadata": {},
   "outputs": [],
   "source": [
    "df_prices = pd.concat([client.query_day_ahead_prices(Area[g], start=start_CET, end=end_CET).reindex(h_index).rename('Day-AheadPrice_€/MWh').to_frame().rename_axis('HourCET/CEST').assign(g_E=g).set_index('g_E',append=True)['Day-AheadPrice_€/MWh'] for g in list(g_area)],axis=0).reset_index()"
   ]
  },
  {
   "cell_type": "code",
   "execution_count": 47,
   "metadata": {},
   "outputs": [],
   "source": [
    "df_prices['HourUTC'] = df_prices['HourCET/CEST'].dt.tz_convert('UTC')\n",
    "df_prices['HourOfTheDay'] = df_prices['HourCET/CEST'].dt.hour\n",
    "df_prices['Weekday'] = df_prices['HourCET/CEST'].dt.weekday \n",
    "df_prices['Week'] = df_prices['HourCET/CEST'].dt.isocalendar().week\n",
    "df_prices['Month'] = df_prices['HourCET/CEST'].dt.month\n",
    "df_prices['h'] = 1\n",
    "df_prices['h'] = df_prices.groupby('g_E')['h'].cumsum()\n",
    "df_prices['g_E'] = df_prices['g_E'].str.replace('_','')\n",
    "new_col_order = ['g_E','HourUTC','HourCET/CEST','Month','Week','Weekday','HourOfTheDay','h','Day-AheadPrice_€/MWh']\n",
    "df_prices = df_prices[new_col_order].sort_values(['g_E','h']).reset_index(drop=True)"
   ]
  },
  {
   "cell_type": "code",
   "execution_count": 48,
   "metadata": {},
   "outputs": [],
   "source": [
    "file_path = os.path.join(data_dir,'Day-AheadPrices_'+''.join(df_prices['g_E'].unique().tolist())+'_'+str(year))\n",
    "df_prices.to_pickle(file_path)"
   ]
  },
  {
   "cell_type": "code",
   "execution_count": 49,
   "metadata": {},
   "outputs": [
    {
     "name": "stdout",
     "output_type": "stream",
     "text": [
      "   g_E                   HourUTC              HourCET/CEST  Month  Week  \\\n",
      "0  SE1 2015-12-31 23:00:00+00:00 2016-01-01 00:00:00+01:00      1    53   \n",
      "1  SE1 2016-01-01 00:00:00+00:00 2016-01-01 01:00:00+01:00      1    53   \n",
      "2  SE1 2016-01-01 01:00:00+00:00 2016-01-01 02:00:00+01:00      1    53   \n",
      "3  SE1 2016-01-01 02:00:00+00:00 2016-01-01 03:00:00+01:00      1    53   \n",
      "4  SE1 2016-01-01 03:00:00+00:00 2016-01-01 04:00:00+01:00      1    53   \n",
      "\n",
      "   Weekday  HourOfTheDay  h  Day-AheadPrice_€/MWh  \n",
      "0        4             0  1                 16.39  \n",
      "1        4             1  2                 16.04  \n",
      "2        4             2  3                 15.74  \n",
      "3        4             3  4                 15.57  \n",
      "4        4             4  5                 15.47  \n"
     ]
    }
   ],
   "source": [
    "df = pd.read_pickle('CleanedData/Day-AheadPrices_SE1SE2SE3SE4_2016')\n",
    "print(df.head())"
   ]
  },
  {
   "cell_type": "markdown",
   "metadata": {},
   "source": [
    "**Day Ahead Prices 2015**"
   ]
  },
  {
   "cell_type": "code",
   "execution_count": 50,
   "metadata": {},
   "outputs": [],
   "source": [
    "year = 2015\n",
    "\n",
    "start_str, end_str = str(year)+'-01-01T00',str(year)+'-12-31T23', \n",
    "start_CET = pd.Timestamp(start_str,tz='Europe/Stockholm'); start_UTC = start_CET.tz_convert('UTC')\n",
    "end_CET = pd.Timestamp(end_str,tz='Europe/Stockholm'); end_UTC = end_CET.tz_convert('UTC')\n",
    "h_index = pd.Index(pd.date_range(start_CET,end_CET,freq='H'),name='HourCET/CEST')"
   ]
  },
  {
   "cell_type": "code",
   "execution_count": 51,
   "metadata": {},
   "outputs": [],
   "source": [
    "df_prices = pd.concat([client.query_day_ahead_prices(Area[g], start=start_CET, end=end_CET).reindex(h_index).rename('Day-AheadPrice_€/MWh').to_frame().rename_axis('HourCET/CEST').assign(g_E=g).set_index('g_E',append=True)['Day-AheadPrice_€/MWh'] for g in list(g_area)],axis=0).reset_index()"
   ]
  },
  {
   "cell_type": "code",
   "execution_count": 52,
   "metadata": {},
   "outputs": [],
   "source": [
    "df_prices['HourUTC'] = df_prices['HourCET/CEST'].dt.tz_convert('UTC')\n",
    "df_prices['HourOfTheDay'] = df_prices['HourCET/CEST'].dt.hour\n",
    "df_prices['Weekday'] = df_prices['HourCET/CEST'].dt.weekday \n",
    "df_prices['Week'] = df_prices['HourCET/CEST'].dt.isocalendar().week\n",
    "df_prices['Month'] = df_prices['HourCET/CEST'].dt.month\n",
    "df_prices['h'] = 1\n",
    "df_prices['h'] = df_prices.groupby('g_E')['h'].cumsum()\n",
    "df_prices['g_E'] = df_prices['g_E'].str.replace('_','')\n",
    "new_col_order = ['g_E','HourUTC','HourCET/CEST','Month','Week','Weekday','HourOfTheDay','h','Day-AheadPrice_€/MWh']\n",
    "df_prices = df_prices[new_col_order].sort_values(['g_E','h']).reset_index(drop=True)"
   ]
  },
  {
   "cell_type": "code",
   "execution_count": 53,
   "metadata": {},
   "outputs": [],
   "source": [
    "file_path = os.path.join(data_dir,'Day-AheadPrices_'+''.join(df_prices['g_E'].unique().tolist())+'_'+str(year))\n",
    "df_prices.to_pickle(file_path)"
   ]
  },
  {
   "cell_type": "code",
   "execution_count": 54,
   "metadata": {},
   "outputs": [
    {
     "name": "stdout",
     "output_type": "stream",
     "text": [
      "   g_E                   HourUTC              HourCET/CEST  Month  Week  \\\n",
      "0  SE1 2014-12-31 23:00:00+00:00 2015-01-01 00:00:00+01:00      1     1   \n",
      "1  SE1 2015-01-01 00:00:00+00:00 2015-01-01 01:00:00+01:00      1     1   \n",
      "2  SE1 2015-01-01 01:00:00+00:00 2015-01-01 02:00:00+01:00      1     1   \n",
      "3  SE1 2015-01-01 02:00:00+00:00 2015-01-01 03:00:00+01:00      1     1   \n",
      "4  SE1 2015-01-01 03:00:00+00:00 2015-01-01 04:00:00+01:00      1     1   \n",
      "\n",
      "   Weekday  HourOfTheDay  h  Day-AheadPrice_€/MWh  \n",
      "0        3             0  1                 27.38  \n",
      "1        3             1  2                 23.37  \n",
      "2        3             2  3                 19.33  \n",
      "3        3             3  4                 17.66  \n",
      "4        3             4  5                 17.53  \n"
     ]
    }
   ],
   "source": [
    "df = pd.read_pickle('CleanedData/Day-AheadPrices_SE1SE2SE3SE4_2015')\n",
    "print(df.head())"
   ]
  },
  {
   "cell_type": "markdown",
   "metadata": {},
   "source": [
    "### Generation Forecast Hydro Power"
   ]
  },
  {
   "cell_type": "markdown",
   "metadata": {},
   "source": [
    "**2022**"
   ]
  },
  {
   "cell_type": "code",
   "execution_count": 55,
   "metadata": {},
   "outputs": [],
   "source": [
    "year = 2022\n",
    "\n",
    "start_str, end_str = str(year)+'-01-01T00',str(year)+'-12-31T23', \n",
    "start_CET = pd.Timestamp(start_str,tz='Europe/Stockholm'); start_UTC = start_CET.tz_convert('UTC')\n",
    "end_CET = pd.Timestamp(end_str,tz='Europe/Stockholm'); end_UTC = end_CET.tz_convert('UTC')\n",
    "h_index = pd.Index(pd.date_range(start_CET,end_CET,freq='H'),name='HourCET/CEST')"
   ]
  },
  {
   "cell_type": "code",
   "execution_count": 56,
   "metadata": {},
   "outputs": [
    {
     "name": "stdout",
     "output_type": "stream",
     "text": [
      "                           Hydro Water Reservoir  Other  Solar  Wind Onshore\n",
      "2022-01-01 00:00:00+01:00                 2665.0   37.0    0.0        1181.0\n",
      "2022-01-01 01:00:00+01:00                 2412.0   37.0    0.0        1223.0\n",
      "2022-01-01 02:00:00+01:00                 2386.0   37.0    0.0        1245.0\n",
      "2022-01-01 03:00:00+01:00                 2403.0   39.0    0.0        1263.0\n",
      "2022-01-01 04:00:00+01:00                 2310.0   39.0    0.0        1270.0\n"
     ]
    }
   ],
   "source": [
    "# Get the first DataFrame returned by the query\n",
    "df_generation = client.query_generation(Area.SE_1, start=start_CET,end=end_CET, process_type='A01')\n",
    "\n",
    "# Check the name of the first column\n",
    "print(df_generation.head())\n"
   ]
  },
  {
   "cell_type": "code",
   "execution_count": 57,
   "metadata": {},
   "outputs": [],
   "source": [
    "df_generation = pd.concat([\n",
    "    pd.concat([client.query_generation(Area[x], start=start_CET,end=end_CET, process_type='A01').rename_axis('HourCET/CEST').reindex(h_index).assign(g_E = x).set_index('g_E',append=True)['Hydro Water Reservoir'].rename('HydroWaterReservoir_MWh') for x in g_area],axis=0),\n",
    "],axis=1).reset_index()"
   ]
  },
  {
   "cell_type": "code",
   "execution_count": 58,
   "metadata": {},
   "outputs": [
    {
     "name": "stdout",
     "output_type": "stream",
     "text": [
      "               HourCET/CEST   g_E  HydroWaterReservoir_MWh\n",
      "0 2022-01-01 00:00:00+01:00  SE_1                   2665.0\n",
      "1 2022-01-01 01:00:00+01:00  SE_1                   2412.0\n",
      "2 2022-01-01 02:00:00+01:00  SE_1                   2386.0\n",
      "3 2022-01-01 03:00:00+01:00  SE_1                   2403.0\n",
      "4 2022-01-01 04:00:00+01:00  SE_1                   2310.0\n"
     ]
    }
   ],
   "source": [
    "print(df_generation.head())"
   ]
  },
  {
   "cell_type": "code",
   "execution_count": 59,
   "metadata": {},
   "outputs": [
    {
     "name": "stdout",
     "output_type": "stream",
     "text": [
      "0        2665.0\n",
      "1        2412.0\n",
      "2        2386.0\n",
      "3        2403.0\n",
      "4        2310.0\n",
      "          ...  \n",
      "35035     177.0\n",
      "35036     177.0\n",
      "35037     176.0\n",
      "35038     176.0\n",
      "35039       NaN\n",
      "Name: HydroWaterReservoir_MWh, Length: 35040, dtype: float64\n"
     ]
    }
   ],
   "source": [
    "print(df_generation['HydroWaterReservoir_MWh'])"
   ]
  },
  {
   "cell_type": "code",
   "execution_count": 60,
   "metadata": {},
   "outputs": [],
   "source": [
    "df_generation['HourUTC'] = df_generation['HourCET/CEST'].dt.tz_convert('UTC')\n",
    "df_generation['HourOfTheDay'] = df_generation['HourCET/CEST'].dt.hour\n",
    "df_generation['Weekday'] = df_generation['HourCET/CEST'].dt.weekday \n",
    "df_generation['Week'] = df_generation['HourCET/CEST'].dt.isocalendar().week\n",
    "df_generation['Month'] = df_generation['HourCET/CEST'].dt.month\n",
    "df_generation['h'] = 1\n",
    "df_generation['h'] = df_generation.groupby('g_E')['h'].cumsum()\n",
    "df_generation['g_E'] = df_generation['g_E'].str.replace('_','')\n",
    "new_col_order = ['g_E','HourUTC','HourCET/CEST','Month','Week','Weekday','HourOfTheDay','h','HydroWaterReservoir_MWh']\n",
    "df_generation = df_generation[new_col_order].sort_values(['g_E','h']).reset_index(drop=True)"
   ]
  },
  {
   "cell_type": "code",
   "execution_count": 61,
   "metadata": {},
   "outputs": [],
   "source": [
    "file_path = os.path.join(data_dir,'HydroWaterReservoir_MWh_'+''.join(df_prices['g_E'].unique().tolist())+'_'+str(year))\n",
    "df_generation.to_pickle(file_path)"
   ]
  },
  {
   "cell_type": "code",
   "execution_count": 62,
   "metadata": {},
   "outputs": [
    {
     "name": "stdout",
     "output_type": "stream",
     "text": [
      "   g_E                   HourUTC              HourCET/CEST  Month  Week  \\\n",
      "0  SE1 2021-12-31 23:00:00+00:00 2022-01-01 00:00:00+01:00      1    52   \n",
      "1  SE1 2022-01-01 00:00:00+00:00 2022-01-01 01:00:00+01:00      1    52   \n",
      "2  SE1 2022-01-01 01:00:00+00:00 2022-01-01 02:00:00+01:00      1    52   \n",
      "3  SE1 2022-01-01 02:00:00+00:00 2022-01-01 03:00:00+01:00      1    52   \n",
      "4  SE1 2022-01-01 03:00:00+00:00 2022-01-01 04:00:00+01:00      1    52   \n",
      "\n",
      "   Weekday  HourOfTheDay  h  HydroWaterReservoir_MWh  \n",
      "0        5             0  1                   2665.0  \n",
      "1        5             1  2                   2412.0  \n",
      "2        5             2  3                   2386.0  \n",
      "3        5             3  4                   2403.0  \n",
      "4        5             4  5                   2310.0  \n"
     ]
    }
   ],
   "source": [
    "df_gen_hydro_2022 = pd.read_pickle('CleanedData/HydroWaterReservoir_MWh_SE1SE2SE3SE4_2022')\n",
    "print(df_gen_hydro_2022.head())"
   ]
  },
  {
   "cell_type": "markdown",
   "metadata": {},
   "source": [
    "**2023**"
   ]
  },
  {
   "cell_type": "code",
   "execution_count": 63,
   "metadata": {},
   "outputs": [],
   "source": [
    "year = 2023\n",
    "\n",
    "start_str, end_str = str(year)+'-01-01T00',str(year)+'-11-30T23', \n",
    "start_CET = pd.Timestamp(start_str,tz='Europe/Stockholm'); start_UTC = start_CET.tz_convert('UTC')\n",
    "end_CET = pd.Timestamp(end_str,tz='Europe/Stockholm'); end_UTC = end_CET.tz_convert('UTC')\n",
    "h_index = pd.Index(pd.date_range(start_CET,end_CET,freq='H'),name='HourCET/CEST')"
   ]
  },
  {
   "cell_type": "code",
   "execution_count": 64,
   "metadata": {},
   "outputs": [],
   "source": [
    "df_generation = pd.concat([\n",
    "    pd.concat([client.query_generation(Area[x], start=start_CET,end=end_CET, process_type='A01').rename_axis('HourCET/CEST').reindex(h_index).assign(g_E = x).set_index('g_E',append=True)['Hydro Water Reservoir'].rename('HydroWaterReservoir_MWh') for x in g_area],axis=0),\n",
    "],axis=1).reset_index()"
   ]
  },
  {
   "cell_type": "code",
   "execution_count": 65,
   "metadata": {},
   "outputs": [
    {
     "name": "stdout",
     "output_type": "stream",
     "text": [
      "               HourCET/CEST   g_E  HydroWaterReservoir_MWh\n",
      "0 2023-01-01 00:00:00+01:00  SE_1                    767.0\n",
      "1 2023-01-01 01:00:00+01:00  SE_1                    776.0\n",
      "2 2023-01-01 02:00:00+01:00  SE_1                    771.0\n",
      "3 2023-01-01 03:00:00+01:00  SE_1                    781.0\n",
      "4 2023-01-01 04:00:00+01:00  SE_1                    791.0\n"
     ]
    }
   ],
   "source": [
    "print(df_generation.head())"
   ]
  },
  {
   "cell_type": "code",
   "execution_count": 66,
   "metadata": {},
   "outputs": [],
   "source": [
    "df_generation['HourUTC'] = df_generation['HourCET/CEST'].dt.tz_convert('UTC')\n",
    "df_generation['HourOfTheDay'] = df_generation['HourCET/CEST'].dt.hour\n",
    "df_generation['Weekday'] = df_generation['HourCET/CEST'].dt.weekday \n",
    "df_generation['Week'] = df_generation['HourCET/CEST'].dt.isocalendar().week\n",
    "df_generation['Month'] = df_generation['HourCET/CEST'].dt.month\n",
    "df_generation['h'] = 1\n",
    "df_generation['h'] = df_generation.groupby('g_E')['h'].cumsum()\n",
    "df_generation['g_E'] = df_generation['g_E'].str.replace('_','')\n",
    "new_col_order = ['g_E','HourUTC','HourCET/CEST','Month','Week','Weekday','HourOfTheDay','h','HydroWaterReservoir_MWh']\n",
    "df_generation = df_generation[new_col_order].sort_values(['g_E','h']).reset_index(drop=True)"
   ]
  },
  {
   "cell_type": "code",
   "execution_count": 67,
   "metadata": {},
   "outputs": [],
   "source": [
    "file_path = os.path.join(data_dir,'HydroWaterReservoir_MWh_'+''.join(df_prices['g_E'].unique().tolist())+'_'+str(year))\n",
    "df_generation.to_pickle(file_path)"
   ]
  },
  {
   "cell_type": "code",
   "execution_count": 68,
   "metadata": {},
   "outputs": [
    {
     "name": "stdout",
     "output_type": "stream",
     "text": [
      "   g_E                   HourUTC              HourCET/CEST  Month  Week  \\\n",
      "0  SE1 2022-12-31 23:00:00+00:00 2023-01-01 00:00:00+01:00      1    52   \n",
      "1  SE1 2023-01-01 00:00:00+00:00 2023-01-01 01:00:00+01:00      1    52   \n",
      "2  SE1 2023-01-01 01:00:00+00:00 2023-01-01 02:00:00+01:00      1    52   \n",
      "3  SE1 2023-01-01 02:00:00+00:00 2023-01-01 03:00:00+01:00      1    52   \n",
      "4  SE1 2023-01-01 03:00:00+00:00 2023-01-01 04:00:00+01:00      1    52   \n",
      "\n",
      "   Weekday  HourOfTheDay  h  HydroWaterReservoir_MWh  \n",
      "0        6             0  1                    767.0  \n",
      "1        6             1  2                    776.0  \n",
      "2        6             2  3                    771.0  \n",
      "3        6             3  4                    781.0  \n",
      "4        6             4  5                    791.0  \n"
     ]
    }
   ],
   "source": [
    "df_gen_hydro_2023 = pd.read_pickle('CleanedData/HydroWaterReservoir_MWh_SE1SE2SE3SE4_2023')\n",
    "print(df_gen_hydro_2023.head())"
   ]
  },
  {
   "cell_type": "markdown",
   "metadata": {},
   "source": [
    "### Day-Ahead Load"
   ]
  },
  {
   "cell_type": "markdown",
   "metadata": {},
   "source": [
    "**2022**"
   ]
  },
  {
   "cell_type": "code",
   "execution_count": 69,
   "metadata": {},
   "outputs": [],
   "source": [
    "year = 2022\n",
    "\n",
    "start_str, end_str = str(year)+'-01-01T00',str(year)+'-12-31T23', \n",
    "start_CET = pd.Timestamp(start_str,tz='Europe/Stockholm'); start_UTC = start_CET.tz_convert('UTC')\n",
    "end_CET = pd.Timestamp(end_str,tz='Europe/Stockholm'); end_UTC = end_CET.tz_convert('UTC')\n",
    "h_index = pd.Index(pd.date_range(start_CET,end_CET,freq='H'),name='HourCET/CEST')"
   ]
  },
  {
   "cell_type": "code",
   "execution_count": 70,
   "metadata": {},
   "outputs": [
    {
     "name": "stdout",
     "output_type": "stream",
     "text": [
      "                           Forecasted Load\n",
      "2022-01-01 00:00:00+01:00           1309.0\n",
      "2022-01-01 01:00:00+01:00           1308.0\n",
      "2022-01-01 02:00:00+01:00           1298.0\n",
      "2022-01-01 03:00:00+01:00           1284.0\n",
      "2022-01-01 04:00:00+01:00           1295.0\n"
     ]
    }
   ],
   "source": [
    "# Get the first DataFrame returned by the query\n",
    "df_generation = client.query_load_forecast(Area.SE_1, start=start_CET,end=end_CET, process_type='A01')\n",
    "\n",
    "# Check the name of the first column\n",
    "print(df_generation.head())"
   ]
  },
  {
   "cell_type": "code",
   "execution_count": 71,
   "metadata": {},
   "outputs": [],
   "source": [
    "df_generation = pd.concat([\n",
    "    pd.concat([client.query_load_forecast(Area[x], start=start_CET,end=end_CET, process_type='A01').rename_axis('HourCET/CEST').reindex(h_index).assign(g_E = x).set_index('g_E',append=True)['Forecasted Load'].rename('ForecastedLoad_MWh') for x in g_area],axis=0),\n",
    "],axis=1).reset_index()"
   ]
  },
  {
   "cell_type": "code",
   "execution_count": 72,
   "metadata": {},
   "outputs": [],
   "source": [
    "df_generation['HourUTC'] = df_generation['HourCET/CEST'].dt.tz_convert('UTC')\n",
    "df_generation['HourOfTheDay'] = df_generation['HourCET/CEST'].dt.hour\n",
    "df_generation['Weekday'] = df_generation['HourCET/CEST'].dt.weekday \n",
    "df_generation['Week'] = df_generation['HourCET/CEST'].dt.isocalendar().week\n",
    "df_generation['Month'] = df_generation['HourCET/CEST'].dt.month\n",
    "df_generation['h'] = 1\n",
    "df_generation['h'] = df_generation.groupby('g_E')['h'].cumsum()\n",
    "df_generation['g_E'] = df_generation['g_E'].str.replace('_','')\n",
    "new_col_order = ['g_E','HourUTC','HourCET/CEST','Month','Week','Weekday','HourOfTheDay','h','ForecastedLoad_MWh']\n",
    "df_generation = df_generation[new_col_order].sort_values(['g_E','h']).reset_index(drop=True)"
   ]
  },
  {
   "cell_type": "code",
   "execution_count": 73,
   "metadata": {},
   "outputs": [],
   "source": [
    "file_path = os.path.join(data_dir,'ForecastedLoad_MWh_'+''.join(df_prices['g_E'].unique().tolist())+'_'+str(year))\n",
    "df_generation.to_pickle(file_path)"
   ]
  },
  {
   "cell_type": "code",
   "execution_count": 74,
   "metadata": {},
   "outputs": [
    {
     "name": "stdout",
     "output_type": "stream",
     "text": [
      "   g_E                   HourUTC              HourCET/CEST  Month  Week  \\\n",
      "0  SE1 2021-12-31 23:00:00+00:00 2022-01-01 00:00:00+01:00      1    52   \n",
      "1  SE1 2022-01-01 00:00:00+00:00 2022-01-01 01:00:00+01:00      1    52   \n",
      "2  SE1 2022-01-01 01:00:00+00:00 2022-01-01 02:00:00+01:00      1    52   \n",
      "3  SE1 2022-01-01 02:00:00+00:00 2022-01-01 03:00:00+01:00      1    52   \n",
      "4  SE1 2022-01-01 03:00:00+00:00 2022-01-01 04:00:00+01:00      1    52   \n",
      "\n",
      "   Weekday  HourOfTheDay  h  ForecastedLoad_MWh  \n",
      "0        5             0  1              1309.0  \n",
      "1        5             1  2              1308.0  \n",
      "2        5             2  3              1298.0  \n",
      "3        5             3  4              1284.0  \n",
      "4        5             4  5              1295.0  \n"
     ]
    }
   ],
   "source": [
    "df_dem_est_2022 = pd.read_pickle('CleanedData/ForecastedLoad_MWh_SE1SE2SE3SE4_2022')\n",
    "print(df_dem_est_2022.head())"
   ]
  },
  {
   "cell_type": "markdown",
   "metadata": {},
   "source": [
    "**2023**"
   ]
  },
  {
   "cell_type": "code",
   "execution_count": 75,
   "metadata": {},
   "outputs": [],
   "source": [
    "year = 2023\n",
    "\n",
    "start_str, end_str = str(year)+'-01-01T00',str(year)+'-11-30T23', \n",
    "start_CET = pd.Timestamp(start_str,tz='Europe/Stockholm'); start_UTC = start_CET.tz_convert('UTC')\n",
    "end_CET = pd.Timestamp(end_str,tz='Europe/Stockholm'); end_UTC = end_CET.tz_convert('UTC')\n",
    "h_index = pd.Index(pd.date_range(start_CET,end_CET,freq='H'),name='HourCET/CEST')"
   ]
  },
  {
   "cell_type": "code",
   "execution_count": 76,
   "metadata": {},
   "outputs": [],
   "source": [
    "df_generation = pd.concat([\n",
    "    pd.concat([client.query_load_forecast(Area[x], start=start_CET,end=end_CET, process_type='A01').rename_axis('HourCET/CEST').reindex(h_index).assign(g_E = x).set_index('g_E',append=True)['Forecasted Load'].rename('ForecastedLoad_MWh') for x in g_area],axis=0),\n",
    "],axis=1).reset_index()"
   ]
  },
  {
   "cell_type": "code",
   "execution_count": 77,
   "metadata": {},
   "outputs": [],
   "source": [
    "df_generation['HourUTC'] = df_generation['HourCET/CEST'].dt.tz_convert('UTC')\n",
    "df_generation['HourOfTheDay'] = df_generation['HourCET/CEST'].dt.hour\n",
    "df_generation['Weekday'] = df_generation['HourCET/CEST'].dt.weekday \n",
    "df_generation['Week'] = df_generation['HourCET/CEST'].dt.isocalendar().week\n",
    "df_generation['Month'] = df_generation['HourCET/CEST'].dt.month\n",
    "df_generation['h'] = 1\n",
    "df_generation['h'] = df_generation.groupby('g_E')['h'].cumsum()\n",
    "df_generation['g_E'] = df_generation['g_E'].str.replace('_','')\n",
    "new_col_order = ['g_E','HourUTC','HourCET/CEST','Month','Week','Weekday','HourOfTheDay','h','ForecastedLoad_MWh']\n",
    "df_generation = df_generation[new_col_order].sort_values(['g_E','h']).reset_index(drop=True)"
   ]
  },
  {
   "cell_type": "code",
   "execution_count": 78,
   "metadata": {},
   "outputs": [],
   "source": [
    "file_path = os.path.join(data_dir,'ForecastedLoad_MWh_'+''.join(df_prices['g_E'].unique().tolist())+'_'+str(year))\n",
    "df_generation.to_pickle(file_path)"
   ]
  },
  {
   "cell_type": "code",
   "execution_count": 79,
   "metadata": {},
   "outputs": [
    {
     "name": "stdout",
     "output_type": "stream",
     "text": [
      "   g_E                   HourUTC              HourCET/CEST  Month  Week  \\\n",
      "0  SE1 2022-12-31 23:00:00+00:00 2023-01-01 00:00:00+01:00      1    52   \n",
      "1  SE1 2023-01-01 00:00:00+00:00 2023-01-01 01:00:00+01:00      1    52   \n",
      "2  SE1 2023-01-01 01:00:00+00:00 2023-01-01 02:00:00+01:00      1    52   \n",
      "3  SE1 2023-01-01 02:00:00+00:00 2023-01-01 03:00:00+01:00      1    52   \n",
      "4  SE1 2023-01-01 03:00:00+00:00 2023-01-01 04:00:00+01:00      1    52   \n",
      "\n",
      "   Weekday  HourOfTheDay  h  ForecastedLoad_MWh  \n",
      "0        6             0  1              1262.0  \n",
      "1        6             1  2              1258.0  \n",
      "2        6             2  3              1252.0  \n",
      "3        6             3  4              1245.0  \n",
      "4        6             4  5              1256.0  \n"
     ]
    }
   ],
   "source": [
    "df_dem_est_2023 = pd.read_pickle('CleanedData/ForecastedLoad_MWh_SE1SE2SE3SE4_2023')\n",
    "print(df_dem_est_2023.head())"
   ]
  },
  {
   "cell_type": "markdown",
   "metadata": {},
   "source": [
    "### Generation Wind Forecast"
   ]
  },
  {
   "cell_type": "markdown",
   "metadata": {},
   "source": [
    "**2022**"
   ]
  },
  {
   "cell_type": "code",
   "execution_count": 80,
   "metadata": {},
   "outputs": [],
   "source": [
    "year = 2022\n",
    "\n",
    "start_str, end_str = str(year)+'-01-01T00',str(year)+'-12-31T23', \n",
    "start_CET = pd.Timestamp(start_str,tz='Europe/Stockholm'); start_UTC = start_CET.tz_convert('UTC')\n",
    "end_CET = pd.Timestamp(end_str,tz='Europe/Stockholm'); end_UTC = end_CET.tz_convert('UTC')\n",
    "h_index = pd.Index(pd.date_range(start_CET,end_CET,freq='H'),name='HourCET/CEST')"
   ]
  },
  {
   "cell_type": "code",
   "execution_count": 81,
   "metadata": {},
   "outputs": [
    {
     "name": "stdout",
     "output_type": "stream",
     "text": [
      "                           Solar  Wind Onshore\n",
      "2022-01-01 00:00:00+01:00    0.0        1148.0\n",
      "2022-01-01 01:00:00+01:00    0.0        1195.0\n",
      "2022-01-01 02:00:00+01:00    0.0        1220.0\n",
      "2022-01-01 03:00:00+01:00    0.0        1254.0\n",
      "2022-01-01 04:00:00+01:00    0.0        1266.0\n"
     ]
    }
   ],
   "source": [
    "# Get the first DataFrame returned by the query\n",
    "df_generation = client.query_wind_and_solar_forecast(Area.SE_1, start=start_CET,end=end_CET, process_type='A01')\n",
    "\n",
    "# Check the name of the first column\n",
    "print(df_generation.head())"
   ]
  },
  {
   "cell_type": "code",
   "execution_count": 82,
   "metadata": {},
   "outputs": [],
   "source": [
    "df_generation = pd.concat([\n",
    "    pd.concat([client.query_wind_and_solar_forecast(Area[x], start=start_CET,end=end_CET, process_type='A01').rename_axis('HourCET/CEST').reindex(h_index).assign(g_E = x).set_index('g_E',append=True)['Wind Onshore'].rename('WindOnshore_MWh') for x in g_area],axis=0),\n",
    "],axis=1).reset_index()"
   ]
  },
  {
   "cell_type": "code",
   "execution_count": 83,
   "metadata": {},
   "outputs": [],
   "source": [
    "df_generation['HourUTC'] = df_generation['HourCET/CEST'].dt.tz_convert('UTC')\n",
    "df_generation['HourOfTheDay'] = df_generation['HourCET/CEST'].dt.hour\n",
    "df_generation['Weekday'] = df_generation['HourCET/CEST'].dt.weekday \n",
    "df_generation['Week'] = df_generation['HourCET/CEST'].dt.isocalendar().week\n",
    "df_generation['Month'] = df_generation['HourCET/CEST'].dt.month\n",
    "df_generation['h'] = 1\n",
    "df_generation['h'] = df_generation.groupby('g_E')['h'].cumsum()\n",
    "df_generation['g_E'] = df_generation['g_E'].str.replace('_','')\n",
    "new_col_order = ['g_E','HourUTC','HourCET/CEST','Month','Week','Weekday','HourOfTheDay','h','WindOnshore_MWh']\n",
    "df_generation = df_generation[new_col_order].sort_values(['g_E','h']).reset_index(drop=True)"
   ]
  },
  {
   "cell_type": "code",
   "execution_count": 84,
   "metadata": {},
   "outputs": [],
   "source": [
    "file_path = os.path.join(data_dir,'WindOnshore_MWh_'+''.join(df_prices['g_E'].unique().tolist())+'_'+str(year))\n",
    "df_generation.to_pickle(file_path)"
   ]
  },
  {
   "cell_type": "code",
   "execution_count": 85,
   "metadata": {},
   "outputs": [
    {
     "name": "stdout",
     "output_type": "stream",
     "text": [
      "   g_E                   HourUTC              HourCET/CEST  Month  Week  \\\n",
      "0  SE1 2021-12-31 23:00:00+00:00 2022-01-01 00:00:00+01:00      1    52   \n",
      "1  SE1 2022-01-01 00:00:00+00:00 2022-01-01 01:00:00+01:00      1    52   \n",
      "2  SE1 2022-01-01 01:00:00+00:00 2022-01-01 02:00:00+01:00      1    52   \n",
      "3  SE1 2022-01-01 02:00:00+00:00 2022-01-01 03:00:00+01:00      1    52   \n",
      "4  SE1 2022-01-01 03:00:00+00:00 2022-01-01 04:00:00+01:00      1    52   \n",
      "\n",
      "   Weekday  HourOfTheDay  h  WindOnshore_MWh  \n",
      "0        5             0  1           1148.0  \n",
      "1        5             1  2           1195.0  \n",
      "2        5             2  3           1220.0  \n",
      "3        5             3  4           1254.0  \n",
      "4        5             4  5           1266.0  \n"
     ]
    }
   ],
   "source": [
    "df_gen_wind_2022 = pd.read_pickle('CleanedData/WindOnshore_MWh_SE1SE2SE3SE4_2022')\n",
    "print(df_gen_wind_2022.head())"
   ]
  },
  {
   "cell_type": "markdown",
   "metadata": {},
   "source": [
    "**2023**"
   ]
  },
  {
   "cell_type": "code",
   "execution_count": 86,
   "metadata": {},
   "outputs": [],
   "source": [
    "year = 2023\n",
    "\n",
    "start_str, end_str = str(year)+'-01-01T00',str(year)+'-11-30T23', \n",
    "start_CET = pd.Timestamp(start_str,tz='Europe/Stockholm'); start_UTC = start_CET.tz_convert('UTC')\n",
    "end_CET = pd.Timestamp(end_str,tz='Europe/Stockholm'); end_UTC = end_CET.tz_convert('UTC')\n",
    "h_index = pd.Index(pd.date_range(start_CET,end_CET,freq='H'),name='HourCET/CEST')"
   ]
  },
  {
   "cell_type": "code",
   "execution_count": 87,
   "metadata": {},
   "outputs": [],
   "source": [
    "df_generation = pd.concat([\n",
    "    pd.concat([client.query_wind_and_solar_forecast(Area[x], start=start_CET,end=end_CET, process_type='A01').rename_axis('HourCET/CEST').reindex(h_index).assign(g_E = x).set_index('g_E',append=True)['Wind Onshore'].rename('WindOnshore_MWh') for x in g_area],axis=0),\n",
    "],axis=1).reset_index()"
   ]
  },
  {
   "cell_type": "code",
   "execution_count": 88,
   "metadata": {},
   "outputs": [],
   "source": [
    "df_generation['HourUTC'] = df_generation['HourCET/CEST'].dt.tz_convert('UTC')\n",
    "df_generation['HourOfTheDay'] = df_generation['HourCET/CEST'].dt.hour\n",
    "df_generation['Weekday'] = df_generation['HourCET/CEST'].dt.weekday \n",
    "df_generation['Week'] = df_generation['HourCET/CEST'].dt.isocalendar().week\n",
    "df_generation['Month'] = df_generation['HourCET/CEST'].dt.month\n",
    "df_generation['h'] = 1\n",
    "df_generation['h'] = df_generation.groupby('g_E')['h'].cumsum()\n",
    "df_generation['g_E'] = df_generation['g_E'].str.replace('_','')\n",
    "new_col_order = ['g_E','HourUTC','HourCET/CEST','Month','Week','Weekday','HourOfTheDay','h','WindOnshore_MWh']\n",
    "df_generation = df_generation[new_col_order].sort_values(['g_E','h']).reset_index(drop=True)"
   ]
  },
  {
   "cell_type": "code",
   "execution_count": 89,
   "metadata": {},
   "outputs": [],
   "source": [
    "file_path = os.path.join(data_dir,'WindOnshore_MWh_'+''.join(df_prices['g_E'].unique().tolist())+'_'+str(year))\n",
    "df_generation.to_pickle(file_path)"
   ]
  },
  {
   "cell_type": "code",
   "execution_count": 90,
   "metadata": {},
   "outputs": [
    {
     "name": "stdout",
     "output_type": "stream",
     "text": [
      "   g_E                   HourUTC              HourCET/CEST  Month  Week  \\\n",
      "0  SE1 2022-12-31 23:00:00+00:00 2023-01-01 00:00:00+01:00      1    52   \n",
      "1  SE1 2023-01-01 00:00:00+00:00 2023-01-01 01:00:00+01:00      1    52   \n",
      "2  SE1 2023-01-01 01:00:00+00:00 2023-01-01 02:00:00+01:00      1    52   \n",
      "3  SE1 2023-01-01 02:00:00+00:00 2023-01-01 03:00:00+01:00      1    52   \n",
      "4  SE1 2023-01-01 03:00:00+00:00 2023-01-01 04:00:00+01:00      1    52   \n",
      "\n",
      "   Weekday  HourOfTheDay  h  WindOnshore_MWh  \n",
      "0        6             0  1           1548.0  \n",
      "1        6             1  2           1609.0  \n",
      "2        6             2  3           1661.0  \n",
      "3        6             3  4           1688.0  \n",
      "4        6             4  5           1689.0  \n"
     ]
    }
   ],
   "source": [
    "df_gen_wind_2023 = pd.read_pickle('CleanedData/WindOnshore_MWh_SE1SE2SE3SE4_2023')\n",
    "print(df_gen_wind_2023.head())"
   ]
  },
  {
   "cell_type": "markdown",
   "metadata": {},
   "source": [
    "### Generation Solar Forecast"
   ]
  },
  {
   "cell_type": "markdown",
   "metadata": {},
   "source": [
    "**2022**"
   ]
  },
  {
   "cell_type": "code",
   "execution_count": 91,
   "metadata": {},
   "outputs": [],
   "source": [
    "year = 2022\n",
    "\n",
    "start_str, end_str = str(year)+'-01-01T00',str(year)+'-12-31T23', \n",
    "start_CET = pd.Timestamp(start_str,tz='Europe/Stockholm'); start_UTC = start_CET.tz_convert('UTC')\n",
    "end_CET = pd.Timestamp(end_str,tz='Europe/Stockholm'); end_UTC = end_CET.tz_convert('UTC')\n",
    "h_index = pd.Index(pd.date_range(start_CET,end_CET,freq='H'),name='HourCET/CEST')"
   ]
  },
  {
   "cell_type": "code",
   "execution_count": 92,
   "metadata": {},
   "outputs": [
    {
     "name": "stderr",
     "output_type": "stream",
     "text": [
      "Connection Error, retrying in 0 seconds\n"
     ]
    },
    {
     "ename": "ConnectionError",
     "evalue": "('Connection aborted.', RemoteDisconnected('Remote end closed connection without response'))",
     "output_type": "error",
     "traceback": [
      "\u001b[0;31m---------------------------------------------------------------------------\u001b[0m",
      "\u001b[0;31mRemoteDisconnected\u001b[0m                        Traceback (most recent call last)",
      "File \u001b[0;32m~/opt/anaconda3/lib/python3.9/site-packages/urllib3/connectionpool.py:703\u001b[0m, in \u001b[0;36mHTTPConnectionPool.urlopen\u001b[0;34m(self, method, url, body, headers, retries, redirect, assert_same_host, timeout, pool_timeout, release_conn, chunked, body_pos, **response_kw)\u001b[0m\n\u001b[1;32m    702\u001b[0m \u001b[38;5;66;03m# Make the request on the httplib connection object.\u001b[39;00m\n\u001b[0;32m--> 703\u001b[0m httplib_response \u001b[38;5;241m=\u001b[39m \u001b[38;5;28;43mself\u001b[39;49m\u001b[38;5;241;43m.\u001b[39;49m\u001b[43m_make_request\u001b[49m\u001b[43m(\u001b[49m\n\u001b[1;32m    704\u001b[0m \u001b[43m    \u001b[49m\u001b[43mconn\u001b[49m\u001b[43m,\u001b[49m\n\u001b[1;32m    705\u001b[0m \u001b[43m    \u001b[49m\u001b[43mmethod\u001b[49m\u001b[43m,\u001b[49m\n\u001b[1;32m    706\u001b[0m \u001b[43m    \u001b[49m\u001b[43murl\u001b[49m\u001b[43m,\u001b[49m\n\u001b[1;32m    707\u001b[0m \u001b[43m    \u001b[49m\u001b[43mtimeout\u001b[49m\u001b[38;5;241;43m=\u001b[39;49m\u001b[43mtimeout_obj\u001b[49m\u001b[43m,\u001b[49m\n\u001b[1;32m    708\u001b[0m \u001b[43m    \u001b[49m\u001b[43mbody\u001b[49m\u001b[38;5;241;43m=\u001b[39;49m\u001b[43mbody\u001b[49m\u001b[43m,\u001b[49m\n\u001b[1;32m    709\u001b[0m \u001b[43m    \u001b[49m\u001b[43mheaders\u001b[49m\u001b[38;5;241;43m=\u001b[39;49m\u001b[43mheaders\u001b[49m\u001b[43m,\u001b[49m\n\u001b[1;32m    710\u001b[0m \u001b[43m    \u001b[49m\u001b[43mchunked\u001b[49m\u001b[38;5;241;43m=\u001b[39;49m\u001b[43mchunked\u001b[49m\u001b[43m,\u001b[49m\n\u001b[1;32m    711\u001b[0m \u001b[43m\u001b[49m\u001b[43m)\u001b[49m\n\u001b[1;32m    713\u001b[0m \u001b[38;5;66;03m# If we're going to release the connection in ``finally:``, then\u001b[39;00m\n\u001b[1;32m    714\u001b[0m \u001b[38;5;66;03m# the response doesn't need to know about the connection. Otherwise\u001b[39;00m\n\u001b[1;32m    715\u001b[0m \u001b[38;5;66;03m# it will also try to release it and we'll have a double-release\u001b[39;00m\n\u001b[1;32m    716\u001b[0m \u001b[38;5;66;03m# mess.\u001b[39;00m\n",
      "File \u001b[0;32m~/opt/anaconda3/lib/python3.9/site-packages/urllib3/connectionpool.py:449\u001b[0m, in \u001b[0;36mHTTPConnectionPool._make_request\u001b[0;34m(self, conn, method, url, timeout, chunked, **httplib_request_kw)\u001b[0m\n\u001b[1;32m    445\u001b[0m         \u001b[38;5;28;01mexcept\u001b[39;00m \u001b[38;5;167;01mBaseException\u001b[39;00m \u001b[38;5;28;01mas\u001b[39;00m e:\n\u001b[1;32m    446\u001b[0m             \u001b[38;5;66;03m# Remove the TypeError from the exception chain in\u001b[39;00m\n\u001b[1;32m    447\u001b[0m             \u001b[38;5;66;03m# Python 3 (including for exceptions like SystemExit).\u001b[39;00m\n\u001b[1;32m    448\u001b[0m             \u001b[38;5;66;03m# Otherwise it looks like a bug in the code.\u001b[39;00m\n\u001b[0;32m--> 449\u001b[0m             \u001b[43msix\u001b[49m\u001b[38;5;241;43m.\u001b[39;49m\u001b[43mraise_from\u001b[49m\u001b[43m(\u001b[49m\u001b[43me\u001b[49m\u001b[43m,\u001b[49m\u001b[43m \u001b[49m\u001b[38;5;28;43;01mNone\u001b[39;49;00m\u001b[43m)\u001b[49m\n\u001b[1;32m    450\u001b[0m \u001b[38;5;28;01mexcept\u001b[39;00m (SocketTimeout, BaseSSLError, SocketError) \u001b[38;5;28;01mas\u001b[39;00m e:\n",
      "File \u001b[0;32m<string>:3\u001b[0m, in \u001b[0;36mraise_from\u001b[0;34m(value, from_value)\u001b[0m\n",
      "File \u001b[0;32m~/opt/anaconda3/lib/python3.9/site-packages/urllib3/connectionpool.py:444\u001b[0m, in \u001b[0;36mHTTPConnectionPool._make_request\u001b[0;34m(self, conn, method, url, timeout, chunked, **httplib_request_kw)\u001b[0m\n\u001b[1;32m    443\u001b[0m \u001b[38;5;28;01mtry\u001b[39;00m:\n\u001b[0;32m--> 444\u001b[0m     httplib_response \u001b[38;5;241m=\u001b[39m \u001b[43mconn\u001b[49m\u001b[38;5;241;43m.\u001b[39;49m\u001b[43mgetresponse\u001b[49m\u001b[43m(\u001b[49m\u001b[43m)\u001b[49m\n\u001b[1;32m    445\u001b[0m \u001b[38;5;28;01mexcept\u001b[39;00m \u001b[38;5;167;01mBaseException\u001b[39;00m \u001b[38;5;28;01mas\u001b[39;00m e:\n\u001b[1;32m    446\u001b[0m     \u001b[38;5;66;03m# Remove the TypeError from the exception chain in\u001b[39;00m\n\u001b[1;32m    447\u001b[0m     \u001b[38;5;66;03m# Python 3 (including for exceptions like SystemExit).\u001b[39;00m\n\u001b[1;32m    448\u001b[0m     \u001b[38;5;66;03m# Otherwise it looks like a bug in the code.\u001b[39;00m\n",
      "File \u001b[0;32m~/opt/anaconda3/lib/python3.9/http/client.py:1377\u001b[0m, in \u001b[0;36mHTTPConnection.getresponse\u001b[0;34m(self)\u001b[0m\n\u001b[1;32m   1376\u001b[0m \u001b[38;5;28;01mtry\u001b[39;00m:\n\u001b[0;32m-> 1377\u001b[0m     \u001b[43mresponse\u001b[49m\u001b[38;5;241;43m.\u001b[39;49m\u001b[43mbegin\u001b[49m\u001b[43m(\u001b[49m\u001b[43m)\u001b[49m\n\u001b[1;32m   1378\u001b[0m \u001b[38;5;28;01mexcept\u001b[39;00m \u001b[38;5;167;01mConnectionError\u001b[39;00m:\n",
      "File \u001b[0;32m~/opt/anaconda3/lib/python3.9/http/client.py:320\u001b[0m, in \u001b[0;36mHTTPResponse.begin\u001b[0;34m(self)\u001b[0m\n\u001b[1;32m    319\u001b[0m \u001b[38;5;28;01mwhile\u001b[39;00m \u001b[38;5;28;01mTrue\u001b[39;00m:\n\u001b[0;32m--> 320\u001b[0m     version, status, reason \u001b[38;5;241m=\u001b[39m \u001b[38;5;28;43mself\u001b[39;49m\u001b[38;5;241;43m.\u001b[39;49m\u001b[43m_read_status\u001b[49m\u001b[43m(\u001b[49m\u001b[43m)\u001b[49m\n\u001b[1;32m    321\u001b[0m     \u001b[38;5;28;01mif\u001b[39;00m status \u001b[38;5;241m!=\u001b[39m CONTINUE:\n",
      "File \u001b[0;32m~/opt/anaconda3/lib/python3.9/http/client.py:289\u001b[0m, in \u001b[0;36mHTTPResponse._read_status\u001b[0;34m(self)\u001b[0m\n\u001b[1;32m    286\u001b[0m \u001b[38;5;28;01mif\u001b[39;00m \u001b[38;5;129;01mnot\u001b[39;00m line:\n\u001b[1;32m    287\u001b[0m     \u001b[38;5;66;03m# Presumably, the server closed the connection before\u001b[39;00m\n\u001b[1;32m    288\u001b[0m     \u001b[38;5;66;03m# sending a valid response.\u001b[39;00m\n\u001b[0;32m--> 289\u001b[0m     \u001b[38;5;28;01mraise\u001b[39;00m RemoteDisconnected(\u001b[38;5;124m\"\u001b[39m\u001b[38;5;124mRemote end closed connection without\u001b[39m\u001b[38;5;124m\"\u001b[39m\n\u001b[1;32m    290\u001b[0m                              \u001b[38;5;124m\"\u001b[39m\u001b[38;5;124m response\u001b[39m\u001b[38;5;124m\"\u001b[39m)\n\u001b[1;32m    291\u001b[0m \u001b[38;5;28;01mtry\u001b[39;00m:\n",
      "\u001b[0;31mRemoteDisconnected\u001b[0m: Remote end closed connection without response",
      "\nDuring handling of the above exception, another exception occurred:\n",
      "\u001b[0;31mProtocolError\u001b[0m                             Traceback (most recent call last)",
      "File \u001b[0;32m~/opt/anaconda3/lib/python3.9/site-packages/requests/adapters.py:489\u001b[0m, in \u001b[0;36mHTTPAdapter.send\u001b[0;34m(self, request, stream, timeout, verify, cert, proxies)\u001b[0m\n\u001b[1;32m    488\u001b[0m \u001b[38;5;28;01mif\u001b[39;00m \u001b[38;5;129;01mnot\u001b[39;00m chunked:\n\u001b[0;32m--> 489\u001b[0m     resp \u001b[38;5;241m=\u001b[39m \u001b[43mconn\u001b[49m\u001b[38;5;241;43m.\u001b[39;49m\u001b[43murlopen\u001b[49m\u001b[43m(\u001b[49m\n\u001b[1;32m    490\u001b[0m \u001b[43m        \u001b[49m\u001b[43mmethod\u001b[49m\u001b[38;5;241;43m=\u001b[39;49m\u001b[43mrequest\u001b[49m\u001b[38;5;241;43m.\u001b[39;49m\u001b[43mmethod\u001b[49m\u001b[43m,\u001b[49m\n\u001b[1;32m    491\u001b[0m \u001b[43m        \u001b[49m\u001b[43murl\u001b[49m\u001b[38;5;241;43m=\u001b[39;49m\u001b[43murl\u001b[49m\u001b[43m,\u001b[49m\n\u001b[1;32m    492\u001b[0m \u001b[43m        \u001b[49m\u001b[43mbody\u001b[49m\u001b[38;5;241;43m=\u001b[39;49m\u001b[43mrequest\u001b[49m\u001b[38;5;241;43m.\u001b[39;49m\u001b[43mbody\u001b[49m\u001b[43m,\u001b[49m\n\u001b[1;32m    493\u001b[0m \u001b[43m        \u001b[49m\u001b[43mheaders\u001b[49m\u001b[38;5;241;43m=\u001b[39;49m\u001b[43mrequest\u001b[49m\u001b[38;5;241;43m.\u001b[39;49m\u001b[43mheaders\u001b[49m\u001b[43m,\u001b[49m\n\u001b[1;32m    494\u001b[0m \u001b[43m        \u001b[49m\u001b[43mredirect\u001b[49m\u001b[38;5;241;43m=\u001b[39;49m\u001b[38;5;28;43;01mFalse\u001b[39;49;00m\u001b[43m,\u001b[49m\n\u001b[1;32m    495\u001b[0m \u001b[43m        \u001b[49m\u001b[43massert_same_host\u001b[49m\u001b[38;5;241;43m=\u001b[39;49m\u001b[38;5;28;43;01mFalse\u001b[39;49;00m\u001b[43m,\u001b[49m\n\u001b[1;32m    496\u001b[0m \u001b[43m        \u001b[49m\u001b[43mpreload_content\u001b[49m\u001b[38;5;241;43m=\u001b[39;49m\u001b[38;5;28;43;01mFalse\u001b[39;49;00m\u001b[43m,\u001b[49m\n\u001b[1;32m    497\u001b[0m \u001b[43m        \u001b[49m\u001b[43mdecode_content\u001b[49m\u001b[38;5;241;43m=\u001b[39;49m\u001b[38;5;28;43;01mFalse\u001b[39;49;00m\u001b[43m,\u001b[49m\n\u001b[1;32m    498\u001b[0m \u001b[43m        \u001b[49m\u001b[43mretries\u001b[49m\u001b[38;5;241;43m=\u001b[39;49m\u001b[38;5;28;43mself\u001b[39;49m\u001b[38;5;241;43m.\u001b[39;49m\u001b[43mmax_retries\u001b[49m\u001b[43m,\u001b[49m\n\u001b[1;32m    499\u001b[0m \u001b[43m        \u001b[49m\u001b[43mtimeout\u001b[49m\u001b[38;5;241;43m=\u001b[39;49m\u001b[43mtimeout\u001b[49m\u001b[43m,\u001b[49m\n\u001b[1;32m    500\u001b[0m \u001b[43m    \u001b[49m\u001b[43m)\u001b[49m\n\u001b[1;32m    502\u001b[0m \u001b[38;5;66;03m# Send the request.\u001b[39;00m\n\u001b[1;32m    503\u001b[0m \u001b[38;5;28;01melse\u001b[39;00m:\n",
      "File \u001b[0;32m~/opt/anaconda3/lib/python3.9/site-packages/urllib3/connectionpool.py:787\u001b[0m, in \u001b[0;36mHTTPConnectionPool.urlopen\u001b[0;34m(self, method, url, body, headers, retries, redirect, assert_same_host, timeout, pool_timeout, release_conn, chunked, body_pos, **response_kw)\u001b[0m\n\u001b[1;32m    785\u001b[0m     e \u001b[38;5;241m=\u001b[39m ProtocolError(\u001b[38;5;124m\"\u001b[39m\u001b[38;5;124mConnection aborted.\u001b[39m\u001b[38;5;124m\"\u001b[39m, e)\n\u001b[0;32m--> 787\u001b[0m retries \u001b[38;5;241m=\u001b[39m \u001b[43mretries\u001b[49m\u001b[38;5;241;43m.\u001b[39;49m\u001b[43mincrement\u001b[49m\u001b[43m(\u001b[49m\n\u001b[1;32m    788\u001b[0m \u001b[43m    \u001b[49m\u001b[43mmethod\u001b[49m\u001b[43m,\u001b[49m\u001b[43m \u001b[49m\u001b[43murl\u001b[49m\u001b[43m,\u001b[49m\u001b[43m \u001b[49m\u001b[43merror\u001b[49m\u001b[38;5;241;43m=\u001b[39;49m\u001b[43me\u001b[49m\u001b[43m,\u001b[49m\u001b[43m \u001b[49m\u001b[43m_pool\u001b[49m\u001b[38;5;241;43m=\u001b[39;49m\u001b[38;5;28;43mself\u001b[39;49m\u001b[43m,\u001b[49m\u001b[43m \u001b[49m\u001b[43m_stacktrace\u001b[49m\u001b[38;5;241;43m=\u001b[39;49m\u001b[43msys\u001b[49m\u001b[38;5;241;43m.\u001b[39;49m\u001b[43mexc_info\u001b[49m\u001b[43m(\u001b[49m\u001b[43m)\u001b[49m\u001b[43m[\u001b[49m\u001b[38;5;241;43m2\u001b[39;49m\u001b[43m]\u001b[49m\n\u001b[1;32m    789\u001b[0m \u001b[43m\u001b[49m\u001b[43m)\u001b[49m\n\u001b[1;32m    790\u001b[0m retries\u001b[38;5;241m.\u001b[39msleep()\n",
      "File \u001b[0;32m~/opt/anaconda3/lib/python3.9/site-packages/urllib3/util/retry.py:550\u001b[0m, in \u001b[0;36mRetry.increment\u001b[0;34m(self, method, url, response, error, _pool, _stacktrace)\u001b[0m\n\u001b[1;32m    549\u001b[0m \u001b[38;5;28;01mif\u001b[39;00m read \u001b[38;5;129;01mis\u001b[39;00m \u001b[38;5;28;01mFalse\u001b[39;00m \u001b[38;5;129;01mor\u001b[39;00m \u001b[38;5;129;01mnot\u001b[39;00m \u001b[38;5;28mself\u001b[39m\u001b[38;5;241m.\u001b[39m_is_method_retryable(method):\n\u001b[0;32m--> 550\u001b[0m     \u001b[38;5;28;01mraise\u001b[39;00m \u001b[43msix\u001b[49m\u001b[38;5;241;43m.\u001b[39;49m\u001b[43mreraise\u001b[49m\u001b[43m(\u001b[49m\u001b[38;5;28;43mtype\u001b[39;49m\u001b[43m(\u001b[49m\u001b[43merror\u001b[49m\u001b[43m)\u001b[49m\u001b[43m,\u001b[49m\u001b[43m \u001b[49m\u001b[43merror\u001b[49m\u001b[43m,\u001b[49m\u001b[43m \u001b[49m\u001b[43m_stacktrace\u001b[49m\u001b[43m)\u001b[49m\n\u001b[1;32m    551\u001b[0m \u001b[38;5;28;01melif\u001b[39;00m read \u001b[38;5;129;01mis\u001b[39;00m \u001b[38;5;129;01mnot\u001b[39;00m \u001b[38;5;28;01mNone\u001b[39;00m:\n",
      "File \u001b[0;32m~/opt/anaconda3/lib/python3.9/site-packages/urllib3/packages/six.py:769\u001b[0m, in \u001b[0;36mreraise\u001b[0;34m(tp, value, tb)\u001b[0m\n\u001b[1;32m    768\u001b[0m \u001b[38;5;28;01mif\u001b[39;00m value\u001b[38;5;241m.\u001b[39m__traceback__ \u001b[38;5;129;01mis\u001b[39;00m \u001b[38;5;129;01mnot\u001b[39;00m tb:\n\u001b[0;32m--> 769\u001b[0m     \u001b[38;5;28;01mraise\u001b[39;00m value\u001b[38;5;241m.\u001b[39mwith_traceback(tb)\n\u001b[1;32m    770\u001b[0m \u001b[38;5;28;01mraise\u001b[39;00m value\n",
      "File \u001b[0;32m~/opt/anaconda3/lib/python3.9/site-packages/urllib3/connectionpool.py:703\u001b[0m, in \u001b[0;36mHTTPConnectionPool.urlopen\u001b[0;34m(self, method, url, body, headers, retries, redirect, assert_same_host, timeout, pool_timeout, release_conn, chunked, body_pos, **response_kw)\u001b[0m\n\u001b[1;32m    702\u001b[0m \u001b[38;5;66;03m# Make the request on the httplib connection object.\u001b[39;00m\n\u001b[0;32m--> 703\u001b[0m httplib_response \u001b[38;5;241m=\u001b[39m \u001b[38;5;28;43mself\u001b[39;49m\u001b[38;5;241;43m.\u001b[39;49m\u001b[43m_make_request\u001b[49m\u001b[43m(\u001b[49m\n\u001b[1;32m    704\u001b[0m \u001b[43m    \u001b[49m\u001b[43mconn\u001b[49m\u001b[43m,\u001b[49m\n\u001b[1;32m    705\u001b[0m \u001b[43m    \u001b[49m\u001b[43mmethod\u001b[49m\u001b[43m,\u001b[49m\n\u001b[1;32m    706\u001b[0m \u001b[43m    \u001b[49m\u001b[43murl\u001b[49m\u001b[43m,\u001b[49m\n\u001b[1;32m    707\u001b[0m \u001b[43m    \u001b[49m\u001b[43mtimeout\u001b[49m\u001b[38;5;241;43m=\u001b[39;49m\u001b[43mtimeout_obj\u001b[49m\u001b[43m,\u001b[49m\n\u001b[1;32m    708\u001b[0m \u001b[43m    \u001b[49m\u001b[43mbody\u001b[49m\u001b[38;5;241;43m=\u001b[39;49m\u001b[43mbody\u001b[49m\u001b[43m,\u001b[49m\n\u001b[1;32m    709\u001b[0m \u001b[43m    \u001b[49m\u001b[43mheaders\u001b[49m\u001b[38;5;241;43m=\u001b[39;49m\u001b[43mheaders\u001b[49m\u001b[43m,\u001b[49m\n\u001b[1;32m    710\u001b[0m \u001b[43m    \u001b[49m\u001b[43mchunked\u001b[49m\u001b[38;5;241;43m=\u001b[39;49m\u001b[43mchunked\u001b[49m\u001b[43m,\u001b[49m\n\u001b[1;32m    711\u001b[0m \u001b[43m\u001b[49m\u001b[43m)\u001b[49m\n\u001b[1;32m    713\u001b[0m \u001b[38;5;66;03m# If we're going to release the connection in ``finally:``, then\u001b[39;00m\n\u001b[1;32m    714\u001b[0m \u001b[38;5;66;03m# the response doesn't need to know about the connection. Otherwise\u001b[39;00m\n\u001b[1;32m    715\u001b[0m \u001b[38;5;66;03m# it will also try to release it and we'll have a double-release\u001b[39;00m\n\u001b[1;32m    716\u001b[0m \u001b[38;5;66;03m# mess.\u001b[39;00m\n",
      "File \u001b[0;32m~/opt/anaconda3/lib/python3.9/site-packages/urllib3/connectionpool.py:449\u001b[0m, in \u001b[0;36mHTTPConnectionPool._make_request\u001b[0;34m(self, conn, method, url, timeout, chunked, **httplib_request_kw)\u001b[0m\n\u001b[1;32m    445\u001b[0m         \u001b[38;5;28;01mexcept\u001b[39;00m \u001b[38;5;167;01mBaseException\u001b[39;00m \u001b[38;5;28;01mas\u001b[39;00m e:\n\u001b[1;32m    446\u001b[0m             \u001b[38;5;66;03m# Remove the TypeError from the exception chain in\u001b[39;00m\n\u001b[1;32m    447\u001b[0m             \u001b[38;5;66;03m# Python 3 (including for exceptions like SystemExit).\u001b[39;00m\n\u001b[1;32m    448\u001b[0m             \u001b[38;5;66;03m# Otherwise it looks like a bug in the code.\u001b[39;00m\n\u001b[0;32m--> 449\u001b[0m             \u001b[43msix\u001b[49m\u001b[38;5;241;43m.\u001b[39;49m\u001b[43mraise_from\u001b[49m\u001b[43m(\u001b[49m\u001b[43me\u001b[49m\u001b[43m,\u001b[49m\u001b[43m \u001b[49m\u001b[38;5;28;43;01mNone\u001b[39;49;00m\u001b[43m)\u001b[49m\n\u001b[1;32m    450\u001b[0m \u001b[38;5;28;01mexcept\u001b[39;00m (SocketTimeout, BaseSSLError, SocketError) \u001b[38;5;28;01mas\u001b[39;00m e:\n",
      "File \u001b[0;32m<string>:3\u001b[0m, in \u001b[0;36mraise_from\u001b[0;34m(value, from_value)\u001b[0m\n",
      "File \u001b[0;32m~/opt/anaconda3/lib/python3.9/site-packages/urllib3/connectionpool.py:444\u001b[0m, in \u001b[0;36mHTTPConnectionPool._make_request\u001b[0;34m(self, conn, method, url, timeout, chunked, **httplib_request_kw)\u001b[0m\n\u001b[1;32m    443\u001b[0m \u001b[38;5;28;01mtry\u001b[39;00m:\n\u001b[0;32m--> 444\u001b[0m     httplib_response \u001b[38;5;241m=\u001b[39m \u001b[43mconn\u001b[49m\u001b[38;5;241;43m.\u001b[39;49m\u001b[43mgetresponse\u001b[49m\u001b[43m(\u001b[49m\u001b[43m)\u001b[49m\n\u001b[1;32m    445\u001b[0m \u001b[38;5;28;01mexcept\u001b[39;00m \u001b[38;5;167;01mBaseException\u001b[39;00m \u001b[38;5;28;01mas\u001b[39;00m e:\n\u001b[1;32m    446\u001b[0m     \u001b[38;5;66;03m# Remove the TypeError from the exception chain in\u001b[39;00m\n\u001b[1;32m    447\u001b[0m     \u001b[38;5;66;03m# Python 3 (including for exceptions like SystemExit).\u001b[39;00m\n\u001b[1;32m    448\u001b[0m     \u001b[38;5;66;03m# Otherwise it looks like a bug in the code.\u001b[39;00m\n",
      "File \u001b[0;32m~/opt/anaconda3/lib/python3.9/http/client.py:1377\u001b[0m, in \u001b[0;36mHTTPConnection.getresponse\u001b[0;34m(self)\u001b[0m\n\u001b[1;32m   1376\u001b[0m \u001b[38;5;28;01mtry\u001b[39;00m:\n\u001b[0;32m-> 1377\u001b[0m     \u001b[43mresponse\u001b[49m\u001b[38;5;241;43m.\u001b[39;49m\u001b[43mbegin\u001b[49m\u001b[43m(\u001b[49m\u001b[43m)\u001b[49m\n\u001b[1;32m   1378\u001b[0m \u001b[38;5;28;01mexcept\u001b[39;00m \u001b[38;5;167;01mConnectionError\u001b[39;00m:\n",
      "File \u001b[0;32m~/opt/anaconda3/lib/python3.9/http/client.py:320\u001b[0m, in \u001b[0;36mHTTPResponse.begin\u001b[0;34m(self)\u001b[0m\n\u001b[1;32m    319\u001b[0m \u001b[38;5;28;01mwhile\u001b[39;00m \u001b[38;5;28;01mTrue\u001b[39;00m:\n\u001b[0;32m--> 320\u001b[0m     version, status, reason \u001b[38;5;241m=\u001b[39m \u001b[38;5;28;43mself\u001b[39;49m\u001b[38;5;241;43m.\u001b[39;49m\u001b[43m_read_status\u001b[49m\u001b[43m(\u001b[49m\u001b[43m)\u001b[49m\n\u001b[1;32m    321\u001b[0m     \u001b[38;5;28;01mif\u001b[39;00m status \u001b[38;5;241m!=\u001b[39m CONTINUE:\n",
      "File \u001b[0;32m~/opt/anaconda3/lib/python3.9/http/client.py:289\u001b[0m, in \u001b[0;36mHTTPResponse._read_status\u001b[0;34m(self)\u001b[0m\n\u001b[1;32m    286\u001b[0m \u001b[38;5;28;01mif\u001b[39;00m \u001b[38;5;129;01mnot\u001b[39;00m line:\n\u001b[1;32m    287\u001b[0m     \u001b[38;5;66;03m# Presumably, the server closed the connection before\u001b[39;00m\n\u001b[1;32m    288\u001b[0m     \u001b[38;5;66;03m# sending a valid response.\u001b[39;00m\n\u001b[0;32m--> 289\u001b[0m     \u001b[38;5;28;01mraise\u001b[39;00m RemoteDisconnected(\u001b[38;5;124m\"\u001b[39m\u001b[38;5;124mRemote end closed connection without\u001b[39m\u001b[38;5;124m\"\u001b[39m\n\u001b[1;32m    290\u001b[0m                              \u001b[38;5;124m\"\u001b[39m\u001b[38;5;124m response\u001b[39m\u001b[38;5;124m\"\u001b[39m)\n\u001b[1;32m    291\u001b[0m \u001b[38;5;28;01mtry\u001b[39;00m:\n",
      "\u001b[0;31mProtocolError\u001b[0m: ('Connection aborted.', RemoteDisconnected('Remote end closed connection without response'))",
      "\nDuring handling of the above exception, another exception occurred:\n",
      "\u001b[0;31mConnectionError\u001b[0m                           Traceback (most recent call last)",
      "Cell \u001b[0;32mIn[92], line 2\u001b[0m\n\u001b[1;32m      1\u001b[0m df_generation \u001b[38;5;241m=\u001b[39m pd\u001b[38;5;241m.\u001b[39mconcat([\n\u001b[0;32m----> 2\u001b[0m     pd\u001b[38;5;241m.\u001b[39mconcat([client\u001b[38;5;241m.\u001b[39mquery_wind_and_solar_forecast(Area[x], start\u001b[38;5;241m=\u001b[39mstart_CET,end\u001b[38;5;241m=\u001b[39mend_CET, process_type\u001b[38;5;241m=\u001b[39m\u001b[38;5;124m'\u001b[39m\u001b[38;5;124mA01\u001b[39m\u001b[38;5;124m'\u001b[39m)\u001b[38;5;241m.\u001b[39mrename_axis(\u001b[38;5;124m'\u001b[39m\u001b[38;5;124mHourCET/CEST\u001b[39m\u001b[38;5;124m'\u001b[39m)\u001b[38;5;241m.\u001b[39mreindex(h_index)\u001b[38;5;241m.\u001b[39massign(g_E \u001b[38;5;241m=\u001b[39m x)\u001b[38;5;241m.\u001b[39mset_index(\u001b[38;5;124m'\u001b[39m\u001b[38;5;124mg_E\u001b[39m\u001b[38;5;124m'\u001b[39m,append\u001b[38;5;241m=\u001b[39m\u001b[38;5;28;01mTrue\u001b[39;00m)[\u001b[38;5;124m'\u001b[39m\u001b[38;5;124mSolar\u001b[39m\u001b[38;5;124m'\u001b[39m]\u001b[38;5;241m.\u001b[39mrename(\u001b[38;5;124m'\u001b[39m\u001b[38;5;124mSolar_MWh\u001b[39m\u001b[38;5;124m'\u001b[39m) \u001b[38;5;28;01mfor\u001b[39;00m x \u001b[38;5;129;01min\u001b[39;00m g_area],axis\u001b[38;5;241m=\u001b[39m\u001b[38;5;241m0\u001b[39m),\n\u001b[1;32m      3\u001b[0m ],axis\u001b[38;5;241m=\u001b[39m\u001b[38;5;241m1\u001b[39m)\u001b[38;5;241m.\u001b[39mreset_index()\n",
      "Cell \u001b[0;32mIn[92], line 2\u001b[0m, in \u001b[0;36m<listcomp>\u001b[0;34m(.0)\u001b[0m\n\u001b[1;32m      1\u001b[0m df_generation \u001b[38;5;241m=\u001b[39m pd\u001b[38;5;241m.\u001b[39mconcat([\n\u001b[0;32m----> 2\u001b[0m     pd\u001b[38;5;241m.\u001b[39mconcat([\u001b[43mclient\u001b[49m\u001b[38;5;241;43m.\u001b[39;49m\u001b[43mquery_wind_and_solar_forecast\u001b[49m\u001b[43m(\u001b[49m\u001b[43mArea\u001b[49m\u001b[43m[\u001b[49m\u001b[43mx\u001b[49m\u001b[43m]\u001b[49m\u001b[43m,\u001b[49m\u001b[43m \u001b[49m\u001b[43mstart\u001b[49m\u001b[38;5;241;43m=\u001b[39;49m\u001b[43mstart_CET\u001b[49m\u001b[43m,\u001b[49m\u001b[43mend\u001b[49m\u001b[38;5;241;43m=\u001b[39;49m\u001b[43mend_CET\u001b[49m\u001b[43m,\u001b[49m\u001b[43m \u001b[49m\u001b[43mprocess_type\u001b[49m\u001b[38;5;241;43m=\u001b[39;49m\u001b[38;5;124;43m'\u001b[39;49m\u001b[38;5;124;43mA01\u001b[39;49m\u001b[38;5;124;43m'\u001b[39;49m\u001b[43m)\u001b[49m\u001b[38;5;241m.\u001b[39mrename_axis(\u001b[38;5;124m'\u001b[39m\u001b[38;5;124mHourCET/CEST\u001b[39m\u001b[38;5;124m'\u001b[39m)\u001b[38;5;241m.\u001b[39mreindex(h_index)\u001b[38;5;241m.\u001b[39massign(g_E \u001b[38;5;241m=\u001b[39m x)\u001b[38;5;241m.\u001b[39mset_index(\u001b[38;5;124m'\u001b[39m\u001b[38;5;124mg_E\u001b[39m\u001b[38;5;124m'\u001b[39m,append\u001b[38;5;241m=\u001b[39m\u001b[38;5;28;01mTrue\u001b[39;00m)[\u001b[38;5;124m'\u001b[39m\u001b[38;5;124mSolar\u001b[39m\u001b[38;5;124m'\u001b[39m]\u001b[38;5;241m.\u001b[39mrename(\u001b[38;5;124m'\u001b[39m\u001b[38;5;124mSolar_MWh\u001b[39m\u001b[38;5;124m'\u001b[39m) \u001b[38;5;28;01mfor\u001b[39;00m x \u001b[38;5;129;01min\u001b[39;00m g_area],axis\u001b[38;5;241m=\u001b[39m\u001b[38;5;241m0\u001b[39m),\n\u001b[1;32m      3\u001b[0m ],axis\u001b[38;5;241m=\u001b[39m\u001b[38;5;241m1\u001b[39m)\u001b[38;5;241m.\u001b[39mreset_index()\n",
      "File \u001b[0;32m~/opt/anaconda3/lib/python3.9/site-packages/entsoe/decorators.py:100\u001b[0m, in \u001b[0;36myear_limited.<locals>.year_wrapper\u001b[0;34m(start, end, *args, **kwargs)\u001b[0m\n\u001b[1;32m     98\u001b[0m \u001b[38;5;28;01mfor\u001b[39;00m _start, _end \u001b[38;5;129;01min\u001b[39;00m blocks:\n\u001b[1;32m     99\u001b[0m     \u001b[38;5;28;01mtry\u001b[39;00m:\n\u001b[0;32m--> 100\u001b[0m         frame \u001b[38;5;241m=\u001b[39m \u001b[43mfunc\u001b[49m\u001b[43m(\u001b[49m\u001b[38;5;241;43m*\u001b[39;49m\u001b[43margs\u001b[49m\u001b[43m,\u001b[49m\u001b[43m \u001b[49m\u001b[43mstart\u001b[49m\u001b[38;5;241;43m=\u001b[39;49m\u001b[43m_start\u001b[49m\u001b[43m,\u001b[49m\u001b[43m \u001b[49m\u001b[43mend\u001b[49m\u001b[38;5;241;43m=\u001b[39;49m\u001b[43m_end\u001b[49m\u001b[43m,\u001b[49m\u001b[43m \u001b[49m\u001b[38;5;241;43m*\u001b[39;49m\u001b[38;5;241;43m*\u001b[39;49m\u001b[43mkwargs\u001b[49m\u001b[43m)\u001b[49m\n\u001b[1;32m    101\u001b[0m     \u001b[38;5;28;01mexcept\u001b[39;00m NoMatchingDataError:\n\u001b[1;32m    102\u001b[0m         logger\u001b[38;5;241m.\u001b[39mdebug(\u001b[38;5;124mf\u001b[39m\u001b[38;5;124m\"\u001b[39m\u001b[38;5;124mNoMatchingDataError: between \u001b[39m\u001b[38;5;132;01m{\u001b[39;00m_start\u001b[38;5;132;01m}\u001b[39;00m\u001b[38;5;124m and \u001b[39m\u001b[38;5;132;01m{\u001b[39;00m_end\u001b[38;5;132;01m}\u001b[39;00m\u001b[38;5;124m\"\u001b[39m)\n",
      "File \u001b[0;32m~/opt/anaconda3/lib/python3.9/site-packages/entsoe/entsoe.py:1313\u001b[0m, in \u001b[0;36mEntsoePandasClient.query_wind_and_solar_forecast\u001b[0;34m(self, country_code, start, end, psr_type, process_type, **kwargs)\u001b[0m\n\u001b[1;32m   1298\u001b[0m \u001b[38;5;124;03m\"\"\"\u001b[39;00m\n\u001b[1;32m   1299\u001b[0m \u001b[38;5;124;03mParameters\u001b[39;00m\n\u001b[1;32m   1300\u001b[0m \u001b[38;5;124;03m----------\u001b[39;00m\n\u001b[0;32m   (...)\u001b[0m\n\u001b[1;32m   1310\u001b[0m \u001b[38;5;124;03mpd.DataFrame\u001b[39;00m\n\u001b[1;32m   1311\u001b[0m \u001b[38;5;124;03m\"\"\"\u001b[39;00m\n\u001b[1;32m   1312\u001b[0m area \u001b[38;5;241m=\u001b[39m lookup_area(country_code)\n\u001b[0;32m-> 1313\u001b[0m text \u001b[38;5;241m=\u001b[39m \u001b[38;5;28;43msuper\u001b[39;49m\u001b[43m(\u001b[49m\u001b[43mEntsoePandasClient\u001b[49m\u001b[43m,\u001b[49m\u001b[43m \u001b[49m\u001b[38;5;28;43mself\u001b[39;49m\u001b[43m)\u001b[49m\u001b[38;5;241;43m.\u001b[39;49m\u001b[43mquery_wind_and_solar_forecast\u001b[49m\u001b[43m(\u001b[49m\n\u001b[1;32m   1314\u001b[0m \u001b[43m    \u001b[49m\u001b[43mcountry_code\u001b[49m\u001b[38;5;241;43m=\u001b[39;49m\u001b[43marea\u001b[49m\u001b[43m,\u001b[49m\u001b[43m \u001b[49m\u001b[43mstart\u001b[49m\u001b[38;5;241;43m=\u001b[39;49m\u001b[43mstart\u001b[49m\u001b[43m,\u001b[49m\u001b[43m \u001b[49m\u001b[43mend\u001b[49m\u001b[38;5;241;43m=\u001b[39;49m\u001b[43mend\u001b[49m\u001b[43m,\u001b[49m\u001b[43m \u001b[49m\u001b[43mpsr_type\u001b[49m\u001b[38;5;241;43m=\u001b[39;49m\u001b[43mpsr_type\u001b[49m\u001b[43m,\u001b[49m\n\u001b[1;32m   1315\u001b[0m \u001b[43m    \u001b[49m\u001b[43mprocess_type\u001b[49m\u001b[38;5;241;43m=\u001b[39;49m\u001b[43mprocess_type\u001b[49m\u001b[43m)\u001b[49m\n\u001b[1;32m   1316\u001b[0m df \u001b[38;5;241m=\u001b[39m parse_generation(text, nett\u001b[38;5;241m=\u001b[39m\u001b[38;5;28;01mTrue\u001b[39;00m)\n\u001b[1;32m   1317\u001b[0m df \u001b[38;5;241m=\u001b[39m df\u001b[38;5;241m.\u001b[39mtz_convert(area\u001b[38;5;241m.\u001b[39mtz)\n",
      "File \u001b[0;32m~/opt/anaconda3/lib/python3.9/site-packages/entsoe/entsoe.py:334\u001b[0m, in \u001b[0;36mEntsoeRawClient.query_wind_and_solar_forecast\u001b[0;34m(self, country_code, start, end, psr_type, process_type, **kwargs)\u001b[0m\n\u001b[1;32m    332\u001b[0m \u001b[38;5;28;01mif\u001b[39;00m psr_type:\n\u001b[1;32m    333\u001b[0m     params\u001b[38;5;241m.\u001b[39mupdate({\u001b[38;5;124m'\u001b[39m\u001b[38;5;124mpsrType\u001b[39m\u001b[38;5;124m'\u001b[39m: psr_type})\n\u001b[0;32m--> 334\u001b[0m response \u001b[38;5;241m=\u001b[39m \u001b[38;5;28;43mself\u001b[39;49m\u001b[38;5;241;43m.\u001b[39;49m\u001b[43m_base_request\u001b[49m\u001b[43m(\u001b[49m\u001b[43mparams\u001b[49m\u001b[38;5;241;43m=\u001b[39;49m\u001b[43mparams\u001b[49m\u001b[43m,\u001b[49m\u001b[43m \u001b[49m\u001b[43mstart\u001b[49m\u001b[38;5;241;43m=\u001b[39;49m\u001b[43mstart\u001b[49m\u001b[43m,\u001b[49m\u001b[43m \u001b[49m\u001b[43mend\u001b[49m\u001b[38;5;241;43m=\u001b[39;49m\u001b[43mend\u001b[49m\u001b[43m)\u001b[49m\n\u001b[1;32m    335\u001b[0m \u001b[38;5;28;01mreturn\u001b[39;00m response\u001b[38;5;241m.\u001b[39mtext\n",
      "File \u001b[0;32m~/opt/anaconda3/lib/python3.9/site-packages/entsoe/decorators.py:34\u001b[0m, in \u001b[0;36mretry.<locals>.retry_wrapper\u001b[0;34m(*args, **kwargs)\u001b[0m\n\u001b[1;32m     32\u001b[0m         \u001b[38;5;28;01mreturn\u001b[39;00m result\n\u001b[1;32m     33\u001b[0m \u001b[38;5;28;01melse\u001b[39;00m:\n\u001b[0;32m---> 34\u001b[0m     \u001b[38;5;28;01mraise\u001b[39;00m error\n",
      "File \u001b[0;32m~/opt/anaconda3/lib/python3.9/site-packages/entsoe/decorators.py:24\u001b[0m, in \u001b[0;36mretry.<locals>.retry_wrapper\u001b[0;34m(*args, **kwargs)\u001b[0m\n\u001b[1;32m     22\u001b[0m \u001b[38;5;28;01mfor\u001b[39;00m _ \u001b[38;5;129;01min\u001b[39;00m \u001b[38;5;28mrange\u001b[39m(\u001b[38;5;28mself\u001b[39m\u001b[38;5;241m.\u001b[39mretry_count):\n\u001b[1;32m     23\u001b[0m     \u001b[38;5;28;01mtry\u001b[39;00m:\n\u001b[0;32m---> 24\u001b[0m         result \u001b[38;5;241m=\u001b[39m \u001b[43mfunc\u001b[49m\u001b[43m(\u001b[49m\u001b[38;5;241;43m*\u001b[39;49m\u001b[43margs\u001b[49m\u001b[43m,\u001b[49m\u001b[43m \u001b[49m\u001b[38;5;241;43m*\u001b[39;49m\u001b[38;5;241;43m*\u001b[39;49m\u001b[43mkwargs\u001b[49m\u001b[43m)\u001b[49m\n\u001b[1;32m     25\u001b[0m     \u001b[38;5;28;01mexcept\u001b[39;00m (requests\u001b[38;5;241m.\u001b[39mConnectionError, gaierror) \u001b[38;5;28;01mas\u001b[39;00m e:\n\u001b[1;32m     26\u001b[0m         error \u001b[38;5;241m=\u001b[39m e\n",
      "File \u001b[0;32m~/opt/anaconda3/lib/python3.9/site-packages/entsoe/entsoe.py:96\u001b[0m, in \u001b[0;36mEntsoeRawClient._base_request\u001b[0;34m(self, params, start, end)\u001b[0m\n\u001b[1;32m     93\u001b[0m params\u001b[38;5;241m.\u001b[39mupdate(base_params)\n\u001b[1;32m     95\u001b[0m logger\u001b[38;5;241m.\u001b[39mdebug(\u001b[38;5;124mf\u001b[39m\u001b[38;5;124m'\u001b[39m\u001b[38;5;124mPerforming request to \u001b[39m\u001b[38;5;132;01m{\u001b[39;00mURL\u001b[38;5;132;01m}\u001b[39;00m\u001b[38;5;124m with params \u001b[39m\u001b[38;5;132;01m{\u001b[39;00mparams\u001b[38;5;132;01m}\u001b[39;00m\u001b[38;5;124m'\u001b[39m)\n\u001b[0;32m---> 96\u001b[0m response \u001b[38;5;241m=\u001b[39m \u001b[38;5;28;43mself\u001b[39;49m\u001b[38;5;241;43m.\u001b[39;49m\u001b[43msession\u001b[49m\u001b[38;5;241;43m.\u001b[39;49m\u001b[43mget\u001b[49m\u001b[43m(\u001b[49m\u001b[43murl\u001b[49m\u001b[38;5;241;43m=\u001b[39;49m\u001b[43mURL\u001b[49m\u001b[43m,\u001b[49m\u001b[43m \u001b[49m\u001b[43mparams\u001b[49m\u001b[38;5;241;43m=\u001b[39;49m\u001b[43mparams\u001b[49m\u001b[43m,\u001b[49m\n\u001b[1;32m     97\u001b[0m \u001b[43m                            \u001b[49m\u001b[43mproxies\u001b[49m\u001b[38;5;241;43m=\u001b[39;49m\u001b[38;5;28;43mself\u001b[39;49m\u001b[38;5;241;43m.\u001b[39;49m\u001b[43mproxies\u001b[49m\u001b[43m,\u001b[49m\u001b[43m \u001b[49m\u001b[43mtimeout\u001b[49m\u001b[38;5;241;43m=\u001b[39;49m\u001b[38;5;28;43mself\u001b[39;49m\u001b[38;5;241;43m.\u001b[39;49m\u001b[43mtimeout\u001b[49m\u001b[43m)\u001b[49m\n\u001b[1;32m     98\u001b[0m \u001b[38;5;28;01mtry\u001b[39;00m:\n\u001b[1;32m     99\u001b[0m     response\u001b[38;5;241m.\u001b[39mraise_for_status()\n",
      "File \u001b[0;32m~/opt/anaconda3/lib/python3.9/site-packages/requests/sessions.py:600\u001b[0m, in \u001b[0;36mSession.get\u001b[0;34m(self, url, **kwargs)\u001b[0m\n\u001b[1;32m    592\u001b[0m \u001b[38;5;124mr\u001b[39m\u001b[38;5;124;03m\"\"\"Sends a GET request. Returns :class:`Response` object.\u001b[39;00m\n\u001b[1;32m    593\u001b[0m \n\u001b[1;32m    594\u001b[0m \u001b[38;5;124;03m:param url: URL for the new :class:`Request` object.\u001b[39;00m\n\u001b[1;32m    595\u001b[0m \u001b[38;5;124;03m:param \\*\\*kwargs: Optional arguments that ``request`` takes.\u001b[39;00m\n\u001b[1;32m    596\u001b[0m \u001b[38;5;124;03m:rtype: requests.Response\u001b[39;00m\n\u001b[1;32m    597\u001b[0m \u001b[38;5;124;03m\"\"\"\u001b[39;00m\n\u001b[1;32m    599\u001b[0m kwargs\u001b[38;5;241m.\u001b[39msetdefault(\u001b[38;5;124m\"\u001b[39m\u001b[38;5;124mallow_redirects\u001b[39m\u001b[38;5;124m\"\u001b[39m, \u001b[38;5;28;01mTrue\u001b[39;00m)\n\u001b[0;32m--> 600\u001b[0m \u001b[38;5;28;01mreturn\u001b[39;00m \u001b[38;5;28;43mself\u001b[39;49m\u001b[38;5;241;43m.\u001b[39;49m\u001b[43mrequest\u001b[49m\u001b[43m(\u001b[49m\u001b[38;5;124;43m\"\u001b[39;49m\u001b[38;5;124;43mGET\u001b[39;49m\u001b[38;5;124;43m\"\u001b[39;49m\u001b[43m,\u001b[49m\u001b[43m \u001b[49m\u001b[43murl\u001b[49m\u001b[43m,\u001b[49m\u001b[43m \u001b[49m\u001b[38;5;241;43m*\u001b[39;49m\u001b[38;5;241;43m*\u001b[39;49m\u001b[43mkwargs\u001b[49m\u001b[43m)\u001b[49m\n",
      "File \u001b[0;32m~/opt/anaconda3/lib/python3.9/site-packages/requests/sessions.py:587\u001b[0m, in \u001b[0;36mSession.request\u001b[0;34m(self, method, url, params, data, headers, cookies, files, auth, timeout, allow_redirects, proxies, hooks, stream, verify, cert, json)\u001b[0m\n\u001b[1;32m    582\u001b[0m send_kwargs \u001b[38;5;241m=\u001b[39m {\n\u001b[1;32m    583\u001b[0m     \u001b[38;5;124m\"\u001b[39m\u001b[38;5;124mtimeout\u001b[39m\u001b[38;5;124m\"\u001b[39m: timeout,\n\u001b[1;32m    584\u001b[0m     \u001b[38;5;124m\"\u001b[39m\u001b[38;5;124mallow_redirects\u001b[39m\u001b[38;5;124m\"\u001b[39m: allow_redirects,\n\u001b[1;32m    585\u001b[0m }\n\u001b[1;32m    586\u001b[0m send_kwargs\u001b[38;5;241m.\u001b[39mupdate(settings)\n\u001b[0;32m--> 587\u001b[0m resp \u001b[38;5;241m=\u001b[39m \u001b[38;5;28;43mself\u001b[39;49m\u001b[38;5;241;43m.\u001b[39;49m\u001b[43msend\u001b[49m\u001b[43m(\u001b[49m\u001b[43mprep\u001b[49m\u001b[43m,\u001b[49m\u001b[43m \u001b[49m\u001b[38;5;241;43m*\u001b[39;49m\u001b[38;5;241;43m*\u001b[39;49m\u001b[43msend_kwargs\u001b[49m\u001b[43m)\u001b[49m\n\u001b[1;32m    589\u001b[0m \u001b[38;5;28;01mreturn\u001b[39;00m resp\n",
      "File \u001b[0;32m~/opt/anaconda3/lib/python3.9/site-packages/requests/sessions.py:701\u001b[0m, in \u001b[0;36mSession.send\u001b[0;34m(self, request, **kwargs)\u001b[0m\n\u001b[1;32m    698\u001b[0m start \u001b[38;5;241m=\u001b[39m preferred_clock()\n\u001b[1;32m    700\u001b[0m \u001b[38;5;66;03m# Send the request\u001b[39;00m\n\u001b[0;32m--> 701\u001b[0m r \u001b[38;5;241m=\u001b[39m \u001b[43madapter\u001b[49m\u001b[38;5;241;43m.\u001b[39;49m\u001b[43msend\u001b[49m\u001b[43m(\u001b[49m\u001b[43mrequest\u001b[49m\u001b[43m,\u001b[49m\u001b[43m \u001b[49m\u001b[38;5;241;43m*\u001b[39;49m\u001b[38;5;241;43m*\u001b[39;49m\u001b[43mkwargs\u001b[49m\u001b[43m)\u001b[49m\n\u001b[1;32m    703\u001b[0m \u001b[38;5;66;03m# Total elapsed time of the request (approximately)\u001b[39;00m\n\u001b[1;32m    704\u001b[0m elapsed \u001b[38;5;241m=\u001b[39m preferred_clock() \u001b[38;5;241m-\u001b[39m start\n",
      "File \u001b[0;32m~/opt/anaconda3/lib/python3.9/site-packages/requests/adapters.py:547\u001b[0m, in \u001b[0;36mHTTPAdapter.send\u001b[0;34m(self, request, stream, timeout, verify, cert, proxies)\u001b[0m\n\u001b[1;32m    544\u001b[0m             \u001b[38;5;28;01mraise\u001b[39;00m\n\u001b[1;32m    546\u001b[0m \u001b[38;5;28;01mexcept\u001b[39;00m (ProtocolError, \u001b[38;5;167;01mOSError\u001b[39;00m) \u001b[38;5;28;01mas\u001b[39;00m err:\n\u001b[0;32m--> 547\u001b[0m     \u001b[38;5;28;01mraise\u001b[39;00m \u001b[38;5;167;01mConnectionError\u001b[39;00m(err, request\u001b[38;5;241m=\u001b[39mrequest)\n\u001b[1;32m    549\u001b[0m \u001b[38;5;28;01mexcept\u001b[39;00m MaxRetryError \u001b[38;5;28;01mas\u001b[39;00m e:\n\u001b[1;32m    550\u001b[0m     \u001b[38;5;28;01mif\u001b[39;00m \u001b[38;5;28misinstance\u001b[39m(e\u001b[38;5;241m.\u001b[39mreason, ConnectTimeoutError):\n\u001b[1;32m    551\u001b[0m         \u001b[38;5;66;03m# TODO: Remove this in 3.0.0: see #2811\u001b[39;00m\n",
      "\u001b[0;31mConnectionError\u001b[0m: ('Connection aborted.', RemoteDisconnected('Remote end closed connection without response'))"
     ]
    }
   ],
   "source": [
    "df_generation = pd.concat([\n",
    "    pd.concat([client.query_wind_and_solar_forecast(Area[x], start=start_CET,end=end_CET, process_type='A01').rename_axis('HourCET/CEST').reindex(h_index).assign(g_E = x).set_index('g_E',append=True)['Solar'].rename('Solar_MWh') for x in g_area],axis=0),\n",
    "],axis=1).reset_index()"
   ]
  },
  {
   "cell_type": "code",
   "execution_count": null,
   "metadata": {},
   "outputs": [],
   "source": [
    "df_generation['HourUTC'] = df_generation['HourCET/CEST'].dt.tz_convert('UTC')\n",
    "df_generation['HourOfTheDay'] = df_generation['HourCET/CEST'].dt.hour\n",
    "df_generation['Weekday'] = df_generation['HourCET/CEST'].dt.weekday \n",
    "df_generation['Week'] = df_generation['HourCET/CEST'].dt.isocalendar().week\n",
    "df_generation['Month'] = df_generation['HourCET/CEST'].dt.month\n",
    "df_generation['h'] = 1\n",
    "df_generation['h'] = df_generation.groupby('g_E')['h'].cumsum()\n",
    "df_generation['g_E'] = df_generation['g_E'].str.replace('_','')\n",
    "new_col_order = ['g_E','HourUTC','HourCET/CEST','Month','Week','Weekday','HourOfTheDay','h','Solar_MWh']\n",
    "df_generation = df_generation[new_col_order].sort_values(['g_E','h']).reset_index(drop=True)"
   ]
  },
  {
   "cell_type": "code",
   "execution_count": null,
   "metadata": {},
   "outputs": [],
   "source": [
    "file_path = os.path.join(data_dir,'Solar_MWh_'+''.join(df_prices['g_E'].unique().tolist())+'_'+str(year))\n",
    "df_generation.to_pickle(file_path)"
   ]
  },
  {
   "cell_type": "code",
   "execution_count": null,
   "metadata": {},
   "outputs": [
    {
     "name": "stdout",
     "output_type": "stream",
     "text": [
      "   g_E                   HourUTC              HourCET/CEST  Month  Week  \\\n",
      "0  SE1 2021-12-31 23:00:00+00:00 2022-01-01 00:00:00+01:00      1    52   \n",
      "1  SE1 2022-01-01 00:00:00+00:00 2022-01-01 01:00:00+01:00      1    52   \n",
      "2  SE1 2022-01-01 01:00:00+00:00 2022-01-01 02:00:00+01:00      1    52   \n",
      "3  SE1 2022-01-01 02:00:00+00:00 2022-01-01 03:00:00+01:00      1    52   \n",
      "4  SE1 2022-01-01 03:00:00+00:00 2022-01-01 04:00:00+01:00      1    52   \n",
      "\n",
      "   Weekday  HourOfTheDay  h  Solar_MWh  \n",
      "0        5             0  1        0.0  \n",
      "1        5             1  2        0.0  \n",
      "2        5             2  3        0.0  \n",
      "3        5             3  4        0.0  \n",
      "4        5             4  5        0.0  \n"
     ]
    }
   ],
   "source": [
    "df_gen_sol_2022 = pd.read_pickle('CleanedData/Solar_MWh_SE1SE2SE3SE4_2022')\n",
    "print(df_gen_sol_2022.head())"
   ]
  },
  {
   "cell_type": "markdown",
   "metadata": {},
   "source": [
    "**2023**"
   ]
  },
  {
   "cell_type": "code",
   "execution_count": null,
   "metadata": {},
   "outputs": [],
   "source": [
    "year = 2023\n",
    "\n",
    "start_str, end_str = str(year)+'-01-01T00',str(year)+'-11-30T23', \n",
    "start_CET = pd.Timestamp(start_str,tz='Europe/Stockholm'); start_UTC = start_CET.tz_convert('UTC')\n",
    "end_CET = pd.Timestamp(end_str,tz='Europe/Stockholm'); end_UTC = end_CET.tz_convert('UTC')\n",
    "h_index = pd.Index(pd.date_range(start_CET,end_CET,freq='H'),name='HourCET/CEST')"
   ]
  },
  {
   "cell_type": "code",
   "execution_count": null,
   "metadata": {},
   "outputs": [],
   "source": [
    "df_generation = pd.concat([\n",
    "    pd.concat([client.query_wind_and_solar_forecast(Area[x], start=start_CET,end=end_CET, process_type='A01').rename_axis('HourCET/CEST').reindex(h_index).assign(g_E = x).set_index('g_E',append=True)['Solar'].rename('Solar_MWh') for x in g_area],axis=0),\n",
    "],axis=1).reset_index()"
   ]
  },
  {
   "cell_type": "code",
   "execution_count": null,
   "metadata": {},
   "outputs": [],
   "source": [
    "df_generation['HourUTC'] = df_generation['HourCET/CEST'].dt.tz_convert('UTC')\n",
    "df_generation['HourOfTheDay'] = df_generation['HourCET/CEST'].dt.hour\n",
    "df_generation['Weekday'] = df_generation['HourCET/CEST'].dt.weekday \n",
    "df_generation['Week'] = df_generation['HourCET/CEST'].dt.isocalendar().week\n",
    "df_generation['Month'] = df_generation['HourCET/CEST'].dt.month\n",
    "df_generation['h'] = 1\n",
    "df_generation['h'] = df_generation.groupby('g_E')['h'].cumsum()\n",
    "df_generation['g_E'] = df_generation['g_E'].str.replace('_','')\n",
    "new_col_order = ['g_E','HourUTC','HourCET/CEST','Month','Week','Weekday','HourOfTheDay','h','Solar_MWh']\n",
    "df_generation = df_generation[new_col_order].sort_values(['g_E','h']).reset_index(drop=True)"
   ]
  },
  {
   "cell_type": "code",
   "execution_count": null,
   "metadata": {},
   "outputs": [],
   "source": [
    "file_path = os.path.join(data_dir,'Solar_MWh_'+''.join(df_prices['g_E'].unique().tolist())+'_'+str(year))\n",
    "df_generation.to_pickle(file_path)"
   ]
  },
  {
   "cell_type": "code",
   "execution_count": null,
   "metadata": {},
   "outputs": [
    {
     "name": "stdout",
     "output_type": "stream",
     "text": [
      "   g_E                   HourUTC              HourCET/CEST  Month  Week  \\\n",
      "0  SE1 2022-12-31 23:00:00+00:00 2023-01-01 00:00:00+01:00      1    52   \n",
      "1  SE1 2023-01-01 00:00:00+00:00 2023-01-01 01:00:00+01:00      1    52   \n",
      "2  SE1 2023-01-01 01:00:00+00:00 2023-01-01 02:00:00+01:00      1    52   \n",
      "3  SE1 2023-01-01 02:00:00+00:00 2023-01-01 03:00:00+01:00      1    52   \n",
      "4  SE1 2023-01-01 03:00:00+00:00 2023-01-01 04:00:00+01:00      1    52   \n",
      "\n",
      "   Weekday  HourOfTheDay  h  Solar_MWh  \n",
      "0        6             0  1        0.0  \n",
      "1        6             1  2        0.0  \n",
      "2        6             2  3        0.0  \n",
      "3        6             3  4        0.0  \n",
      "4        6             4  5        0.0  \n"
     ]
    }
   ],
   "source": [
    "df_gen_sol_2023 = pd.read_pickle('CleanedData/Solar_MWh_SE1SE2SE3SE4_2023')\n",
    "print(df_gen_sol_2023.head())"
   ]
  },
  {
   "cell_type": "markdown",
   "metadata": {},
   "source": [
    "### Actual Wind Generation"
   ]
  },
  {
   "cell_type": "markdown",
   "metadata": {},
   "source": [
    "**2022**"
   ]
  },
  {
   "cell_type": "code",
   "execution_count": null,
   "metadata": {},
   "outputs": [],
   "source": [
    "year = 2022\n",
    "\n",
    "start_str, end_str = str(year)+'-01-01T00',str(year)+'-12-31T23', \n",
    "start_CET = pd.Timestamp(start_str,tz='Europe/Stockholm'); start_UTC = start_CET.tz_convert('UTC')\n",
    "end_CET = pd.Timestamp(end_str,tz='Europe/Stockholm'); end_UTC = end_CET.tz_convert('UTC')\n",
    "h_index = pd.Index(pd.date_range(start_CET,end_CET,freq='H'),name='HourCET/CEST')"
   ]
  },
  {
   "cell_type": "code",
   "execution_count": null,
   "metadata": {},
   "outputs": [],
   "source": [
    "df_generation = pd.concat([\n",
    "    pd.concat([client.query_generation(Area[x], start=start_CET,end=end_CET, process_type='A01').rename_axis('HourCET/CEST').reindex(h_index).assign(g_E = x).set_index('g_E',append=True)['Wind Onshore'].rename('WindOnshore_MWh') for x in g_area],axis=0),\n",
    "],axis=1).reset_index()"
   ]
  },
  {
   "cell_type": "code",
   "execution_count": null,
   "metadata": {},
   "outputs": [],
   "source": [
    "df_generation['HourUTC'] = df_generation['HourCET/CEST'].dt.tz_convert('UTC')\n",
    "df_generation['HourOfTheDay'] = df_generation['HourCET/CEST'].dt.hour\n",
    "df_generation['Weekday'] = df_generation['HourCET/CEST'].dt.weekday \n",
    "df_generation['Week'] = df_generation['HourCET/CEST'].dt.isocalendar().week\n",
    "df_generation['Month'] = df_generation['HourCET/CEST'].dt.month\n",
    "df_generation['h'] = 1\n",
    "df_generation['h'] = df_generation.groupby('g_E')['h'].cumsum()\n",
    "df_generation['g_E'] = df_generation['g_E'].str.replace('_','')\n",
    "new_col_order = ['g_E','HourUTC','HourCET/CEST','Month','Week','Weekday','HourOfTheDay','h','WindOnshore_MWh']\n",
    "df_generation = df_generation[new_col_order].sort_values(['g_E','h']).reset_index(drop=True)"
   ]
  },
  {
   "cell_type": "code",
   "execution_count": null,
   "metadata": {},
   "outputs": [],
   "source": [
    "file_path = os.path.join(data_dir,'ActualWindOnshore_MWh_'+''.join(df_prices['g_E'].unique().tolist())+'_'+str(year))\n",
    "df_generation.to_pickle(file_path)"
   ]
  },
  {
   "cell_type": "code",
   "execution_count": null,
   "metadata": {},
   "outputs": [
    {
     "name": "stdout",
     "output_type": "stream",
     "text": [
      "   g_E                   HourUTC              HourCET/CEST  Month  Week  \\\n",
      "0  SE1 2021-12-31 23:00:00+00:00 2022-01-01 00:00:00+01:00      1    52   \n",
      "1  SE1 2022-01-01 00:00:00+00:00 2022-01-01 01:00:00+01:00      1    52   \n",
      "2  SE1 2022-01-01 01:00:00+00:00 2022-01-01 02:00:00+01:00      1    52   \n",
      "3  SE1 2022-01-01 02:00:00+00:00 2022-01-01 03:00:00+01:00      1    52   \n",
      "4  SE1 2022-01-01 03:00:00+00:00 2022-01-01 04:00:00+01:00      1    52   \n",
      "\n",
      "   Weekday  HourOfTheDay  h  WindOnshore_MWh  \n",
      "0        5             0  1           1181.0  \n",
      "1        5             1  2           1223.0  \n",
      "2        5             2  3           1245.0  \n",
      "3        5             3  4           1263.0  \n",
      "4        5             4  5           1270.0  \n"
     ]
    }
   ],
   "source": [
    "df = pd.read_pickle('CleanedData/ActualWindOnshore_MWh_SE1SE2SE3SE4_2022')\n",
    "print(df.head())"
   ]
  },
  {
   "cell_type": "markdown",
   "metadata": {},
   "source": [
    "**2023**"
   ]
  },
  {
   "cell_type": "code",
   "execution_count": null,
   "metadata": {},
   "outputs": [],
   "source": [
    "year = 2023\n",
    "\n",
    "start_str, end_str = str(year)+'-01-01T00',str(year)+'-11-30T23', \n",
    "start_CET = pd.Timestamp(start_str,tz='Europe/Stockholm'); start_UTC = start_CET.tz_convert('UTC')\n",
    "end_CET = pd.Timestamp(end_str,tz='Europe/Stockholm'); end_UTC = end_CET.tz_convert('UTC')\n",
    "h_index = pd.Index(pd.date_range(start_CET,end_CET,freq='H'),name='HourCET/CEST')"
   ]
  },
  {
   "cell_type": "code",
   "execution_count": null,
   "metadata": {},
   "outputs": [],
   "source": [
    "df_generation = pd.concat([\n",
    "    pd.concat([client.query_generation(Area[x], start=start_CET,end=end_CET, process_type='A01').rename_axis('HourCET/CEST').reindex(h_index).assign(g_E = x).set_index('g_E',append=True)['Wind Onshore'].rename('WindOnshore_MWh') for x in g_area],axis=0),\n",
    "],axis=1).reset_index()"
   ]
  },
  {
   "cell_type": "code",
   "execution_count": null,
   "metadata": {},
   "outputs": [],
   "source": [
    "df_generation['HourUTC'] = df_generation['HourCET/CEST'].dt.tz_convert('UTC')\n",
    "df_generation['HourOfTheDay'] = df_generation['HourCET/CEST'].dt.hour\n",
    "df_generation['Weekday'] = df_generation['HourCET/CEST'].dt.weekday \n",
    "df_generation['Week'] = df_generation['HourCET/CEST'].dt.isocalendar().week\n",
    "df_generation['Month'] = df_generation['HourCET/CEST'].dt.month\n",
    "df_generation['h'] = 1\n",
    "df_generation['h'] = df_generation.groupby('g_E')['h'].cumsum()\n",
    "df_generation['g_E'] = df_generation['g_E'].str.replace('_','')\n",
    "new_col_order = ['g_E','HourUTC','HourCET/CEST','Month','Week','Weekday','HourOfTheDay','h','WindOnshore_MWh']\n",
    "df_generation = df_generation[new_col_order].sort_values(['g_E','h']).reset_index(drop=True)"
   ]
  },
  {
   "cell_type": "code",
   "execution_count": null,
   "metadata": {},
   "outputs": [],
   "source": [
    "file_path = os.path.join(data_dir,'ActualWindOnshore_MWh_'+''.join(df_prices['g_E'].unique().tolist())+'_'+str(year))\n",
    "df_generation.to_pickle(file_path)"
   ]
  },
  {
   "cell_type": "code",
   "execution_count": null,
   "metadata": {},
   "outputs": [
    {
     "name": "stdout",
     "output_type": "stream",
     "text": [
      "   g_E                   HourUTC              HourCET/CEST  Month  Week  \\\n",
      "0  SE1 2022-12-31 23:00:00+00:00 2023-01-01 00:00:00+01:00      1    52   \n",
      "1  SE1 2023-01-01 00:00:00+00:00 2023-01-01 01:00:00+01:00      1    52   \n",
      "2  SE1 2023-01-01 01:00:00+00:00 2023-01-01 02:00:00+01:00      1    52   \n",
      "3  SE1 2023-01-01 02:00:00+00:00 2023-01-01 03:00:00+01:00      1    52   \n",
      "4  SE1 2023-01-01 03:00:00+00:00 2023-01-01 04:00:00+01:00      1    52   \n",
      "\n",
      "   Weekday  HourOfTheDay  h  WindOnshore_MWh  \n",
      "0        6             0  1           1695.0  \n",
      "1        6             1  2           1710.0  \n",
      "2        6             2  3           1751.0  \n",
      "3        6             3  4           1731.0  \n",
      "4        6             4  5           1738.0  \n"
     ]
    }
   ],
   "source": [
    "df = pd.read_pickle('CleanedData/ActualWindOnshore_MWh_SE1SE2SE3SE4_2023')\n",
    "print(df.head())"
   ]
  },
  {
   "cell_type": "markdown",
   "metadata": {},
   "source": [
    "### Other type of Generation"
   ]
  },
  {
   "cell_type": "markdown",
   "metadata": {},
   "source": [
    "**2022**"
   ]
  },
  {
   "cell_type": "code",
   "execution_count": null,
   "metadata": {},
   "outputs": [],
   "source": [
    "year = 2022\n",
    "\n",
    "start_str, end_str = str(year)+'-01-01T00',str(year)+'-12-31T23', \n",
    "start_CET = pd.Timestamp(start_str,tz='Europe/Stockholm'); start_UTC = start_CET.tz_convert('UTC')\n",
    "end_CET = pd.Timestamp(end_str,tz='Europe/Stockholm'); end_UTC = end_CET.tz_convert('UTC')\n",
    "h_index = pd.Index(pd.date_range(start_CET,end_CET,freq='H'),name='HourCET/CEST')"
   ]
  },
  {
   "cell_type": "code",
   "execution_count": null,
   "metadata": {},
   "outputs": [],
   "source": [
    "df_generation = pd.concat([\n",
    "    pd.concat([client.query_generation(Area[x], start=start_CET,end=end_CET, process_type='A01').rename_axis('HourCET/CEST').reindex(h_index).assign(g_E = x).set_index('g_E',append=True)['Other'].rename('Other_MWh') for x in g_area],axis=0),\n",
    "],axis=1).reset_index()"
   ]
  },
  {
   "cell_type": "code",
   "execution_count": null,
   "metadata": {},
   "outputs": [],
   "source": [
    "df_generation['HourUTC'] = df_generation['HourCET/CEST'].dt.tz_convert('UTC')\n",
    "df_generation['HourOfTheDay'] = df_generation['HourCET/CEST'].dt.hour\n",
    "df_generation['Weekday'] = df_generation['HourCET/CEST'].dt.weekday \n",
    "df_generation['Week'] = df_generation['HourCET/CEST'].dt.isocalendar().week\n",
    "df_generation['Month'] = df_generation['HourCET/CEST'].dt.month\n",
    "df_generation['h'] = 1\n",
    "df_generation['h'] = df_generation.groupby('g_E')['h'].cumsum()\n",
    "df_generation['g_E'] = df_generation['g_E'].str.replace('_','')\n",
    "new_col_order = ['g_E','HourUTC','HourCET/CEST','Month','Week','Weekday','HourOfTheDay','h','Other_MWh']\n",
    "df_generation = df_generation[new_col_order].sort_values(['g_E','h']).reset_index(drop=True)"
   ]
  },
  {
   "cell_type": "code",
   "execution_count": null,
   "metadata": {},
   "outputs": [],
   "source": [
    "file_path = os.path.join(data_dir,'Other_MWh_'+''.join(df_prices['g_E'].unique().tolist())+'_'+str(year))\n",
    "df_generation.to_pickle(file_path)"
   ]
  },
  {
   "cell_type": "code",
   "execution_count": null,
   "metadata": {},
   "outputs": [
    {
     "name": "stdout",
     "output_type": "stream",
     "text": [
      "   g_E                   HourUTC              HourCET/CEST  Month  Week  \\\n",
      "0  SE1 2021-12-31 23:00:00+00:00 2022-01-01 00:00:00+01:00      1    52   \n",
      "1  SE1 2022-01-01 00:00:00+00:00 2022-01-01 01:00:00+01:00      1    52   \n",
      "2  SE1 2022-01-01 01:00:00+00:00 2022-01-01 02:00:00+01:00      1    52   \n",
      "3  SE1 2022-01-01 02:00:00+00:00 2022-01-01 03:00:00+01:00      1    52   \n",
      "4  SE1 2022-01-01 03:00:00+00:00 2022-01-01 04:00:00+01:00      1    52   \n",
      "\n",
      "   Weekday  HourOfTheDay  h  Other_MWh  \n",
      "0        5             0  1       37.0  \n",
      "1        5             1  2       37.0  \n",
      "2        5             2  3       37.0  \n",
      "3        5             3  4       39.0  \n",
      "4        5             4  5       39.0  \n"
     ]
    }
   ],
   "source": [
    "df_gen_other_2022 = pd.read_pickle('CleanedData/Other_MWh_SE1SE2SE3SE4_2022')\n",
    "print(df_gen_other_2022.head())"
   ]
  },
  {
   "cell_type": "markdown",
   "metadata": {},
   "source": [
    "**2023**"
   ]
  },
  {
   "cell_type": "code",
   "execution_count": null,
   "metadata": {},
   "outputs": [],
   "source": [
    "year = 2023\n",
    "\n",
    "start_str, end_str = str(year)+'-01-01T00',str(year)+'-11-30T23', \n",
    "start_CET = pd.Timestamp(start_str,tz='Europe/Stockholm'); start_UTC = start_CET.tz_convert('UTC')\n",
    "end_CET = pd.Timestamp(end_str,tz='Europe/Stockholm'); end_UTC = end_CET.tz_convert('UTC')\n",
    "h_index = pd.Index(pd.date_range(start_CET,end_CET,freq='H'),name='HourCET/CEST')"
   ]
  },
  {
   "cell_type": "code",
   "execution_count": null,
   "metadata": {},
   "outputs": [],
   "source": [
    "df_generation = pd.concat([\n",
    "    pd.concat([client.query_generation(Area[x], start=start_CET,end=end_CET, process_type='A01').rename_axis('HourCET/CEST').reindex(h_index).assign(g_E = x).set_index('g_E',append=True)['Other'].rename('Other_MWh') for x in g_area],axis=0),\n",
    "],axis=1).reset_index()"
   ]
  },
  {
   "cell_type": "code",
   "execution_count": null,
   "metadata": {},
   "outputs": [],
   "source": [
    "df_generation['HourUTC'] = df_generation['HourCET/CEST'].dt.tz_convert('UTC')\n",
    "df_generation['HourOfTheDay'] = df_generation['HourCET/CEST'].dt.hour\n",
    "df_generation['Weekday'] = df_generation['HourCET/CEST'].dt.weekday \n",
    "df_generation['Week'] = df_generation['HourCET/CEST'].dt.isocalendar().week\n",
    "df_generation['Month'] = df_generation['HourCET/CEST'].dt.month\n",
    "df_generation['h'] = 1\n",
    "df_generation['h'] = df_generation.groupby('g_E')['h'].cumsum()\n",
    "df_generation['g_E'] = df_generation['g_E'].str.replace('_','')\n",
    "new_col_order = ['g_E','HourUTC','HourCET/CEST','Month','Week','Weekday','HourOfTheDay','h','Other_MWh']\n",
    "df_generation = df_generation[new_col_order].sort_values(['g_E','h']).reset_index(drop=True)"
   ]
  },
  {
   "cell_type": "code",
   "execution_count": null,
   "metadata": {},
   "outputs": [],
   "source": [
    "file_path = os.path.join(data_dir,'Other_MWh_'+''.join(df_prices['g_E'].unique().tolist())+'_'+str(year))\n",
    "df_generation.to_pickle(file_path)"
   ]
  },
  {
   "cell_type": "code",
   "execution_count": null,
   "metadata": {},
   "outputs": [
    {
     "name": "stdout",
     "output_type": "stream",
     "text": [
      "   g_E                   HourUTC              HourCET/CEST  Month  Week  \\\n",
      "0  SE1 2022-12-31 23:00:00+00:00 2023-01-01 00:00:00+01:00      1    52   \n",
      "1  SE1 2023-01-01 00:00:00+00:00 2023-01-01 01:00:00+01:00      1    52   \n",
      "2  SE1 2023-01-01 01:00:00+00:00 2023-01-01 02:00:00+01:00      1    52   \n",
      "3  SE1 2023-01-01 02:00:00+00:00 2023-01-01 03:00:00+01:00      1    52   \n",
      "4  SE1 2023-01-01 03:00:00+00:00 2023-01-01 04:00:00+01:00      1    52   \n",
      "\n",
      "   Weekday  HourOfTheDay  h  Other_MWh  \n",
      "0        6             0  1       19.0  \n",
      "1        6             1  2       19.0  \n",
      "2        6             2  3       20.0  \n",
      "3        6             3  4       20.0  \n",
      "4        6             4  5       20.0  \n"
     ]
    }
   ],
   "source": [
    "df_gen_other_2023 = pd.read_pickle('CleanedData/Other_MWh_SE1SE2SE3SE4_2023')\n",
    "print(df_gen_other_2023.head())"
   ]
  },
  {
   "cell_type": "markdown",
   "metadata": {},
   "source": [
    "### Actual Load\n"
   ]
  },
  {
   "cell_type": "markdown",
   "metadata": {},
   "source": [
    "**2023**\n"
   ]
  },
  {
   "cell_type": "code",
   "execution_count": null,
   "metadata": {},
   "outputs": [],
   "source": [
    "year = 2023\n",
    "\n",
    "start_str, end_str = str(year)+'-01-01T00',str(year)+'-11-30T23', \n",
    "start_CET = pd.Timestamp(start_str,tz='Europe/Stockholm'); start_UTC = start_CET.tz_convert('UTC')\n",
    "end_CET = pd.Timestamp(end_str,tz='Europe/Stockholm'); end_UTC = end_CET.tz_convert('UTC')\n",
    "h_index = pd.Index(pd.date_range(start_CET,end_CET,freq='H'),name='HourCET/CEST')"
   ]
  },
  {
   "cell_type": "code",
   "execution_count": null,
   "metadata": {},
   "outputs": [],
   "source": [
    "df_demand = pd.concat([\n",
    "    pd.concat([client.query_load(Area[x], start=start_CET,end=end_CET).rename_axis('HourCET/CEST').reindex(h_index).assign(g_E = x).set_index('g_E',append=True)['Actual Load'].rename('ActualLoad_MWh') for x in g_area],axis=0),\n",
    "],axis=1).reset_index()"
   ]
  },
  {
   "cell_type": "code",
   "execution_count": null,
   "metadata": {},
   "outputs": [],
   "source": [
    "df_demand['HourUTC'] = df_demand['HourCET/CEST'].dt.tz_convert('UTC')\n",
    "df_demand['HourOfTheDay'] = df_demand['HourCET/CEST'].dt.hour\n",
    "df_demand['Weekday'] = df_demand['HourCET/CEST'].dt.weekday \n",
    "df_demand['Week'] = df_demand['HourCET/CEST'].dt.isocalendar().week\n",
    "df_demand['Month'] = df_demand['HourCET/CEST'].dt.month\n",
    "df_demand['h'] = 1\n",
    "df_demand['h'] = df_demand.groupby('g_E')['h'].cumsum()\n",
    "df_demand['g_E'] = df_demand['g_E'].str.replace('_','')\n",
    "new_col_order = ['g_E','HourUTC','HourCET/CEST','Month','Week','Weekday','HourOfTheDay','h','ActualLoad_MWh']\n",
    "df_demand = df_demand[new_col_order].sort_values(new_col_order).reset_index(drop=True)"
   ]
  },
  {
   "cell_type": "code",
   "execution_count": null,
   "metadata": {},
   "outputs": [],
   "source": [
    "file_path = os.path.join(data_dir,'ActualLoad_'+''.join(df_demand['g_E'].unique().tolist())+'_'+str(year))\n",
    "df_demand.to_pickle(file_path)"
   ]
  },
  {
   "cell_type": "code",
   "execution_count": null,
   "metadata": {},
   "outputs": [
    {
     "name": "stdout",
     "output_type": "stream",
     "text": [
      "   g_E                   HourUTC              HourCET/CEST  Month  Week  \\\n",
      "0  SE1 2022-12-31 23:00:00+00:00 2023-01-01 00:00:00+01:00      1    52   \n",
      "1  SE1 2023-01-01 00:00:00+00:00 2023-01-01 01:00:00+01:00      1    52   \n",
      "2  SE1 2023-01-01 01:00:00+00:00 2023-01-01 02:00:00+01:00      1    52   \n",
      "3  SE1 2023-01-01 02:00:00+00:00 2023-01-01 03:00:00+01:00      1    52   \n",
      "4  SE1 2023-01-01 03:00:00+00:00 2023-01-01 04:00:00+01:00      1    52   \n",
      "\n",
      "   Weekday  HourOfTheDay  h  ActualLoad_MWh  \n",
      "0        6             0  1          1339.0  \n",
      "1        6             1  2          1346.0  \n",
      "2        6             2  3          1445.0  \n",
      "3        6             3  4          1417.0  \n",
      "4        6             4  5          1427.0  \n"
     ]
    }
   ],
   "source": [
    "df_dem_obs_2023 = pd.read_pickle('CleanedData/ActualLoad_SE1SE2SE3SE4_2023')\n",
    "print(df_dem_obs_2023.head())"
   ]
  },
  {
   "cell_type": "markdown",
   "metadata": {},
   "source": [
    "**2022**\n"
   ]
  },
  {
   "cell_type": "code",
   "execution_count": null,
   "metadata": {},
   "outputs": [],
   "source": [
    "year = 2022\n",
    "\n",
    "start_str, end_str = str(year)+'-01-01T00',str(year)+'-12-31T23', \n",
    "start_CET = pd.Timestamp(start_str,tz='Europe/Stockholm'); start_UTC = start_CET.tz_convert('UTC')\n",
    "end_CET = pd.Timestamp(end_str,tz='Europe/Stockholm'); end_UTC = end_CET.tz_convert('UTC')\n",
    "h_index = pd.Index(pd.date_range(start_CET,end_CET,freq='H'),name='HourCET/CEST')"
   ]
  },
  {
   "cell_type": "code",
   "execution_count": null,
   "metadata": {},
   "outputs": [],
   "source": [
    "df_demand = pd.concat([\n",
    "    pd.concat([client.query_load(Area[x], start=start_CET,end=end_CET).rename_axis('HourCET/CEST').reindex(h_index).assign(g_E = x).set_index('g_E',append=True)['Actual Load'].rename('ActualLoad_MWh') for x in g_area],axis=0),\n",
    "],axis=1).reset_index()"
   ]
  },
  {
   "cell_type": "code",
   "execution_count": null,
   "metadata": {},
   "outputs": [],
   "source": [
    "df_demand['HourUTC'] = df_demand['HourCET/CEST'].dt.tz_convert('UTC')\n",
    "df_demand['HourOfTheDay'] = df_demand['HourCET/CEST'].dt.hour\n",
    "df_demand['Weekday'] = df_demand['HourCET/CEST'].dt.weekday \n",
    "df_demand['Week'] = df_demand['HourCET/CEST'].dt.isocalendar().week\n",
    "df_demand['Month'] = df_demand['HourCET/CEST'].dt.month\n",
    "df_demand['h'] = 1\n",
    "df_demand['h'] = df_demand.groupby('g_E')['h'].cumsum()\n",
    "df_demand['g_E'] = df_demand['g_E'].str.replace('_','')\n",
    "new_col_order = ['g_E','HourUTC','HourCET/CEST','Month','Week','Weekday','HourOfTheDay','h','ActualLoad_MWh']\n",
    "df_demand = df_demand[new_col_order].sort_values(new_col_order).reset_index(drop=True)"
   ]
  },
  {
   "cell_type": "code",
   "execution_count": null,
   "metadata": {},
   "outputs": [],
   "source": [
    "file_path = os.path.join(data_dir,'ActualLoad_'+''.join(df_demand['g_E'].unique().tolist())+'_'+str(year))\n",
    "df_demand.to_pickle(file_path)"
   ]
  },
  {
   "cell_type": "code",
   "execution_count": null,
   "metadata": {},
   "outputs": [
    {
     "name": "stdout",
     "output_type": "stream",
     "text": [
      "   g_E                   HourUTC              HourCET/CEST  Month  Week  \\\n",
      "0  SE1 2021-12-31 23:00:00+00:00 2022-01-01 00:00:00+01:00      1    52   \n",
      "1  SE1 2022-01-01 00:00:00+00:00 2022-01-01 01:00:00+01:00      1    52   \n",
      "2  SE1 2022-01-01 01:00:00+00:00 2022-01-01 02:00:00+01:00      1    52   \n",
      "3  SE1 2022-01-01 02:00:00+00:00 2022-01-01 03:00:00+01:00      1    52   \n",
      "4  SE1 2022-01-01 03:00:00+00:00 2022-01-01 04:00:00+01:00      1    52   \n",
      "\n",
      "   Weekday  HourOfTheDay  h  ActualLoad_MWh  \n",
      "0        5             0  1          1238.0  \n",
      "1        5             1  2          1286.0  \n",
      "2        5             2  3          1267.0  \n",
      "3        5             3  4          1222.0  \n",
      "4        5             4  5          1192.0  \n"
     ]
    }
   ],
   "source": [
    "df_dem_obs_2022 = pd.read_pickle('CleanedData/ActualLoad_SE1SE2SE3SE4_2022')\n",
    "print(df_dem_obs_2022.head())"
   ]
  },
  {
   "cell_type": "code",
   "execution_count": null,
   "metadata": {},
   "outputs": [
    {
     "name": "stdout",
     "output_type": "stream",
     "text": [
      "Requirement already satisfied: seaborn in /Users/rodrigovillegasgomez/opt/anaconda3/lib/python3.9/site-packages (0.12.2)\n",
      "Requirement already satisfied: numpy!=1.24.0,>=1.17 in /Users/rodrigovillegasgomez/opt/anaconda3/lib/python3.9/site-packages (from seaborn) (1.23.5)\n",
      "Requirement already satisfied: pandas>=0.25 in /Users/rodrigovillegasgomez/opt/anaconda3/lib/python3.9/site-packages (from seaborn) (1.4.4)\n",
      "Requirement already satisfied: matplotlib!=3.6.1,>=3.1 in /Users/rodrigovillegasgomez/opt/anaconda3/lib/python3.9/site-packages (from seaborn) (3.7.1)\n",
      "Requirement already satisfied: contourpy>=1.0.1 in /Users/rodrigovillegasgomez/opt/anaconda3/lib/python3.9/site-packages (from matplotlib!=3.6.1,>=3.1->seaborn) (1.0.5)\n",
      "Requirement already satisfied: cycler>=0.10 in /Users/rodrigovillegasgomez/opt/anaconda3/lib/python3.9/site-packages (from matplotlib!=3.6.1,>=3.1->seaborn) (0.11.0)\n",
      "Requirement already satisfied: fonttools>=4.22.0 in /Users/rodrigovillegasgomez/opt/anaconda3/lib/python3.9/site-packages (from matplotlib!=3.6.1,>=3.1->seaborn) (4.25.0)\n",
      "Requirement already satisfied: kiwisolver>=1.0.1 in /Users/rodrigovillegasgomez/opt/anaconda3/lib/python3.9/site-packages (from matplotlib!=3.6.1,>=3.1->seaborn) (1.4.4)\n",
      "Requirement already satisfied: packaging>=20.0 in /Users/rodrigovillegasgomez/opt/anaconda3/lib/python3.9/site-packages (from matplotlib!=3.6.1,>=3.1->seaborn) (23.0)\n",
      "Requirement already satisfied: pillow>=6.2.0 in /Users/rodrigovillegasgomez/opt/anaconda3/lib/python3.9/site-packages (from matplotlib!=3.6.1,>=3.1->seaborn) (9.4.0)\n",
      "Requirement already satisfied: pyparsing>=2.3.1 in /Users/rodrigovillegasgomez/opt/anaconda3/lib/python3.9/site-packages (from matplotlib!=3.6.1,>=3.1->seaborn) (3.0.9)\n",
      "Requirement already satisfied: python-dateutil>=2.7 in /Users/rodrigovillegasgomez/opt/anaconda3/lib/python3.9/site-packages (from matplotlib!=3.6.1,>=3.1->seaborn) (2.8.2)\n",
      "Requirement already satisfied: importlib-resources>=3.2.0 in /Users/rodrigovillegasgomez/opt/anaconda3/lib/python3.9/site-packages (from matplotlib!=3.6.1,>=3.1->seaborn) (5.2.0)\n",
      "Requirement already satisfied: pytz>=2020.1 in /Users/rodrigovillegasgomez/opt/anaconda3/lib/python3.9/site-packages (from pandas>=0.25->seaborn) (2022.7)\n",
      "Requirement already satisfied: zipp>=3.1.0 in /Users/rodrigovillegasgomez/opt/anaconda3/lib/python3.9/site-packages (from importlib-resources>=3.2.0->matplotlib!=3.6.1,>=3.1->seaborn) (3.11.0)\n",
      "Requirement already satisfied: six>=1.5 in /Users/rodrigovillegasgomez/opt/anaconda3/lib/python3.9/site-packages (from python-dateutil>=2.7->matplotlib!=3.6.1,>=3.1->seaborn) (1.16.0)\n",
      "Note: you may need to restart the kernel to use updated packages.\n"
     ]
    }
   ],
   "source": [
    "pip install seaborn"
   ]
  },
  {
   "cell_type": "markdown",
   "metadata": {},
   "source": [
    "## **PANEL CONSTRUCTION**"
   ]
  },
  {
   "cell_type": "markdown",
   "metadata": {},
   "source": [
    "### **Dependent Variable: Prices Final Consumption**"
   ]
  },
  {
   "cell_type": "code",
   "execution_count": null,
   "metadata": {},
   "outputs": [
    {
     "name": "stdout",
     "output_type": "stream",
     "text": [
      "                                                       HourUTC  Month  Week  \\\n",
      "date                      subject_id                                          \n",
      "2022-01-01 00:00:00+01:00 1          2021-12-31 23:00:00+00:00      1    52   \n",
      "2022-01-01 01:00:00+01:00 1          2022-01-01 00:00:00+00:00      1    52   \n",
      "2022-01-01 02:00:00+01:00 1          2022-01-01 01:00:00+00:00      1    52   \n",
      "2022-01-01 03:00:00+01:00 1          2022-01-01 02:00:00+00:00      1    52   \n",
      "2022-01-01 04:00:00+01:00 1          2022-01-01 03:00:00+00:00      1    52   \n",
      "...                                                        ...    ...   ...   \n",
      "2023-11-30 19:00:00+01:00 4          2023-11-30 18:00:00+00:00     11    48   \n",
      "2023-11-30 20:00:00+01:00 4          2023-11-30 19:00:00+00:00     11    48   \n",
      "2023-11-30 21:00:00+01:00 4          2023-11-30 20:00:00+00:00     11    48   \n",
      "2023-11-30 22:00:00+01:00 4          2023-11-30 21:00:00+00:00     11    48   \n",
      "2023-11-30 23:00:00+01:00 4          2023-11-30 22:00:00+00:00     11    48   \n",
      "\n",
      "                                      Weekday  HourOfTheDay     h  \\\n",
      "date                      subject_id                                \n",
      "2022-01-01 00:00:00+01:00 1                 5             0     1   \n",
      "2022-01-01 01:00:00+01:00 1                 5             1     2   \n",
      "2022-01-01 02:00:00+01:00 1                 5             2     3   \n",
      "2022-01-01 03:00:00+01:00 1                 5             3     4   \n",
      "2022-01-01 04:00:00+01:00 1                 5             4     5   \n",
      "...                                       ...           ...   ...   \n",
      "2023-11-30 19:00:00+01:00 4                 3            19  8012   \n",
      "2023-11-30 20:00:00+01:00 4                 3            20  8013   \n",
      "2023-11-30 21:00:00+01:00 4                 3            21  8014   \n",
      "2023-11-30 22:00:00+01:00 4                 3            22  8015   \n",
      "2023-11-30 23:00:00+01:00 4                 3            23  8016   \n",
      "\n",
      "                                      Day-AheadPrice_€/MWh  \n",
      "date                      subject_id                        \n",
      "2022-01-01 00:00:00+01:00 1                          46.60  \n",
      "2022-01-01 01:00:00+01:00 1                          41.33  \n",
      "2022-01-01 02:00:00+01:00 1                          42.18  \n",
      "2022-01-01 03:00:00+01:00 1                          44.37  \n",
      "2022-01-01 04:00:00+01:00 1                          37.67  \n",
      "...                                                    ...  \n",
      "2023-11-30 19:00:00+01:00 4                         189.83  \n",
      "2023-11-30 20:00:00+01:00 4                         153.93  \n",
      "2023-11-30 21:00:00+01:00 4                         132.72  \n",
      "2023-11-30 22:00:00+01:00 4                         124.47  \n",
      "2023-11-30 23:00:00+01:00 4                         113.56  \n",
      "\n",
      "[67104 rows x 7 columns]\n"
     ]
    }
   ],
   "source": [
    "# PANEL FOR DEPENDENT VARIABLE\n",
    "\n",
    "# Convert 'HourCET/CEST' column to datetime format\n",
    "df_prices_2022['date'] = pd.to_datetime(df_prices_2022['HourCET/CEST'])\n",
    "df_prices_2023['date'] = pd.to_datetime(df_prices_2023['HourCET/CEST'])\n",
    "\n",
    "# Map 'g_E' to 'subject_id'\n",
    "subject_id_mapping = {'SE1': 1, 'SE2': 2, 'SE3': 3, 'SE4': 4}\n",
    "df_prices_2022['subject_id'] = df_prices_2022['g_E'].map(subject_id_mapping)\n",
    "df_prices_2023['subject_id'] = df_prices_2023['g_E'].map(subject_id_mapping)\n",
    "\n",
    "# Drop unnecessary columns\n",
    "df_prices_2022.drop(['HourCET/CEST', 'g_E'], axis=1, inplace=True)\n",
    "df_prices_2023.drop(['HourCET/CEST', 'g_E'], axis=1, inplace=True)\n",
    "\n",
    "# Set 'date' and 'subject_id' as the index\n",
    "df_prices_2022.set_index(['date', 'subject_id'], inplace=True)\n",
    "df_prices_2023.set_index(['date', 'subject_id'], inplace=True)\n",
    "\n",
    "# Merge the DataFrames\n",
    "data_prices_22_23 = pd.concat([df_prices_2022, df_prices_2023], axis=0)\n",
    "\n",
    "# Display the combined DataFrame\n",
    "print(data_prices_22_23)"
   ]
  },
  {
   "cell_type": "code",
   "execution_count": null,
   "metadata": {},
   "outputs": [
    {
     "data": {
      "image/png": "[encoded data removed]",
      "text/plain": [
       "<Figure size 1000x1000 with 4 Axes>"
      ]
     },
     "metadata": {},
     "output_type": "display_data"
    }
   ],
   "source": [
    "import pandas as pd\n",
    "import seaborn as sns\n",
    "import matplotlib.pyplot as plt\n",
    "\n",
    "# Assuming df_combined is your combined DataFrame from the previous example\n",
    "\n",
    "# Reset the index to make 'date' a regular column\n",
    "df_combined_reset = data_prices_22_23.reset_index()\n",
    "\n",
    "# Plot using seaborn\n",
    "sns.set(style=\"darkgrid\")\n",
    "\n",
    "# Create separate line plots for each 'subject_id'\n",
    "g = sns.FacetGrid(df_combined_reset, col=\"subject_id\", col_wrap=2, height=5, sharey=False)\n",
    "g.map(sns.lineplot, \"date\", \"Day-AheadPrice_€/MWh\")\n",
    "\n",
    "# Set plot labels and title\n",
    "g.set_axis_labels(\"Date\", \"Day-AheadPrice_€/MWh\")\n",
    "g.fig.suptitle(\"Day-Ahead Prices by Subject ID\", y=1.02)\n",
    "\n",
    "# Show the plot\n",
    "plt.show()"
   ]
  },
  {
   "cell_type": "markdown",
   "metadata": {},
   "source": [
    "### **Independent Variables**"
   ]
  },
  {
   "cell_type": "code",
   "execution_count": null,
   "metadata": {},
   "outputs": [
    {
     "name": "stdout",
     "output_type": "stream",
     "text": [
      "                                                       HourUTC  Month  Week  \\\n",
      "date                      subject_id                                          \n",
      "2022-01-01 00:00:00+01:00 1          2021-12-31 23:00:00+00:00      1    52   \n",
      "2022-01-01 01:00:00+01:00 1          2022-01-01 00:00:00+00:00      1    52   \n",
      "2022-01-01 02:00:00+01:00 1          2022-01-01 01:00:00+00:00      1    52   \n",
      "2022-01-01 03:00:00+01:00 1          2022-01-01 02:00:00+00:00      1    52   \n",
      "2022-01-01 04:00:00+01:00 1          2022-01-01 03:00:00+00:00      1    52   \n",
      "...                                                        ...    ...   ...   \n",
      "2023-11-30 19:00:00+01:00 4          2023-11-30 18:00:00+00:00     11    48   \n",
      "2023-11-30 20:00:00+01:00 4          2023-11-30 19:00:00+00:00     11    48   \n",
      "2023-11-30 21:00:00+01:00 4          2023-11-30 20:00:00+00:00     11    48   \n",
      "2023-11-30 22:00:00+01:00 4          2023-11-30 21:00:00+00:00     11    48   \n",
      "2023-11-30 23:00:00+01:00 4          2023-11-30 22:00:00+00:00     11    48   \n",
      "\n",
      "                                      Weekday  HourOfTheDay     h  \\\n",
      "date                      subject_id                                \n",
      "2022-01-01 00:00:00+01:00 1                 5             0     1   \n",
      "2022-01-01 01:00:00+01:00 1                 5             1     2   \n",
      "2022-01-01 02:00:00+01:00 1                 5             2     3   \n",
      "2022-01-01 03:00:00+01:00 1                 5             3     4   \n",
      "2022-01-01 04:00:00+01:00 1                 5             4     5   \n",
      "...                                       ...           ...   ...   \n",
      "2023-11-30 19:00:00+01:00 4                 3            19  8012   \n",
      "2023-11-30 20:00:00+01:00 4                 3            20  8013   \n",
      "2023-11-30 21:00:00+01:00 4                 3            21  8014   \n",
      "2023-11-30 22:00:00+01:00 4                 3            22  8015   \n",
      "2023-11-30 23:00:00+01:00 4                 3            23  8016   \n",
      "\n",
      "                                      ForecastedLoad_MWh  \n",
      "date                      subject_id                      \n",
      "2022-01-01 00:00:00+01:00 1                       1309.0  \n",
      "2022-01-01 01:00:00+01:00 1                       1308.0  \n",
      "2022-01-01 02:00:00+01:00 1                       1298.0  \n",
      "2022-01-01 03:00:00+01:00 1                       1284.0  \n",
      "2022-01-01 04:00:00+01:00 1                       1295.0  \n",
      "...                                                  ...  \n",
      "2023-11-30 19:00:00+01:00 4                       3901.0  \n",
      "2023-11-30 20:00:00+01:00 4                       3787.0  \n",
      "2023-11-30 21:00:00+01:00 4                       3655.0  \n",
      "2023-11-30 22:00:00+01:00 4                       3503.0  \n",
      "2023-11-30 23:00:00+01:00 4                       3354.0  \n",
      "\n",
      "[67104 rows x 7 columns]\n"
     ]
    }
   ],
   "source": [
    "# Convert 'HourCET/CEST' column to datetime format\n",
    "df_dem_est_2022['date'] = pd.to_datetime(df_dem_est_2022['HourCET/CEST'])\n",
    "df_dem_est_2023['date'] = pd.to_datetime(df_dem_est_2023['HourCET/CEST'])\n",
    "\n",
    "# Map 'g_E' to 'subject_id'\n",
    "subject_id_mapping = {'SE1': 1, 'SE2': 2, 'SE3': 3, 'SE4': 4}\n",
    "df_dem_est_2022['subject_id'] = df_dem_est_2022['g_E'].map(subject_id_mapping)\n",
    "df_dem_est_2023['subject_id'] = df_dem_est_2023['g_E'].map(subject_id_mapping)\n",
    "\n",
    "# Drop unnecessary columns\n",
    "df_dem_est_2022.drop(['HourCET/CEST', 'g_E'], axis=1, inplace=True)\n",
    "df_dem_est_2023.drop(['HourCET/CEST', 'g_E'], axis=1, inplace=True)\n",
    "\n",
    "# Set 'date' and 'subject_id' as the index\n",
    "df_dem_est_2022.set_index(['date', 'subject_id'], inplace=True)\n",
    "df_dem_est_2023.set_index(['date', 'subject_id'], inplace=True)\n",
    "\n",
    "# Merge the DataFrames\n",
    "data_dem_est_22_23 = pd.concat([df_dem_est_2022, df_dem_est_2023], axis=0)\n",
    "\n",
    "# Display the combined DataFrame\n",
    "print(data_dem_est_22_23)"
   ]
  },
  {
   "cell_type": "code",
   "execution_count": null,
   "metadata": {},
   "outputs": [
    {
     "name": "stdout",
     "output_type": "stream",
     "text": [
      "                                                       HourUTC  Month  Week  \\\n",
      "date                      subject_id                                          \n",
      "2022-01-01 00:00:00+01:00 1          2021-12-31 23:00:00+00:00      1    52   \n",
      "2022-01-01 01:00:00+01:00 1          2022-01-01 00:00:00+00:00      1    52   \n",
      "2022-01-01 02:00:00+01:00 1          2022-01-01 01:00:00+00:00      1    52   \n",
      "2022-01-01 03:00:00+01:00 1          2022-01-01 02:00:00+00:00      1    52   \n",
      "2022-01-01 04:00:00+01:00 1          2022-01-01 03:00:00+00:00      1    52   \n",
      "...                                                        ...    ...   ...   \n",
      "2023-11-30 19:00:00+01:00 4          2023-11-30 18:00:00+00:00     11    48   \n",
      "2023-11-30 20:00:00+01:00 4          2023-11-30 19:00:00+00:00     11    48   \n",
      "2023-11-30 21:00:00+01:00 4          2023-11-30 20:00:00+00:00     11    48   \n",
      "2023-11-30 22:00:00+01:00 4          2023-11-30 21:00:00+00:00     11    48   \n",
      "2023-11-30 23:00:00+01:00 4          2023-11-30 22:00:00+00:00     11    48   \n",
      "\n",
      "                                      Weekday  HourOfTheDay     h  \\\n",
      "date                      subject_id                                \n",
      "2022-01-01 00:00:00+01:00 1                 5             0     1   \n",
      "2022-01-01 01:00:00+01:00 1                 5             1     2   \n",
      "2022-01-01 02:00:00+01:00 1                 5             2     3   \n",
      "2022-01-01 03:00:00+01:00 1                 5             3     4   \n",
      "2022-01-01 04:00:00+01:00 1                 5             4     5   \n",
      "...                                       ...           ...   ...   \n",
      "2023-11-30 19:00:00+01:00 4                 3            19  8012   \n",
      "2023-11-30 20:00:00+01:00 4                 3            20  8013   \n",
      "2023-11-30 21:00:00+01:00 4                 3            21  8014   \n",
      "2023-11-30 22:00:00+01:00 4                 3            22  8015   \n",
      "2023-11-30 23:00:00+01:00 4                 3            23  8016   \n",
      "\n",
      "                                      ActualLoad_MWh  \n",
      "date                      subject_id                  \n",
      "2022-01-01 00:00:00+01:00 1                   1238.0  \n",
      "2022-01-01 01:00:00+01:00 1                   1286.0  \n",
      "2022-01-01 02:00:00+01:00 1                   1267.0  \n",
      "2022-01-01 03:00:00+01:00 1                   1222.0  \n",
      "2022-01-01 04:00:00+01:00 1                   1192.0  \n",
      "...                                              ...  \n",
      "2023-11-30 19:00:00+01:00 4                   3872.0  \n",
      "2023-11-30 20:00:00+01:00 4                   3832.0  \n",
      "2023-11-30 21:00:00+01:00 4                   3713.0  \n",
      "2023-11-30 22:00:00+01:00 4                   3641.0  \n",
      "2023-11-30 23:00:00+01:00 4                      NaN  \n",
      "\n",
      "[67104 rows x 7 columns]\n"
     ]
    }
   ],
   "source": [
    "# Convert 'HourCET/CEST' column to datetime format\n",
    "df_dem_obs_2022['date'] = pd.to_datetime(df_dem_obs_2022['HourCET/CEST'])\n",
    "df_dem_obs_2023['date'] = pd.to_datetime(df_dem_obs_2023['HourCET/CEST'])\n",
    "\n",
    "# Map 'g_E' to 'subject_id'\n",
    "subject_id_mapping = {'SE1': 1, 'SE2': 2, 'SE3': 3, 'SE4': 4}\n",
    "df_dem_obs_2022['subject_id'] = df_dem_obs_2022['g_E'].map(subject_id_mapping)\n",
    "df_dem_obs_2023['subject_id'] = df_dem_obs_2023['g_E'].map(subject_id_mapping)\n",
    "\n",
    "# Drop unnecessary columns\n",
    "df_dem_obs_2022.drop(['HourCET/CEST', 'g_E'], axis=1, inplace=True)\n",
    "df_dem_obs_2023.drop(['HourCET/CEST', 'g_E'], axis=1, inplace=True)\n",
    "\n",
    "# Set 'date' and 'subject_id' as the index\n",
    "df_dem_obs_2022.set_index(['date', 'subject_id'], inplace=True)\n",
    "df_dem_obs_2023.set_index(['date', 'subject_id'], inplace=True)\n",
    "\n",
    "# Merge the DataFrames\n",
    "data_dem_obs_22_23 = pd.concat([df_dem_obs_2022, df_dem_obs_2023], axis=0)\n",
    "\n",
    "# Display the combined DataFrame\n",
    "print(data_dem_obs_22_23)"
   ]
  },
  {
   "cell_type": "code",
   "execution_count": null,
   "metadata": {},
   "outputs": [
    {
     "name": "stdout",
     "output_type": "stream",
     "text": [
      "                                                       HourUTC  Month  Week  \\\n",
      "date                      subject_id                                          \n",
      "2022-01-01 00:00:00+01:00 1          2021-12-31 23:00:00+00:00      1    52   \n",
      "2022-01-01 01:00:00+01:00 1          2022-01-01 00:00:00+00:00      1    52   \n",
      "2022-01-01 02:00:00+01:00 1          2022-01-01 01:00:00+00:00      1    52   \n",
      "2022-01-01 03:00:00+01:00 1          2022-01-01 02:00:00+00:00      1    52   \n",
      "2022-01-01 04:00:00+01:00 1          2022-01-01 03:00:00+00:00      1    52   \n",
      "...                                                        ...    ...   ...   \n",
      "2023-11-30 19:00:00+01:00 4          2023-11-30 18:00:00+00:00     11    48   \n",
      "2023-11-30 20:00:00+01:00 4          2023-11-30 19:00:00+00:00     11    48   \n",
      "2023-11-30 21:00:00+01:00 4          2023-11-30 20:00:00+00:00     11    48   \n",
      "2023-11-30 22:00:00+01:00 4          2023-11-30 21:00:00+00:00     11    48   \n",
      "2023-11-30 23:00:00+01:00 4          2023-11-30 22:00:00+00:00     11    48   \n",
      "\n",
      "                                      Weekday  HourOfTheDay     h  \\\n",
      "date                      subject_id                                \n",
      "2022-01-01 00:00:00+01:00 1                 5             0     1   \n",
      "2022-01-01 01:00:00+01:00 1                 5             1     2   \n",
      "2022-01-01 02:00:00+01:00 1                 5             2     3   \n",
      "2022-01-01 03:00:00+01:00 1                 5             3     4   \n",
      "2022-01-01 04:00:00+01:00 1                 5             4     5   \n",
      "...                                       ...           ...   ...   \n",
      "2023-11-30 19:00:00+01:00 4                 3            19  8012   \n",
      "2023-11-30 20:00:00+01:00 4                 3            20  8013   \n",
      "2023-11-30 21:00:00+01:00 4                 3            21  8014   \n",
      "2023-11-30 22:00:00+01:00 4                 3            22  8015   \n",
      "2023-11-30 23:00:00+01:00 4                 3            23  8016   \n",
      "\n",
      "                                      HydroWaterReservoir_MWh  \n",
      "date                      subject_id                           \n",
      "2022-01-01 00:00:00+01:00 1                            2665.0  \n",
      "2022-01-01 01:00:00+01:00 1                            2412.0  \n",
      "2022-01-01 02:00:00+01:00 1                            2386.0  \n",
      "2022-01-01 03:00:00+01:00 1                            2403.0  \n",
      "2022-01-01 04:00:00+01:00 1                            2310.0  \n",
      "...                                                       ...  \n",
      "2023-11-30 19:00:00+01:00 4                             252.0  \n",
      "2023-11-30 20:00:00+01:00 4                             250.0  \n",
      "2023-11-30 21:00:00+01:00 4                             250.0  \n",
      "2023-11-30 22:00:00+01:00 4                             249.0  \n",
      "2023-11-30 23:00:00+01:00 4                               NaN  \n",
      "\n",
      "[67104 rows x 7 columns]\n"
     ]
    }
   ],
   "source": [
    "# Convert 'HourCET/CEST' column to datetime format\n",
    "df_gen_hydro_2022['date'] = pd.to_datetime(df_gen_hydro_2022['HourCET/CEST'])\n",
    "df_gen_hydro_2023['date'] = pd.to_datetime(df_gen_hydro_2023['HourCET/CEST'])\n",
    "\n",
    "# Map 'g_E' to 'subject_id'\n",
    "subject_id_mapping = {'SE1': 1, 'SE2': 2, 'SE3': 3, 'SE4': 4}\n",
    "df_gen_hydro_2022['subject_id'] = df_gen_hydro_2022['g_E'].map(subject_id_mapping)\n",
    "df_gen_hydro_2023['subject_id'] = df_gen_hydro_2023['g_E'].map(subject_id_mapping)\n",
    "\n",
    "# Drop unnecessary columns\n",
    "df_gen_hydro_2022.drop(['HourCET/CEST', 'g_E'], axis=1, inplace=True)\n",
    "df_gen_hydro_2023.drop(['HourCET/CEST', 'g_E'], axis=1, inplace=True)\n",
    "\n",
    "# Set 'date' and 'subject_id' as the index\n",
    "df_gen_hydro_2022.set_index(['date', 'subject_id'], inplace=True)\n",
    "df_gen_hydro_2023.set_index(['date', 'subject_id'], inplace=True)\n",
    "\n",
    "# Merge the DataFrames\n",
    "data_gen_hydro_22_23 = pd.concat([df_gen_hydro_2022, df_gen_hydro_2023], axis=0)\n",
    "\n",
    "# Display the combined DataFrame\n",
    "print(data_gen_hydro_22_23)"
   ]
  },
  {
   "cell_type": "code",
   "execution_count": null,
   "metadata": {},
   "outputs": [
    {
     "name": "stdout",
     "output_type": "stream",
     "text": [
      "                                                       HourUTC  Month  Week  \\\n",
      "date                      subject_id                                          \n",
      "2022-01-01 00:00:00+01:00 1          2021-12-31 23:00:00+00:00      1    52   \n",
      "2022-01-01 01:00:00+01:00 1          2022-01-01 00:00:00+00:00      1    52   \n",
      "2022-01-01 02:00:00+01:00 1          2022-01-01 01:00:00+00:00      1    52   \n",
      "2022-01-01 03:00:00+01:00 1          2022-01-01 02:00:00+00:00      1    52   \n",
      "2022-01-01 04:00:00+01:00 1          2022-01-01 03:00:00+00:00      1    52   \n",
      "...                                                        ...    ...   ...   \n",
      "2023-11-30 19:00:00+01:00 4          2023-11-30 18:00:00+00:00     11    48   \n",
      "2023-11-30 20:00:00+01:00 4          2023-11-30 19:00:00+00:00     11    48   \n",
      "2023-11-30 21:00:00+01:00 4          2023-11-30 20:00:00+00:00     11    48   \n",
      "2023-11-30 22:00:00+01:00 4          2023-11-30 21:00:00+00:00     11    48   \n",
      "2023-11-30 23:00:00+01:00 4          2023-11-30 22:00:00+00:00     11    48   \n",
      "\n",
      "                                      Weekday  HourOfTheDay     h  Solar_MWh  \n",
      "date                      subject_id                                          \n",
      "2022-01-01 00:00:00+01:00 1                 5             0     1        0.0  \n",
      "2022-01-01 01:00:00+01:00 1                 5             1     2        0.0  \n",
      "2022-01-01 02:00:00+01:00 1                 5             2     3        0.0  \n",
      "2022-01-01 03:00:00+01:00 1                 5             3     4        0.0  \n",
      "2022-01-01 04:00:00+01:00 1                 5             4     5        0.0  \n",
      "...                                       ...           ...   ...        ...  \n",
      "2023-11-30 19:00:00+01:00 4                 3            19  8012        0.0  \n",
      "2023-11-30 20:00:00+01:00 4                 3            20  8013        0.0  \n",
      "2023-11-30 21:00:00+01:00 4                 3            21  8014        0.0  \n",
      "2023-11-30 22:00:00+01:00 4                 3            22  8015        0.0  \n",
      "2023-11-30 23:00:00+01:00 4                 3            23  8016        0.0  \n",
      "\n",
      "[67104 rows x 7 columns]\n"
     ]
    }
   ],
   "source": [
    "# Convert 'HourCET/CEST' column to datetime format\n",
    "df_gen_sol_2022['date'] = pd.to_datetime(df_gen_sol_2022['HourCET/CEST'])\n",
    "df_gen_sol_2023['date'] = pd.to_datetime(df_gen_sol_2023['HourCET/CEST'])\n",
    "\n",
    "# Map 'g_E' to 'subject_id'\n",
    "subject_id_mapping = {'SE1': 1, 'SE2': 2, 'SE3': 3, 'SE4': 4}\n",
    "df_gen_sol_2022['subject_id'] = df_gen_sol_2022['g_E'].map(subject_id_mapping)\n",
    "df_gen_sol_2023['subject_id'] = df_gen_sol_2023['g_E'].map(subject_id_mapping)\n",
    "\n",
    "# Drop unnecessary columns\n",
    "df_gen_sol_2022.drop(['HourCET/CEST', 'g_E'], axis=1, inplace=True)\n",
    "df_gen_sol_2023.drop(['HourCET/CEST', 'g_E'], axis=1, inplace=True)\n",
    "\n",
    "# Set 'date' and 'subject_id' as the index\n",
    "df_gen_sol_2022.set_index(['date', 'subject_id'], inplace=True)\n",
    "df_gen_sol_2023.set_index(['date', 'subject_id'], inplace=True)\n",
    "\n",
    "# Merge the DataFrames\n",
    "data_gen_sol_22_23 = pd.concat([df_gen_sol_2022, df_gen_sol_2023], axis=0)\n",
    "\n",
    "# Display the combined DataFrame\n",
    "print(data_gen_sol_22_23)"
   ]
  },
  {
   "cell_type": "code",
   "execution_count": null,
   "metadata": {},
   "outputs": [
    {
     "name": "stdout",
     "output_type": "stream",
     "text": [
      "                                                       HourUTC  Month  Week  \\\n",
      "date                      subject_id                                          \n",
      "2022-01-01 00:00:00+01:00 1          2021-12-31 23:00:00+00:00      1    52   \n",
      "2022-01-01 01:00:00+01:00 1          2022-01-01 00:00:00+00:00      1    52   \n",
      "2022-01-01 02:00:00+01:00 1          2022-01-01 01:00:00+00:00      1    52   \n",
      "2022-01-01 03:00:00+01:00 1          2022-01-01 02:00:00+00:00      1    52   \n",
      "2022-01-01 04:00:00+01:00 1          2022-01-01 03:00:00+00:00      1    52   \n",
      "...                                                        ...    ...   ...   \n",
      "2023-11-30 19:00:00+01:00 4          2023-11-30 18:00:00+00:00     11    48   \n",
      "2023-11-30 20:00:00+01:00 4          2023-11-30 19:00:00+00:00     11    48   \n",
      "2023-11-30 21:00:00+01:00 4          2023-11-30 20:00:00+00:00     11    48   \n",
      "2023-11-30 22:00:00+01:00 4          2023-11-30 21:00:00+00:00     11    48   \n",
      "2023-11-30 23:00:00+01:00 4          2023-11-30 22:00:00+00:00     11    48   \n",
      "\n",
      "                                      Weekday  HourOfTheDay     h  \\\n",
      "date                      subject_id                                \n",
      "2022-01-01 00:00:00+01:00 1                 5             0     1   \n",
      "2022-01-01 01:00:00+01:00 1                 5             1     2   \n",
      "2022-01-01 02:00:00+01:00 1                 5             2     3   \n",
      "2022-01-01 03:00:00+01:00 1                 5             3     4   \n",
      "2022-01-01 04:00:00+01:00 1                 5             4     5   \n",
      "...                                       ...           ...   ...   \n",
      "2023-11-30 19:00:00+01:00 4                 3            19  8012   \n",
      "2023-11-30 20:00:00+01:00 4                 3            20  8013   \n",
      "2023-11-30 21:00:00+01:00 4                 3            21  8014   \n",
      "2023-11-30 22:00:00+01:00 4                 3            22  8015   \n",
      "2023-11-30 23:00:00+01:00 4                 3            23  8016   \n",
      "\n",
      "                                      WindOnshore_MWh  \n",
      "date                      subject_id                   \n",
      "2022-01-01 00:00:00+01:00 1                    1148.0  \n",
      "2022-01-01 01:00:00+01:00 1                    1195.0  \n",
      "2022-01-01 02:00:00+01:00 1                    1220.0  \n",
      "2022-01-01 03:00:00+01:00 1                    1254.0  \n",
      "2022-01-01 04:00:00+01:00 1                    1266.0  \n",
      "...                                               ...  \n",
      "2023-11-30 19:00:00+01:00 4                     703.0  \n",
      "2023-11-30 20:00:00+01:00 4                     693.0  \n",
      "2023-11-30 21:00:00+01:00 4                     688.0  \n",
      "2023-11-30 22:00:00+01:00 4                     688.0  \n",
      "2023-11-30 23:00:00+01:00 4                     684.0  \n",
      "\n",
      "[67104 rows x 7 columns]\n"
     ]
    }
   ],
   "source": [
    "# Convert 'HourCET/CEST' column to datetime format\n",
    "df_gen_wind_2022['date'] = pd.to_datetime(df_gen_wind_2022['HourCET/CEST'])\n",
    "df_gen_wind_2023['date'] = pd.to_datetime(df_gen_wind_2023['HourCET/CEST'])\n",
    "\n",
    "# Map 'g_E' to 'subject_id'\n",
    "subject_id_mapping = {'SE1': 1, 'SE2': 2, 'SE3': 3, 'SE4': 4}\n",
    "df_gen_wind_2022['subject_id'] = df_gen_wind_2022['g_E'].map(subject_id_mapping)\n",
    "df_gen_wind_2023['subject_id'] = df_gen_wind_2023['g_E'].map(subject_id_mapping)\n",
    "\n",
    "# Drop unnecessary columns\n",
    "df_gen_wind_2022.drop(['HourCET/CEST', 'g_E'], axis=1, inplace=True)\n",
    "df_gen_wind_2023.drop(['HourCET/CEST', 'g_E'], axis=1, inplace=True)\n",
    "\n",
    "# Set 'date' and 'subject_id' as the index\n",
    "df_gen_wind_2022.set_index(['date', 'subject_id'], inplace=True)\n",
    "df_gen_wind_2023.set_index(['date', 'subject_id'], inplace=True)\n",
    "\n",
    "# Merge the DataFrames\n",
    "data_gen_wind_22_23 = pd.concat([df_gen_wind_2022, df_gen_wind_2023], axis=0)\n",
    "\n",
    "# Display the combined DataFrame\n",
    "print(data_gen_wind_22_23)"
   ]
  },
  {
   "cell_type": "code",
   "execution_count": null,
   "metadata": {},
   "outputs": [
    {
     "name": "stdout",
     "output_type": "stream",
     "text": [
      "                                                       HourUTC  Month  Week  \\\n",
      "date                      subject_id                                          \n",
      "2022-01-01 00:00:00+01:00 1          2021-12-31 23:00:00+00:00      1    52   \n",
      "2022-01-01 01:00:00+01:00 1          2022-01-01 00:00:00+00:00      1    52   \n",
      "2022-01-01 02:00:00+01:00 1          2022-01-01 01:00:00+00:00      1    52   \n",
      "2022-01-01 03:00:00+01:00 1          2022-01-01 02:00:00+00:00      1    52   \n",
      "2022-01-01 04:00:00+01:00 1          2022-01-01 03:00:00+00:00      1    52   \n",
      "...                                                        ...    ...   ...   \n",
      "2023-11-30 19:00:00+01:00 4          2023-11-30 18:00:00+00:00     11    48   \n",
      "2023-11-30 20:00:00+01:00 4          2023-11-30 19:00:00+00:00     11    48   \n",
      "2023-11-30 21:00:00+01:00 4          2023-11-30 20:00:00+00:00     11    48   \n",
      "2023-11-30 22:00:00+01:00 4          2023-11-30 21:00:00+00:00     11    48   \n",
      "2023-11-30 23:00:00+01:00 4          2023-11-30 22:00:00+00:00     11    48   \n",
      "\n",
      "                                      Weekday  HourOfTheDay     h  Other_MWh  \n",
      "date                      subject_id                                          \n",
      "2022-01-01 00:00:00+01:00 1                 5             0     1       37.0  \n",
      "2022-01-01 01:00:00+01:00 1                 5             1     2       37.0  \n",
      "2022-01-01 02:00:00+01:00 1                 5             2     3       37.0  \n",
      "2022-01-01 03:00:00+01:00 1                 5             3     4       39.0  \n",
      "2022-01-01 04:00:00+01:00 1                 5             4     5       39.0  \n",
      "...                                       ...           ...   ...        ...  \n",
      "2023-11-30 19:00:00+01:00 4                 3            19  8012      367.0  \n",
      "2023-11-30 20:00:00+01:00 4                 3            20  8013      276.0  \n",
      "2023-11-30 21:00:00+01:00 4                 3            21  8014      256.0  \n",
      "2023-11-30 22:00:00+01:00 4                 3            22  8015      243.0  \n",
      "2023-11-30 23:00:00+01:00 4                 3            23  8016        NaN  \n",
      "\n",
      "[67104 rows x 7 columns]\n"
     ]
    }
   ],
   "source": [
    "# Convert 'HourCET/CEST' column to datetime format\n",
    "df_gen_other_2022['date'] = pd.to_datetime(df_gen_other_2022['HourCET/CEST'])\n",
    "df_gen_other_2023['date'] = pd.to_datetime(df_gen_other_2023['HourCET/CEST'])\n",
    "\n",
    "# Map 'g_E' to 'subject_id'\n",
    "subject_id_mapping = {'SE1': 1, 'SE2': 2, 'SE3': 3, 'SE4': 4}\n",
    "df_gen_other_2022['subject_id'] = df_gen_other_2022['g_E'].map(subject_id_mapping)\n",
    "df_gen_other_2023['subject_id'] = df_gen_other_2023['g_E'].map(subject_id_mapping)\n",
    "\n",
    "# Drop unnecessary columns\n",
    "df_gen_other_2022.drop(['HourCET/CEST', 'g_E'], axis=1, inplace=True)\n",
    "df_gen_other_2023.drop(['HourCET/CEST', 'g_E'], axis=1, inplace=True)\n",
    "\n",
    "# Set 'date' and 'subject_id' as the index\n",
    "df_gen_other_2022.set_index(['date', 'subject_id'], inplace=True)\n",
    "df_gen_other_2023.set_index(['date', 'subject_id'], inplace=True)\n",
    "\n",
    "# Merge the DataFrames\n",
    "data_gen_other_22_23 = pd.concat([df_gen_other_2022, df_gen_other_2023], axis=0)\n",
    "\n",
    "# Display the combined DataFrame\n",
    "print(data_gen_other_22_23)"
   ]
  },
  {
   "cell_type": "markdown",
   "metadata": {},
   "source": [
    "### **Pre merging: Clean and setting**"
   ]
  },
  {
   "cell_type": "code",
   "execution_count": null,
   "metadata": {},
   "outputs": [],
   "source": [
    "# List of DataFrames\n",
    "dataframes_list = [data_prices_22_23, data_dem_est_22_23, data_dem_obs_22_23,\n",
    "                   data_gen_hydro_22_23, data_gen_sol_22_23, data_gen_wind_22_23,\n",
    "                   data_gen_other_22_23]\n",
    "\n",
    "# Iterate through each DataFrame\n",
    "for df in dataframes_list:\n",
    "    # Rename columns\n",
    "    df.rename(columns={'HourUTC': 'dt',\n",
    "                       'Month': 'm',\n",
    "                       'Week': 'week',\n",
    "                       'Weekday': 'w_day',\n",
    "                       'h': 'h_s',\n",
    "                       'HourOfTheDay': 'hour'}, inplace=True)\n",
    "\n",
    "    # Add 1 to the 'hour' column\n",
    "    df['hour'] = df['hour'] + 1\n",
    "\n",
    "    # Add 1 to the 'w_day' column\n",
    "    df['w_day'] = df['w_day'] + 1\n",
    "\n",
    "    # Display the modified DataFrame\n",
    "    # print(df)"
   ]
  },
  {
   "cell_type": "code",
   "execution_count": null,
   "metadata": {},
   "outputs": [],
   "source": [
    "# Rename columns in data_prices_22_23\n",
    "data_prices_22_23.rename(columns={'Day-AheadPrice_€/MWh': 'price'}, inplace=True)\n",
    "\n",
    "# Rename columns in data_dem_est_22_23\n",
    "data_dem_est_22_23.rename(columns={'ForecastedLoad_MWh': 'load_f'}, inplace=True)\n",
    "\n",
    "# Rename columns in data_dem_obs_22_23\n",
    "data_dem_obs_22_23.rename(columns={'ActualLoad_MWh': 'load_a'}, inplace=True)\n",
    "\n",
    "# Rename columns in data_gen_hydro_22_23\n",
    "data_gen_hydro_22_23.rename(columns={'HydroWaterReservoir_MWh': 'hydro_r'}, inplace=True)\n",
    "\n",
    "# Rename columns in data_gen_sol_22_23\n",
    "data_gen_sol_22_23.rename(columns={'Solar_MWh': 'solar'}, inplace=True)\n",
    "\n",
    "# Rename columns in data_gen_wind_22_23\n",
    "data_gen_wind_22_23.rename(columns={'WindOnshore_MWh': 'wind'}, inplace=True)\n",
    "\n",
    "# Rename columns in data_gen_other_22_23\n",
    "data_gen_other_22_23.rename(columns={'Other_MWh': 'other'}, inplace=True)"
   ]
  },
  {
   "cell_type": "code",
   "execution_count": null,
   "metadata": {},
   "outputs": [],
   "source": [
    "data_prices_22_23.name = 'data_prices_22_23'\n",
    "data_dem_est_22_23.name = 'data_dem_est_22_23'\n",
    "data_dem_obs_22_23.name = 'data_dem_obs_22_23'\n",
    "data_gen_hydro_22_23.name = 'data_gen_hydro_22_23'\n",
    "data_gen_sol_22_23.name = 'data_gen_sol_22_23'\n",
    "data_gen_wind_22_23.name = 'data_gen_wind_22_23'\n",
    "data_gen_other_22_23.name = 'data_gen_other_22_23'"
   ]
  },
  {
   "cell_type": "code",
   "execution_count": null,
   "metadata": {},
   "outputs": [
    {
     "name": "stdout",
     "output_type": "stream",
     "text": [
      "data_prices_22_23 exported to data_prices_22_23.csv\n",
      "data_dem_est_22_23 exported to data_dem_est_22_23.csv\n",
      "data_dem_obs_22_23 exported to data_dem_obs_22_23.csv\n",
      "data_gen_hydro_22_23 exported to data_gen_hydro_22_23.csv\n",
      "data_gen_sol_22_23 exported to data_gen_sol_22_23.csv\n",
      "data_gen_wind_22_23 exported to data_gen_wind_22_23.csv\n",
      "data_gen_other_22_23 exported to data_gen_other_22_23.csv\n"
     ]
    }
   ],
   "source": [
    "# List of DataFrames\n",
    "dataframes_list = [data_prices_22_23, data_dem_est_22_23, data_dem_obs_22_23,\n",
    "                   data_gen_hydro_22_23, data_gen_sol_22_23, data_gen_wind_22_23,\n",
    "                   data_gen_other_22_23]\n",
    "\n",
    "# Iterate through each DataFrame and export to CSV\n",
    "for df in dataframes_list:\n",
    "    csv_name = f\"{df.name}.csv\"  # Using the DataFrame name as the CSV file name\n",
    "    df.to_csv(csv_name, index=True)\n",
    "\n",
    "    print(f\"{df.name} exported to {csv_name}\")"
   ]
  },
  {
   "cell_type": "code",
   "execution_count": null,
   "metadata": {},
   "outputs": [],
   "source": [
    "# Selecting the required variables from data_prices_22_23\n",
    "pre_panel_prices = data_prices_22_23[['dt', 'm', 'week', 'w_day', 'hour', 'h_s', 'price']]\n",
    "\n",
    "# Selecting the required variables from other DataFrames\n",
    "pre_panel_dem_est = data_dem_est_22_23[['load_f']]\n",
    "pre_panel_dem_obs = data_dem_obs_22_23[['load_a']]\n",
    "pre_panel_gen_hydro = data_gen_hydro_22_23[['hydro_r']].rename(columns={'hydro_r': 'hydro'})\n",
    "pre_panel_gen_sol = data_gen_sol_22_23[['solar']]\n",
    "pre_panel_gen_wind = data_gen_wind_22_23[['wind']]\n",
    "pre_panel_gen_other = data_gen_other_22_23[['other']]\n",
    "\n",
    "# Merging the DataFrames based on the common index\n",
    "pre_panel = pd.concat([pre_panel_prices, pre_panel_dem_est, pre_panel_dem_obs,\n",
    "                      pre_panel_gen_hydro, pre_panel_gen_sol, pre_panel_gen_wind,\n",
    "                      pre_panel_gen_other], axis=1)\n",
    "\n",
    "# Display the merged DataFrame\n",
    "# print(pre_panel)"
   ]
  },
  {
   "cell_type": "code",
   "execution_count": null,
   "metadata": {},
   "outputs": [
    {
     "name": "stdout",
     "output_type": "stream",
     "text": [
      "                                                            dt   m  week  \\\n",
      "date                      subject_id                                       \n",
      "2022-01-01 00:00:00+01:00 1          2021-12-31 23:00:00+00:00   1    52   \n",
      "2022-01-01 01:00:00+01:00 1          2022-01-01 00:00:00+00:00   1    52   \n",
      "2022-01-01 02:00:00+01:00 1          2022-01-01 01:00:00+00:00   1    52   \n",
      "2022-01-01 03:00:00+01:00 1          2022-01-01 02:00:00+00:00   1    52   \n",
      "2022-01-01 04:00:00+01:00 1          2022-01-01 03:00:00+00:00   1    52   \n",
      "...                                                        ...  ..   ...   \n",
      "2023-11-30 19:00:00+01:00 4          2023-11-30 18:00:00+00:00  11    48   \n",
      "2023-11-30 20:00:00+01:00 4          2023-11-30 19:00:00+00:00  11    48   \n",
      "2023-11-30 21:00:00+01:00 4          2023-11-30 20:00:00+00:00  11    48   \n",
      "2023-11-30 22:00:00+01:00 4          2023-11-30 21:00:00+00:00  11    48   \n",
      "2023-11-30 23:00:00+01:00 4          2023-11-30 22:00:00+00:00  11    48   \n",
      "\n",
      "                                      w_day  hour   h_s   price  load_f  \\\n",
      "date                      subject_id                                      \n",
      "2022-01-01 00:00:00+01:00 1               6     1     1   46.60  1309.0   \n",
      "2022-01-01 01:00:00+01:00 1               6     2     2   41.33  1308.0   \n",
      "2022-01-01 02:00:00+01:00 1               6     3     3   42.18  1298.0   \n",
      "2022-01-01 03:00:00+01:00 1               6     4     4   44.37  1284.0   \n",
      "2022-01-01 04:00:00+01:00 1               6     5     5   37.67  1295.0   \n",
      "...                                     ...   ...   ...     ...     ...   \n",
      "2023-11-30 19:00:00+01:00 4               4    20  8012  189.83  3901.0   \n",
      "2023-11-30 20:00:00+01:00 4               4    21  8013  153.93  3787.0   \n",
      "2023-11-30 21:00:00+01:00 4               4    22  8014  132.72  3655.0   \n",
      "2023-11-30 22:00:00+01:00 4               4    23  8015  124.47  3503.0   \n",
      "2023-11-30 23:00:00+01:00 4               4    24  8016  113.56  3354.0   \n",
      "\n",
      "                                      load_a   hydro  solar    wind  other  \\\n",
      "date                      subject_id                                         \n",
      "2022-01-01 00:00:00+01:00 1           1238.0  2665.0    0.0  1148.0   37.0   \n",
      "2022-01-01 01:00:00+01:00 1           1286.0  2412.0    0.0  1195.0   37.0   \n",
      "2022-01-01 02:00:00+01:00 1           1267.0  2386.0    0.0  1220.0   37.0   \n",
      "2022-01-01 03:00:00+01:00 1           1222.0  2403.0    0.0  1254.0   39.0   \n",
      "2022-01-01 04:00:00+01:00 1           1192.0  2310.0    0.0  1266.0   39.0   \n",
      "...                                      ...     ...    ...     ...    ...   \n",
      "2023-11-30 19:00:00+01:00 4           3872.0   252.0    0.0   703.0  367.0   \n",
      "2023-11-30 20:00:00+01:00 4           3832.0   250.0    0.0   693.0  276.0   \n",
      "2023-11-30 21:00:00+01:00 4           3713.0   250.0    0.0   688.0  256.0   \n",
      "2023-11-30 22:00:00+01:00 4           3641.0   249.0    0.0   688.0  243.0   \n",
      "2023-11-30 23:00:00+01:00 4              NaN     NaN    0.0   684.0    NaN   \n",
      "\n",
      "                                      load_var  \n",
      "date                      subject_id            \n",
      "2022-01-01 00:00:00+01:00 1               71.0  \n",
      "2022-01-01 01:00:00+01:00 1               22.0  \n",
      "2022-01-01 02:00:00+01:00 1               31.0  \n",
      "2022-01-01 03:00:00+01:00 1               62.0  \n",
      "2022-01-01 04:00:00+01:00 1              103.0  \n",
      "...                                        ...  \n",
      "2023-11-30 19:00:00+01:00 4               29.0  \n",
      "2023-11-30 20:00:00+01:00 4              -45.0  \n",
      "2023-11-30 21:00:00+01:00 4              -58.0  \n",
      "2023-11-30 22:00:00+01:00 4             -138.0  \n",
      "2023-11-30 23:00:00+01:00 4                NaN  \n",
      "\n",
      "[67104 rows x 14 columns]\n"
     ]
    }
   ],
   "source": [
    "# Creating the new variable 'load_var'\n",
    "pre_panel['load_var'] = pre_panel['load_f'] - pre_panel['load_a']\n",
    "\n",
    "# Display the updated DataFrame\n",
    "print(pre_panel)"
   ]
  },
  {
   "cell_type": "code",
   "execution_count": null,
   "metadata": {},
   "outputs": [],
   "source": [
    "# Save pre_panel DataFrame to a CSV file with index\n",
    "pre_panel.to_csv('pre_panel_with_index.csv')"
   ]
  },
  {
   "cell_type": "markdown",
   "metadata": {},
   "source": [
    "### **Panel Definitive**"
   ]
  },
  {
   "cell_type": "code",
   "execution_count": null,
   "metadata": {},
   "outputs": [],
   "source": [
    "panel = pre_panel\n",
    "\n",
    "# Creating new columns for 'subject_id' and 'date'\n",
    "panel['subject_id'] = panel.index.get_level_values('subject_id')\n",
    "panel['date'] = panel.index.get_level_values('date')"
   ]
  },
  {
   "cell_type": "markdown",
   "metadata": {},
   "source": [
    "## **Econometric Estimation**"
   ]
  },
  {
   "cell_type": "code",
   "execution_count": null,
   "metadata": {},
   "outputs": [
    {
     "name": "stdout",
     "output_type": "stream",
     "text": [
      "Requirement already satisfied: linearmodels in /Users/rodrigovillegasgomez/opt/anaconda3/lib/python3.9/site-packages (5.3)\n",
      "Requirement already satisfied: numpy>=1.19.0 in /Users/rodrigovillegasgomez/opt/anaconda3/lib/python3.9/site-packages (from linearmodels) (1.23.5)\n",
      "Requirement already satisfied: pandas>=1.1.0 in /Users/rodrigovillegasgomez/opt/anaconda3/lib/python3.9/site-packages (from linearmodels) (1.4.4)\n",
      "Requirement already satisfied: scipy>=1.5.0 in /Users/rodrigovillegasgomez/opt/anaconda3/lib/python3.9/site-packages (from linearmodels) (1.11.1)\n",
      "Requirement already satisfied: statsmodels>=0.12.0 in /Users/rodrigovillegasgomez/opt/anaconda3/lib/python3.9/site-packages (from linearmodels) (0.13.5)\n",
      "Requirement already satisfied: mypy-extensions>=0.4 in /Users/rodrigovillegasgomez/opt/anaconda3/lib/python3.9/site-packages (from linearmodels) (0.4.3)\n",
      "Requirement already satisfied: Cython>=0.29.34 in /Users/rodrigovillegasgomez/opt/anaconda3/lib/python3.9/site-packages (from linearmodels) (3.0.5)\n",
      "Requirement already satisfied: pyhdfe>=0.1 in /Users/rodrigovillegasgomez/opt/anaconda3/lib/python3.9/site-packages (from linearmodels) (0.2.0)\n",
      "Requirement already satisfied: formulaic>=0.6.5 in /Users/rodrigovillegasgomez/opt/anaconda3/lib/python3.9/site-packages (from linearmodels) (0.6.6)\n",
      "Requirement already satisfied: setuptools-scm<8.0.0,>=7.0.0 in /Users/rodrigovillegasgomez/opt/anaconda3/lib/python3.9/site-packages (from setuptools-scm[toml]<8.0.0,>=7.0.0->linearmodels) (7.1.0)\n",
      "Requirement already satisfied: astor>=0.8 in /Users/rodrigovillegasgomez/opt/anaconda3/lib/python3.9/site-packages (from formulaic>=0.6.5->linearmodels) (0.8.1)\n",
      "Requirement already satisfied: interface-meta>=1.2.0 in /Users/rodrigovillegasgomez/opt/anaconda3/lib/python3.9/site-packages (from formulaic>=0.6.5->linearmodels) (1.3.0)\n",
      "Requirement already satisfied: typing-extensions>=4.2.0 in /Users/rodrigovillegasgomez/opt/anaconda3/lib/python3.9/site-packages (from formulaic>=0.6.5->linearmodels) (4.4.0)\n",
      "Requirement already satisfied: wrapt>=1.0 in /Users/rodrigovillegasgomez/opt/anaconda3/lib/python3.9/site-packages (from formulaic>=0.6.5->linearmodels) (1.14.1)\n",
      "Requirement already satisfied: python-dateutil>=2.8.1 in /Users/rodrigovillegasgomez/opt/anaconda3/lib/python3.9/site-packages (from pandas>=1.1.0->linearmodels) (2.8.2)\n",
      "Requirement already satisfied: pytz>=2020.1 in /Users/rodrigovillegasgomez/opt/anaconda3/lib/python3.9/site-packages (from pandas>=1.1.0->linearmodels) (2022.7)\n",
      "Requirement already satisfied: packaging>=20.0 in /Users/rodrigovillegasgomez/opt/anaconda3/lib/python3.9/site-packages (from setuptools-scm<8.0.0,>=7.0.0->setuptools-scm[toml]<8.0.0,>=7.0.0->linearmodels) (23.0)\n",
      "Requirement already satisfied: setuptools in /Users/rodrigovillegasgomez/opt/anaconda3/lib/python3.9/site-packages (from setuptools-scm<8.0.0,>=7.0.0->setuptools-scm[toml]<8.0.0,>=7.0.0->linearmodels) (65.6.3)\n",
      "Requirement already satisfied: tomli>=1.0.0 in /Users/rodrigovillegasgomez/opt/anaconda3/lib/python3.9/site-packages (from setuptools-scm<8.0.0,>=7.0.0->setuptools-scm[toml]<8.0.0,>=7.0.0->linearmodels) (2.0.1)\n",
      "Requirement already satisfied: patsy>=0.5.2 in /Users/rodrigovillegasgomez/opt/anaconda3/lib/python3.9/site-packages (from statsmodels>=0.12.0->linearmodels) (0.5.3)\n",
      "Requirement already satisfied: six in /Users/rodrigovillegasgomez/opt/anaconda3/lib/python3.9/site-packages (from patsy>=0.5.2->statsmodels>=0.12.0->linearmodels) (1.16.0)\n",
      "Note: you may need to restart the kernel to use updated packages.\n"
     ]
    }
   ],
   "source": [
    "pip install linearmodels"
   ]
  },
  {
   "cell_type": "markdown",
   "metadata": {},
   "source": [
    "### **Ordinary Regression OLS** "
   ]
  },
  {
   "cell_type": "code",
   "execution_count": null,
   "metadata": {},
   "outputs": [
    {
     "name": "stderr",
     "output_type": "stream",
     "text": [
      "/Users/rodrigovillegasgomez/opt/anaconda3/lib/python3.9/site-packages/linearmodels/panel/model.py:1214: MissingValueWarning: \n",
      "Inputs contain missing values. Dropping rows with missing observations.\n",
      "  super().__init__(dependent, exog, weights=weights, check_rank=check_rank)\n"
     ]
    },
    {
     "name": "stdout",
     "output_type": "stream",
     "text": [
      "                          PanelOLS Estimation Summary                           \n",
      "================================================================================\n",
      "Dep. Variable:                  price   R-squared:                        0.0886\n",
      "Estimator:                   PanelOLS   R-squared (Between):              0.0035\n",
      "No. Observations:               66896   R-squared (Within):               0.2030\n",
      "Date:                Sun, Dec 17 2023   R-squared (Overall):              0.0716\n",
      "Time:                        18:35:08   Log-likelihood                -3.504e+05\n",
      "Cov. Estimator:            Unadjusted                                           \n",
      "                                        F-statistic:                      975.62\n",
      "Entities:                       16724   P-value                           0.0000\n",
      "Avg Obs:                       4.0000   Distribution:                 F(5,50164)\n",
      "Min Obs:                       4.0000                                           \n",
      "Max Obs:                       4.0000   F-statistic (robust):             975.62\n",
      "                                        P-value                           0.0000\n",
      "Time periods:                       4   Distribution:                 F(5,50164)\n",
      "Avg Obs:                    1.672e+04                                           \n",
      "Min Obs:                    1.672e+04                                           \n",
      "Max Obs:                    1.672e+04                                           \n",
      "                                                                                \n",
      "                             Parameter Estimates                              \n",
      "==============================================================================\n",
      "            Parameter  Std. Err.     T-stat    P-value    Lower CI    Upper CI\n",
      "------------------------------------------------------------------------------\n",
      "Intercept      111.91     1.0211     109.60     0.0000      109.91      113.91\n",
      "hydro         -0.0167     0.0004    -46.668     0.0000     -0.0174     -0.0160\n",
      "solar          0.0364     0.0037     9.7905     0.0000      0.0291      0.0437\n",
      "wind          -0.0167     0.0004    -42.193     0.0000     -0.0175     -0.0160\n",
      "other          0.0432     0.0016     26.516     0.0000      0.0400      0.0464\n",
      "load_var       0.0057     0.0011     5.2007     0.0000      0.0036      0.0079\n",
      "==============================================================================\n",
      "\n",
      "F-test for Poolability: 7.1048\n",
      "P-value: 0.0000\n",
      "Distribution: F(16726,50164)\n",
      "\n",
      "Included effects: Entity, Time\n"
     ]
    }
   ],
   "source": [
    "from linearmodels.panel import PanelOLS\n",
    "\n",
    "# Create a PanelOLS model with fixed effects for both entities and time\n",
    "model_formula = 'price ~ 1 + hydro + solar + wind + other + load_var + EntityEffects + TimeEffects'\n",
    "model = PanelOLS.from_formula(model_formula, data=pre_panel)\n",
    "\n",
    "# Fit the model\n",
    "results = model.fit()\n",
    "\n",
    "# Display regression results\n",
    "print(results)\n"
   ]
  },
  {
   "cell_type": "markdown",
   "metadata": {},
   "source": [
    "### **Two Way Fixed Effects Model**"
   ]
  },
  {
   "cell_type": "code",
   "execution_count": null,
   "metadata": {},
   "outputs": [
    {
     "name": "stdout",
     "output_type": "stream",
     "text": [
      "Requirement already satisfied: FixedEffectModel in /Users/rodrigovillegasgomez/opt/anaconda3/lib/python3.9/site-packages (0.0.5)\n",
      "Requirement already satisfied: pandas>=0.16.0 in /Users/rodrigovillegasgomez/opt/anaconda3/lib/python3.9/site-packages (from FixedEffectModel) (1.4.4)\n",
      "Requirement already satisfied: numpy>=1.9.2 in /Users/rodrigovillegasgomez/opt/anaconda3/lib/python3.9/site-packages (from FixedEffectModel) (1.23.5)\n",
      "Requirement already satisfied: scipy>=1.6.0 in /Users/rodrigovillegasgomez/opt/anaconda3/lib/python3.9/site-packages (from FixedEffectModel) (1.11.1)\n",
      "Requirement already satisfied: statsmodels>=0.12.2 in /Users/rodrigovillegasgomez/opt/anaconda3/lib/python3.9/site-packages (from FixedEffectModel) (0.13.5)\n",
      "Requirement already satisfied: networkx>=2.5 in /Users/rodrigovillegasgomez/opt/anaconda3/lib/python3.9/site-packages (from FixedEffectModel) (2.8.4)\n",
      "Requirement already satisfied: python-dateutil>=2.8.1 in /Users/rodrigovillegasgomez/opt/anaconda3/lib/python3.9/site-packages (from pandas>=0.16.0->FixedEffectModel) (2.8.2)\n",
      "Requirement already satisfied: pytz>=2020.1 in /Users/rodrigovillegasgomez/opt/anaconda3/lib/python3.9/site-packages (from pandas>=0.16.0->FixedEffectModel) (2022.7)\n",
      "Requirement already satisfied: patsy>=0.5.2 in /Users/rodrigovillegasgomez/opt/anaconda3/lib/python3.9/site-packages (from statsmodels>=0.12.2->FixedEffectModel) (0.5.3)\n",
      "Requirement already satisfied: packaging>=21.3 in /Users/rodrigovillegasgomez/opt/anaconda3/lib/python3.9/site-packages (from statsmodels>=0.12.2->FixedEffectModel) (23.0)\n",
      "Requirement already satisfied: six in /Users/rodrigovillegasgomez/opt/anaconda3/lib/python3.9/site-packages (from patsy>=0.5.2->statsmodels>=0.12.2->FixedEffectModel) (1.16.0)\n",
      "Note: you may need to restart the kernel to use updated packages.\n"
     ]
    }
   ],
   "source": [
    "pip install FixedEffectModel"
   ]
  },
  {
   "cell_type": "code",
   "execution_count": null,
   "metadata": {},
   "outputs": [],
   "source": [
    "import numpy as np\n",
    "import pandas as pd\n",
    "\n",
    "\n",
    "from fixedeffect.iv import iv2sls, ivgmm, ivtest\n",
    "from fixedeffect.fe import fixedeffect, did, getfe\n",
    "from fixedeffect.utils.panel_dgp import gen_data"
   ]
  },
  {
   "cell_type": "code",
   "execution_count": null,
   "metadata": {},
   "outputs": [
    {
     "name": "stdout",
     "output_type": "stream",
     "text": [
      "                 Mean      Std Dev      Min     25%   Median        75%  \\\n",
      "price       75.173247    93.675680   -60.04   17.27    41.17    96.0025   \n",
      "hydro     1919.621601  1690.214337     6.00  297.00  1433.00  3152.0000   \n",
      "solar       31.834021    85.070117     0.00    0.00     0.00    10.0000   \n",
      "wind       961.081585   873.290928     3.00  313.00   716.00  1331.0000   \n",
      "other      222.446578   275.697313     0.00   41.00   126.00   255.0000   \n",
      "load_var    45.253517   234.750108 -6441.00  -77.00    37.00   162.0000   \n",
      "\n",
      "              Max  \n",
      "price      799.97  \n",
      "hydro     6577.00  \n",
      "solar      745.00  \n",
      "wind      7017.00  \n",
      "other     1463.00  \n",
      "load_var  1734.00  \n"
     ]
    }
   ],
   "source": [
    "# Assuming 'pre_panel' is your DataFrame\n",
    "variables_of_interest = ['price', 'hydro', 'solar', 'wind', 'other', 'load_var']\n",
    "\n",
    "# Calculate mean, standard deviation, min, 25%, 50%, 75%, and max\n",
    "mean_values = pre_panel[variables_of_interest].apply(np.mean)\n",
    "std_dev_values = pre_panel[variables_of_interest].apply(np.std)\n",
    "min_values = pre_panel[variables_of_interest].min()\n",
    "q25_values = pre_panel[variables_of_interest].quantile(0.25)\n",
    "median_values = pre_panel[variables_of_interest].median()\n",
    "q75_values = pre_panel[variables_of_interest].quantile(0.75)\n",
    "max_values = pre_panel[variables_of_interest].max()\n",
    "\n",
    "# Create a DataFrame to display the summary statistics\n",
    "summary_statistics_custom = pd.DataFrame({\n",
    "    'Mean': mean_values,\n",
    "    'Std Dev': std_dev_values,\n",
    "    'Min': min_values,\n",
    "    '25%': q25_values,\n",
    "    'Median': median_values,\n",
    "    '75%': q75_values,\n",
    "    'Max': max_values\n",
    "})\n",
    "\n",
    "print(summary_statistics_custom)"
   ]
  },
  {
   "cell_type": "code",
   "execution_count": null,
   "metadata": {},
   "outputs": [
    {
     "name": "stdout",
     "output_type": "stream",
     "text": [
      "Columns with missing values:\n",
      "load_a        8\n",
      "hydro        16\n",
      "solar       192\n",
      "wind        192\n",
      "other        16\n",
      "load_var      8\n",
      "dtype: int64\n"
     ]
    }
   ],
   "source": [
    "# Check for missing values in pre_panel\n",
    "missing_values = panel.isnull().sum()\n",
    "\n",
    "# Display the columns with missing values, if any\n",
    "print(\"Columns with missing values:\")\n",
    "print(missing_values[missing_values > 0])"
   ]
  },
  {
   "cell_type": "markdown",
   "metadata": {},
   "source": [
    "**Eliminating the Missing Values**"
   ]
  },
  {
   "cell_type": "code",
   "execution_count": null,
   "metadata": {},
   "outputs": [],
   "source": [
    "# Dropping the missing values\n",
    "panel_nmv = panel.dropna()"
   ]
  },
  {
   "cell_type": "code",
   "execution_count": null,
   "metadata": {},
   "outputs": [
    {
     "name": "stdout",
     "output_type": "stream",
     "text": [
      "             hydro     solar      wind     other  load_var\n",
      "hydro     1.000000 -0.240234  0.173884 -0.243660  0.061077\n",
      "solar    -0.240234  1.000000 -0.147088  0.151170  0.048624\n",
      "wind      0.173884 -0.147088  1.000000  0.038889  0.150746\n",
      "other    -0.243660  0.151170  0.038889  1.000000 -0.024505\n",
      "load_var  0.061077  0.048624  0.150746 -0.024505  1.000000\n"
     ]
    }
   ],
   "source": [
    "correlation_matrix = panel[['hydro', 'solar', 'wind', 'other', 'load_var']].corr()\n",
    "print(correlation_matrix)"
   ]
  },
  {
   "cell_type": "code",
   "execution_count": null,
   "metadata": {},
   "outputs": [],
   "source": [
    "# Drop the 'dt' column\n",
    "panel = panel.drop(columns=['dt'])\n",
    "\n",
    "# Rename 'subject_id' to 'entity' and 'date' to 'time'\n",
    "panel = panel.rename(columns={'subject_id': 'entity', 'date': 'time', 'week': 'semana', 'hour': 'h'})\n",
    "\n",
    "# Create 'dum_ss' and 'dum_aw'\n",
    "panel['dum_ss'] = panel['m'].isin([3, 4, 5, 6, 7, 8]).astype(int)\n",
    "panel['dum_aw'] = panel['m'].isin([9, 10, 11, 12, 1, 2]).astype(int)\n",
    "\n",
    "# Create 'dum_wd' and 'dum_we'\n",
    "panel['dum_wd'] = panel['w_day'].isin([1, 2, 3, 4]).astype(int)\n",
    "panel['dum_we'] = panel['w_day'].isin([5, 6, 7]).astype(int)\n",
    "\n",
    "# Drop columns 'm' and 'w_day'\n",
    "panel = panel.drop(columns=['m', 'w_day', 'h_s'])"
   ]
  },
  {
   "cell_type": "code",
   "execution_count": null,
   "metadata": {},
   "outputs": [],
   "source": [
    "# Set the multi-index\n",
    "panel.set_index(['entity', 'time'], inplace=True)"
   ]
  },
  {
   "cell_type": "code",
   "execution_count": null,
   "metadata": {},
   "outputs": [],
   "source": [
    "# Assuming 'panel' is your DataFrame with a multi-index\n",
    "panel.reset_index(inplace=True)"
   ]
  },
  {
   "cell_type": "code",
   "execution_count": null,
   "metadata": {},
   "outputs": [],
   "source": [
    "import pandas as pd\n",
    "\n",
    "# Assuming 'panel' is your DataFrame with 'time' as a column\n",
    "# Convert the 'time' column to datetime format\n",
    "panel['time'] = pd.to_datetime(panel['time'])\n",
    "\n",
    "# Set a reference point (e.g., the minimum time in the dataset)\n",
    "reference_point = panel['time'].min()\n",
    "\n",
    "# Create a generic time variable in hours\n",
    "panel['time_generic_hours'] = (panel['time'] - reference_point).dt.total_seconds() / 3600\n"
   ]
  },
  {
   "cell_type": "code",
   "execution_count": null,
   "metadata": {},
   "outputs": [],
   "source": [
    "panel = panel.rename(columns={'time': 'fecha', 'time_generic_hours': 'time'})"
   ]
  },
  {
   "cell_type": "code",
   "execution_count": null,
   "metadata": {},
   "outputs": [],
   "source": [
    "panel['time'] = panel['time'] + 1"
   ]
  },
  {
   "cell_type": "code",
   "execution_count": null,
   "metadata": {},
   "outputs": [],
   "source": [
    "# Sort by 'entity' and 'time' in descending order\n",
    "panel = panel.sort_values(by=['entity', 'time'], ascending=[True, True])"
   ]
  },
  {
   "cell_type": "code",
   "execution_count": null,
   "metadata": {},
   "outputs": [],
   "source": [
    "# Saving Panel\n",
    "panel.to_csv('panel_vf.csv', index=False)\n"
   ]
  },
  {
   "cell_type": "code",
   "execution_count": null,
   "metadata": {},
   "outputs": [],
   "source": [
    "# Set the multi-index\n",
    "panel.set_index(['time', 'entity'], inplace=True)"
   ]
  },
  {
   "cell_type": "code",
   "execution_count": null,
   "metadata": {},
   "outputs": [
    {
     "name": "stderr",
     "output_type": "stream",
     "text": [
      "/Users/rodrigovillegasgomez/opt/anaconda3/lib/python3.9/site-packages/linearmodels/panel/model.py:2903: MissingValueWarning: \n",
      "Inputs contain missing values. Dropping rows with missing observations.\n",
      "  super().__init__(dependent, exog, weights=weights, check_rank=check_rank)\n",
      "/Users/rodrigovillegasgomez/opt/anaconda3/lib/python3.9/site-packages/linearmodels/panel/model.py:3172: InferenceUnavailableWarning: The number of time-series observation available to estimate cross-sectional\n",
      "regressions, 4, is less than the number of parameters in the model. Parameter\n",
      "inference is not available.\n",
      "  mod = cls(dependent, exog, weights=weights, check_rank=check_rank)\n"
     ]
    },
    {
     "name": "stdout",
     "output_type": "stream",
     "text": [
      "                            FamaMacBeth Estimation Summary                           \n",
      "=====================================================================================\n",
      "Dep. Variable:                       price   R-squared:                       -9.8399\n",
      "Estimator:                     FamaMacBeth   R-squared (Between):             -2.9456\n",
      "No. Observations:                    66896   R-squared (Within):              -23.144\n",
      "Date:                     Sun, Dec 17 2023   R-squared (Overall):             -9.8399\n",
      "Time:                             22:33:56   Log-likelihood                 -4.78e+05\n",
      "Cov. Estimator:    Fama-MacBeth Kernel Cov                                           \n",
      "                                             F-statistic:                  -1.518e+04\n",
      "Entities:                            16724   P-value                           1.0000\n",
      "Avg Obs:                            4.0000   Distribution:                 F(4,66891)\n",
      "Min Obs:                            4.0000                                           \n",
      "Max Obs:                            4.0000   F-statistic (robust):          1.391e+16\n",
      "                                             P-value                           0.0000\n",
      "Time periods:                            4   Distribution:                 F(4,66891)\n",
      "Avg Obs:                         1.672e+04                                           \n",
      "Min Obs:                         1.672e+04                                           \n",
      "Max Obs:                         1.672e+04                                           \n",
      "                                                                                     \n",
      "                             Parameter Estimates                              \n",
      "==============================================================================\n",
      "            Parameter  Std. Err.     T-stat    P-value    Lower CI    Upper CI\n",
      "------------------------------------------------------------------------------\n",
      "Intercept      42.966     32.763     1.3114     0.1897     -21.250      107.18\n",
      "hydro         -0.1062     0.1105    -0.9607     0.3367     -0.3228      0.1105\n",
      "solar          0.0977     0.2608     0.3746     0.7079     -0.4134      0.6088\n",
      "wind          -0.0411     0.0154    -2.6635     0.0077     -0.0713     -0.0109\n",
      "other          0.6673     0.3071     2.1731     0.0298      0.0654      1.2691\n",
      "==============================================================================\n"
     ]
    }
   ],
   "source": [
    "import pandas as pd\n",
    "from linearmodels.panel import FamaMacBeth\n",
    "\n",
    "# Specify the two-way fixed effects model\n",
    "formula = 'price ~ 1 + hydro + solar + wind + other + EntityEffects + TimeEffects'\n",
    "# Create a FamaMacBeth model\n",
    "model = FamaMacBeth.from_formula(formula, data=panel)\n",
    "# Fit the model\n",
    "results = model.fit(cov_type='kernel', kernel='bartlett')  # Adjust cov_type and kernel as needed\n",
    "# Display regression results\n",
    "print(results)"
   ]
  },
  {
   "cell_type": "code",
   "execution_count": null,
   "metadata": {},
   "outputs": [
    {
     "name": "stdout",
     "output_type": "stream",
     "text": [
      "[ 0.00052724 -0.04451075 -0.03498355  0.10829407 -0.00540767]\n"
     ]
    }
   ],
   "source": [
    "from sklearn.linear_model import Ridge\n",
    "\n",
    "# Assuming X is your independent variable matrix and y is your dependent variable\n",
    "X = panel_nmv[['hydro', 'solar', 'wind', 'other', 'load_var']]\n",
    "y = panel_nmv['price']\n",
    "\n",
    "# Initialize Ridge regression model\n",
    "ridge_model = Ridge(alpha=1.0)  # You can adjust the regularization strength (alpha) based on your needs\n",
    "\n",
    "# Fit the model\n",
    "ridge_model.fit(X, y)\n",
    "\n",
    "# Access coefficients\n",
    "coefficients = ridge_model.coef_\n",
    "print(coefficients)"
   ]
  }
 ],
 "metadata": {
  "kernelspec": {
   "display_name": "base",
   "language": "python",
   "name": "python3"
  },
  "language_info": {
   "codemirror_mode": {
    "name": "ipython",
    "version": 3
   },
   "file_extension": ".py",
   "mimetype": "text/x-python",
   "name": "python",
   "nbconvert_exporter": "python",
   "pygments_lexer": "ipython3",
   "version": "3.9.13"
  }
 },
 "nbformat": 4,
 "nbformat_minor": 2
}
