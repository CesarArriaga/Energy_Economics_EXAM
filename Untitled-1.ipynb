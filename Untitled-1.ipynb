{
 "cells": [
  {
   "cell_type": "markdown",
   "metadata": {},
   "source": [
    "**variable lado izquierdo:** hourly DAM prices for different zones (SE1,SE2,SE3,SE4)\n",
    "\n",
    "**Variables lado derecho:**\n",
    "**GAS VARIABLES**\n",
    "**X1** = Natural Gas price (the daily Henry Hub, is publishedby the U.S. Department ofEnergy’s Energy Information Agency)\n",
    "\n",
    "**NUCLEAR VARIABLES**\n",
    "**X2** = Daily Nuclear MW available **X3** = Daily Nuclear MW available (other plant)\n",
    "\n",
    "**HYDRO VARIABLES**\n",
    "**X4** = daily California hydro index **X5** = Hourly discharge from hydro stations **X6** = Hourly discharge from hydro stations (different station)\n",
    "\n",
    "**Demand related variables**\n",
    "**X7** = Hourly actual system MWh loads **F7** = The forecast for the load **X8** = Same but for other area **F8** = Same but for other area\n",
    "\n",
    "**Renweable energy**\n",
    "**X9** = Hourly actual solar MWh **F9** = His forecast **X10** = Hourly actual wind MWh **F10** = His forecast\n",
    "\n",
    "**For othear areas the same for solar and wind** (X11,F11,X12,F12)"
   ]
  },
  {
   "cell_type": "code",
   "execution_count": 131,
   "metadata": {},
   "outputs": [],
   "source": [
    "import pandas as pd, numpy as np, os, pickle\n",
    "from entsoe import EntsoePandasClient, Area"
   ]
  },
  {
   "cell_type": "code",
   "execution_count": 132,
   "metadata": {},
   "outputs": [],
   "source": [
    "direc = os.getcwd()\n",
    "data_dir = os.path.join(direc,'CleanedData')"
   ]
  },
  {
   "cell_type": "code",
   "execution_count": 133,
   "metadata": {},
   "outputs": [],
   "source": [
    "year = 2022\n",
    "g_area = ['SE_1','SE_2','SE_3','SE_4']"
   ]
  },
  {
   "cell_type": "code",
   "execution_count": 134,
   "metadata": {},
   "outputs": [],
   "source": [
    "entsoe_api_key = os.environ.get(\"ENTSOE_API_KEY\").replace(\"'\",\"\")"
   ]
  },
  {
   "cell_type": "code",
   "execution_count": 135,
   "metadata": {},
   "outputs": [],
   "source": [
    "client = EntsoePandasClient(api_key=entsoe_api_key)"
   ]
  },
  {
   "cell_type": "code",
   "execution_count": 136,
   "metadata": {},
   "outputs": [],
   "source": [
    "start_str, end_str = str(year)+'-01-01T00',str(year)+'-12-31T23', \n",
    "start_CET = pd.Timestamp(start_str,tz='Europe/Stockholm'); start_UTC = start_CET.tz_convert('UTC')\n",
    "end_CET = pd.Timestamp(end_str,tz='Europe/Stockholm'); end_UTC = end_CET.tz_convert('UTC')\n",
    "h_index = pd.Index(pd.date_range(start_CET,end_CET,freq='H'),name='HourCET/CEST')"
   ]
  },
  {
   "cell_type": "markdown",
   "metadata": {},
   "source": [
    "**Test data demand**"
   ]
  },
  {
   "cell_type": "code",
   "execution_count": 137,
   "metadata": {},
   "outputs": [],
   "source": [
    "df_demand = pd.concat([\n",
    "    pd.concat([client.query_load_forecast(Area[x], start=start_CET,end=end_CET, process_type='A01').rename_axis('HourCET/CEST').reindex(h_index).assign(g_E = x).set_index('g_E',append=True)['Forecasted Load'].rename('ForecastedLoad_MWh') for x in g_area],axis=0),\n",
    "    pd.concat([client.query_load(Area[x], start=start_CET,end=end_CET).rename_axis('HourCET/CEST').reindex(h_index).assign(g_E=x).set_index('g_E',append=True)['Actual Load'].rename('ActualLoad_MWh') for x in g_area],axis=0)\n",
    "],axis=1).reset_index()"
   ]
  },
  {
   "cell_type": "code",
   "execution_count": 40,
   "metadata": {},
   "outputs": [],
   "source": [
    "df_demand['HourUTC'] = df_demand['HourCET/CEST'].dt.tz_convert('UTC')\n",
    "df_demand['HourOfTheDay'] = df_demand['HourCET/CEST'].dt.hour\n",
    "df_demand['Weekday'] = df_demand['HourCET/CEST'].dt.weekday \n",
    "df_demand['Week'] = df_demand['HourCET/CEST'].dt.isocalendar().week\n",
    "df_demand['Month'] = df_demand['HourCET/CEST'].dt.month\n",
    "df_demand['h'] = 1\n",
    "df_demand['h'] = df_demand.groupby('g_E')['h'].cumsum()\n",
    "df_demand['g_E'] = df_demand['g_E'].str.replace('_','')\n",
    "new_col_order = ['g_E','HourUTC','HourCET/CEST','Month','Week','Weekday','HourOfTheDay','h','ForecastedLoad_MWh','ActualLoad_MWh']\n",
    "df_demand = df_demand[new_col_order].sort_values(new_col_order).reset_index(drop=True)"
   ]
  },
  {
   "cell_type": "code",
   "execution_count": 41,
   "metadata": {},
   "outputs": [],
   "source": [
    "file_path = os.path.join(data_dir,'Load_'+''.join(df_demand['g_E'].unique().tolist())+'_'+str(year))\n",
    "df_demand.to_pickle(file_path)"
   ]
  },
  {
   "cell_type": "markdown",
   "metadata": {},
   "source": [
    "**Day-ahead Prices 2022**"
   ]
  },
  {
   "cell_type": "code",
   "execution_count": 42,
   "metadata": {},
   "outputs": [],
   "source": [
    "df_prices = pd.concat([client.query_day_ahead_prices(Area[g], start=start_CET, end=end_CET).reindex(h_index).rename('Day-AheadPrice_€/MWh').to_frame().rename_axis('HourCET/CEST').assign(g_E=g).set_index('g_E',append=True)['Day-AheadPrice_€/MWh'] for g in list(g_area)],axis=0).reset_index()"
   ]
  },
  {
   "cell_type": "code",
   "execution_count": 43,
   "metadata": {},
   "outputs": [],
   "source": [
    "df_prices['HourUTC'] = df_prices['HourCET/CEST'].dt.tz_convert('UTC')\n",
    "df_prices['HourOfTheDay'] = df_prices['HourCET/CEST'].dt.hour\n",
    "df_prices['Weekday'] = df_prices['HourCET/CEST'].dt.weekday \n",
    "df_prices['Week'] = df_prices['HourCET/CEST'].dt.isocalendar().week\n",
    "df_prices['Month'] = df_prices['HourCET/CEST'].dt.month\n",
    "df_prices['h'] = 1\n",
    "df_prices['h'] = df_prices.groupby('g_E')['h'].cumsum()\n",
    "df_prices['g_E'] = df_prices['g_E'].str.replace('_','')\n",
    "new_col_order = ['g_E','HourUTC','HourCET/CEST','Month','Week','Weekday','HourOfTheDay','h','Day-AheadPrice_€/MWh']\n",
    "df_prices = df_prices[new_col_order].sort_values(['g_E','h']).reset_index(drop=True)"
   ]
  },
  {
   "cell_type": "code",
   "execution_count": 44,
   "metadata": {},
   "outputs": [],
   "source": [
    "file_path = os.path.join(data_dir,'Day-AheadPrices_'+''.join(df_prices['g_E'].unique().tolist())+'_'+str(year))\n",
    "df_prices.to_pickle(file_path)"
   ]
  },
  {
   "cell_type": "code",
   "execution_count": 45,
   "metadata": {},
   "outputs": [
    {
     "name": "stdout",
     "output_type": "stream",
     "text": [
      "   g_E                   HourUTC              HourCET/CEST  Month  Week  \\\n",
      "0  SE1 2021-12-31 23:00:00+00:00 2022-01-01 00:00:00+01:00      1    52   \n",
      "1  SE1 2022-01-01 00:00:00+00:00 2022-01-01 01:00:00+01:00      1    52   \n",
      "2  SE1 2022-01-01 01:00:00+00:00 2022-01-01 02:00:00+01:00      1    52   \n",
      "3  SE1 2022-01-01 02:00:00+00:00 2022-01-01 03:00:00+01:00      1    52   \n",
      "4  SE1 2022-01-01 03:00:00+00:00 2022-01-01 04:00:00+01:00      1    52   \n",
      "\n",
      "   Weekday  HourOfTheDay  h  Day-AheadPrice_€/MWh  \n",
      "0        5             0  1                 46.60  \n",
      "1        5             1  2                 41.33  \n",
      "2        5             2  3                 42.18  \n",
      "3        5             3  4                 44.37  \n",
      "4        5             4  5                 37.67  \n"
     ]
    }
   ],
   "source": [
    "df = pd.read_pickle('CleanedData/Day-AheadPrices_SE1SE2SE3SE4_2022')\n",
    "print(df.head())"
   ]
  },
  {
   "cell_type": "markdown",
   "metadata": {},
   "source": [
    "**Day-ahead Prices 2023**\n"
   ]
  },
  {
   "cell_type": "code",
   "execution_count": 200,
   "metadata": {},
   "outputs": [],
   "source": [
    "year = 2023\n",
    "\n",
    "start_str, end_str = str(year)+'-01-01T00',str(year)+'-11-30T23', \n",
    "start_CET = pd.Timestamp(start_str,tz='Europe/Stockholm'); start_UTC = start_CET.tz_convert('UTC')\n",
    "end_CET = pd.Timestamp(end_str,tz='Europe/Stockholm'); end_UTC = end_CET.tz_convert('UTC')\n",
    "h_index = pd.Index(pd.date_range(start_CET,end_CET,freq='H'),name='HourCET/CEST')"
   ]
  },
  {
   "cell_type": "code",
   "execution_count": 201,
   "metadata": {},
   "outputs": [],
   "source": [
    "df_prices = pd.concat([client.query_day_ahead_prices(Area[g], start=start_CET, end=end_CET).reindex(h_index).rename('Day-AheadPrice_€/MWh').to_frame().rename_axis('HourCET/CEST').assign(g_E=g).set_index('g_E',append=True)['Day-AheadPrice_€/MWh'] for g in list(g_area)],axis=0).reset_index()"
   ]
  },
  {
   "cell_type": "code",
   "execution_count": 202,
   "metadata": {},
   "outputs": [],
   "source": [
    "df_prices['HourUTC'] = df_prices['HourCET/CEST'].dt.tz_convert('UTC')\n",
    "df_prices['HourOfTheDay'] = df_prices['HourCET/CEST'].dt.hour\n",
    "df_prices['Weekday'] = df_prices['HourCET/CEST'].dt.weekday \n",
    "df_prices['Week'] = df_prices['HourCET/CEST'].dt.isocalendar().week\n",
    "df_prices['Month'] = df_prices['HourCET/CEST'].dt.month\n",
    "df_prices['h'] = 1\n",
    "df_prices['h'] = df_prices.groupby('g_E')['h'].cumsum()\n",
    "df_prices['g_E'] = df_prices['g_E'].str.replace('_','')\n",
    "new_col_order = ['g_E','HourUTC','HourCET/CEST','Month','Week','Weekday','HourOfTheDay','h','Day-AheadPrice_€/MWh']\n",
    "df_prices = df_prices[new_col_order].sort_values(['g_E','h']).reset_index(drop=True)"
   ]
  },
  {
   "cell_type": "code",
   "execution_count": 203,
   "metadata": {},
   "outputs": [],
   "source": [
    "file_path = os.path.join(data_dir,'Day-AheadPrices_'+''.join(df_prices['g_E'].unique().tolist())+'_'+str(year))\n",
    "df_prices.to_pickle(file_path)"
   ]
  },
  {
   "cell_type": "code",
   "execution_count": 205,
   "metadata": {},
   "outputs": [
    {
     "name": "stdout",
     "output_type": "stream",
     "text": [
      "   g_E                   HourUTC              HourCET/CEST  Month  Week  \\\n",
      "0  SE1 2022-12-31 23:00:00+00:00 2023-01-01 00:00:00+01:00      1    52   \n",
      "1  SE1 2023-01-01 00:00:00+00:00 2023-01-01 01:00:00+01:00      1    52   \n",
      "2  SE1 2023-01-01 01:00:00+00:00 2023-01-01 02:00:00+01:00      1    52   \n",
      "3  SE1 2023-01-01 02:00:00+00:00 2023-01-01 03:00:00+01:00      1    52   \n",
      "4  SE1 2023-01-01 03:00:00+00:00 2023-01-01 04:00:00+01:00      1    52   \n",
      "\n",
      "   Weekday  HourOfTheDay  h  Day-AheadPrice_€/MWh  \n",
      "0        6             0  1                  2.01  \n",
      "1        6             1  2                  1.38  \n",
      "2        6             2  3                  0.09  \n",
      "3        6             3  4                  0.08  \n",
      "4        6             4  5                  0.05  \n"
     ]
    }
   ],
   "source": [
    "df = pd.read_pickle('CleanedData/Day-AheadPrices_SE1SE2SE3SE4_2023')\n",
    "print(df.head())"
   ]
  },
  {
   "cell_type": "markdown",
   "metadata": {},
   "source": [
    "**Day-Ahead Prices 2021**"
   ]
  },
  {
   "cell_type": "code",
   "execution_count": 46,
   "metadata": {},
   "outputs": [],
   "source": [
    "year = 2021\n",
    "\n",
    "start_str, end_str = str(year)+'-01-01T00',str(year)+'-12-31T23', \n",
    "start_CET = pd.Timestamp(start_str,tz='Europe/Stockholm'); start_UTC = start_CET.tz_convert('UTC')\n",
    "end_CET = pd.Timestamp(end_str,tz='Europe/Stockholm'); end_UTC = end_CET.tz_convert('UTC')\n",
    "h_index = pd.Index(pd.date_range(start_CET,end_CET,freq='H'),name='HourCET/CEST')"
   ]
  },
  {
   "cell_type": "code",
   "execution_count": 47,
   "metadata": {},
   "outputs": [],
   "source": [
    "df_prices = pd.concat([client.query_day_ahead_prices(Area[g], start=start_CET, end=end_CET).reindex(h_index).rename('Day-AheadPrice_€/MWh').to_frame().rename_axis('HourCET/CEST').assign(g_E=g).set_index('g_E',append=True)['Day-AheadPrice_€/MWh'] for g in list(g_area)],axis=0).reset_index()"
   ]
  },
  {
   "cell_type": "code",
   "execution_count": 48,
   "metadata": {},
   "outputs": [],
   "source": [
    "df_prices['HourUTC'] = df_prices['HourCET/CEST'].dt.tz_convert('UTC')\n",
    "df_prices['HourOfTheDay'] = df_prices['HourCET/CEST'].dt.hour\n",
    "df_prices['Weekday'] = df_prices['HourCET/CEST'].dt.weekday \n",
    "df_prices['Week'] = df_prices['HourCET/CEST'].dt.isocalendar().week\n",
    "df_prices['Month'] = df_prices['HourCET/CEST'].dt.month\n",
    "df_prices['h'] = 1\n",
    "df_prices['h'] = df_prices.groupby('g_E')['h'].cumsum()\n",
    "df_prices['g_E'] = df_prices['g_E'].str.replace('_','')\n",
    "new_col_order = ['g_E','HourUTC','HourCET/CEST','Month','Week','Weekday','HourOfTheDay','h','Day-AheadPrice_€/MWh']\n",
    "df_prices = df_prices[new_col_order].sort_values(['g_E','h']).reset_index(drop=True)"
   ]
  },
  {
   "cell_type": "code",
   "execution_count": 49,
   "metadata": {},
   "outputs": [],
   "source": [
    "file_path = os.path.join(data_dir,'Day-AheadPrices_'+''.join(df_prices['g_E'].unique().tolist())+'_'+str(year))\n",
    "df_prices.to_pickle(file_path)"
   ]
  },
  {
   "cell_type": "code",
   "execution_count": 50,
   "metadata": {},
   "outputs": [
    {
     "name": "stdout",
     "output_type": "stream",
     "text": [
      "   g_E                   HourUTC              HourCET/CEST  Month  Week  \\\n",
      "0  SE1 2020-12-31 23:00:00+00:00 2021-01-01 00:00:00+01:00      1    53   \n",
      "1  SE1 2021-01-01 00:00:00+00:00 2021-01-01 01:00:00+01:00      1    53   \n",
      "2  SE1 2021-01-01 01:00:00+00:00 2021-01-01 02:00:00+01:00      1    53   \n",
      "3  SE1 2021-01-01 02:00:00+00:00 2021-01-01 03:00:00+01:00      1    53   \n",
      "4  SE1 2021-01-01 03:00:00+00:00 2021-01-01 04:00:00+01:00      1    53   \n",
      "\n",
      "   Weekday  HourOfTheDay  h  Day-AheadPrice_€/MWh  \n",
      "0        4             0  1                 24.95  \n",
      "1        4             1  2                 24.35  \n",
      "2        4             2  3                 23.98  \n",
      "3        4             3  4                 23.72  \n",
      "4        4             4  5                 23.73  \n"
     ]
    }
   ],
   "source": [
    "df = pd.read_pickle('CleanedData/Day-AheadPrices_SE1SE2SE3SE4_2021')\n",
    "print(df.head())"
   ]
  },
  {
   "cell_type": "markdown",
   "metadata": {},
   "source": [
    "**Day Ahead Prices 2020**"
   ]
  },
  {
   "cell_type": "code",
   "execution_count": 51,
   "metadata": {},
   "outputs": [],
   "source": [
    "year = 2020\n",
    "\n",
    "start_str, end_str = str(year)+'-01-01T00',str(year)+'-12-31T23', \n",
    "start_CET = pd.Timestamp(start_str,tz='Europe/Stockholm'); start_UTC = start_CET.tz_convert('UTC')\n",
    "end_CET = pd.Timestamp(end_str,tz='Europe/Stockholm'); end_UTC = end_CET.tz_convert('UTC')\n",
    "h_index = pd.Index(pd.date_range(start_CET,end_CET,freq='H'),name='HourCET/CEST')"
   ]
  },
  {
   "cell_type": "code",
   "execution_count": 52,
   "metadata": {},
   "outputs": [],
   "source": [
    "df_prices = pd.concat([client.query_day_ahead_prices(Area[g], start=start_CET, end=end_CET).reindex(h_index).rename('Day-AheadPrice_€/MWh').to_frame().rename_axis('HourCET/CEST').assign(g_E=g).set_index('g_E',append=True)['Day-AheadPrice_€/MWh'] for g in list(g_area)],axis=0).reset_index()"
   ]
  },
  {
   "cell_type": "code",
   "execution_count": 53,
   "metadata": {},
   "outputs": [],
   "source": [
    "df_prices['HourUTC'] = df_prices['HourCET/CEST'].dt.tz_convert('UTC')\n",
    "df_prices['HourOfTheDay'] = df_prices['HourCET/CEST'].dt.hour\n",
    "df_prices['Weekday'] = df_prices['HourCET/CEST'].dt.weekday \n",
    "df_prices['Week'] = df_prices['HourCET/CEST'].dt.isocalendar().week\n",
    "df_prices['Month'] = df_prices['HourCET/CEST'].dt.month\n",
    "df_prices['h'] = 1\n",
    "df_prices['h'] = df_prices.groupby('g_E')['h'].cumsum()\n",
    "df_prices['g_E'] = df_prices['g_E'].str.replace('_','')\n",
    "new_col_order = ['g_E','HourUTC','HourCET/CEST','Month','Week','Weekday','HourOfTheDay','h','Day-AheadPrice_€/MWh']\n",
    "df_prices = df_prices[new_col_order].sort_values(['g_E','h']).reset_index(drop=True)"
   ]
  },
  {
   "cell_type": "code",
   "execution_count": 54,
   "metadata": {},
   "outputs": [],
   "source": [
    "file_path = os.path.join(data_dir,'Day-AheadPrices_'+''.join(df_prices['g_E'].unique().tolist())+'_'+str(year))\n",
    "df_prices.to_pickle(file_path)"
   ]
  },
  {
   "cell_type": "code",
   "execution_count": 55,
   "metadata": {},
   "outputs": [
    {
     "name": "stdout",
     "output_type": "stream",
     "text": [
      "   g_E                   HourUTC              HourCET/CEST  Month  Week  \\\n",
      "0  SE1 2019-12-31 23:00:00+00:00 2020-01-01 00:00:00+01:00      1     1   \n",
      "1  SE1 2020-01-01 00:00:00+00:00 2020-01-01 01:00:00+01:00      1     1   \n",
      "2  SE1 2020-01-01 01:00:00+00:00 2020-01-01 02:00:00+01:00      1     1   \n",
      "3  SE1 2020-01-01 02:00:00+00:00 2020-01-01 03:00:00+01:00      1     1   \n",
      "4  SE1 2020-01-01 03:00:00+00:00 2020-01-01 04:00:00+01:00      1     1   \n",
      "\n",
      "   Weekday  HourOfTheDay  h  Day-AheadPrice_€/MWh  \n",
      "0        2             0  1                 28.78  \n",
      "1        2             1  2                 28.45  \n",
      "2        2             2  3                 27.90  \n",
      "3        2             3  4                 27.52  \n",
      "4        2             4  5                 27.54  \n"
     ]
    }
   ],
   "source": [
    "df = pd.read_pickle('CleanedData/Day-AheadPrices_SE1SE2SE3SE4_2020')\n",
    "print(df.head())"
   ]
  },
  {
   "cell_type": "markdown",
   "metadata": {},
   "source": [
    "**Day Ahead Prices 2019**"
   ]
  },
  {
   "cell_type": "code",
   "execution_count": 56,
   "metadata": {},
   "outputs": [],
   "source": [
    "year = 2019\n",
    "\n",
    "start_str, end_str = str(year)+'-01-01T00',str(year)+'-12-31T23', \n",
    "start_CET = pd.Timestamp(start_str,tz='Europe/Stockholm'); start_UTC = start_CET.tz_convert('UTC')\n",
    "end_CET = pd.Timestamp(end_str,tz='Europe/Stockholm'); end_UTC = end_CET.tz_convert('UTC')\n",
    "h_index = pd.Index(pd.date_range(start_CET,end_CET,freq='H'),name='HourCET/CEST')"
   ]
  },
  {
   "cell_type": "code",
   "execution_count": 57,
   "metadata": {},
   "outputs": [],
   "source": [
    "df_prices = pd.concat([client.query_day_ahead_prices(Area[g], start=start_CET, end=end_CET).reindex(h_index).rename('Day-AheadPrice_€/MWh').to_frame().rename_axis('HourCET/CEST').assign(g_E=g).set_index('g_E',append=True)['Day-AheadPrice_€/MWh'] for g in list(g_area)],axis=0).reset_index()"
   ]
  },
  {
   "cell_type": "code",
   "execution_count": 58,
   "metadata": {},
   "outputs": [],
   "source": [
    "df_prices['HourUTC'] = df_prices['HourCET/CEST'].dt.tz_convert('UTC')\n",
    "df_prices['HourOfTheDay'] = df_prices['HourCET/CEST'].dt.hour\n",
    "df_prices['Weekday'] = df_prices['HourCET/CEST'].dt.weekday \n",
    "df_prices['Week'] = df_prices['HourCET/CEST'].dt.isocalendar().week\n",
    "df_prices['Month'] = df_prices['HourCET/CEST'].dt.month\n",
    "df_prices['h'] = 1\n",
    "df_prices['h'] = df_prices.groupby('g_E')['h'].cumsum()\n",
    "df_prices['g_E'] = df_prices['g_E'].str.replace('_','')\n",
    "new_col_order = ['g_E','HourUTC','HourCET/CEST','Month','Week','Weekday','HourOfTheDay','h','Day-AheadPrice_€/MWh']\n",
    "df_prices = df_prices[new_col_order].sort_values(['g_E','h']).reset_index(drop=True)"
   ]
  },
  {
   "cell_type": "code",
   "execution_count": 59,
   "metadata": {},
   "outputs": [],
   "source": [
    "file_path = os.path.join(data_dir,'Day-AheadPrices_'+''.join(df_prices['g_E'].unique().tolist())+'_'+str(year))\n",
    "df_prices.to_pickle(file_path)"
   ]
  },
  {
   "cell_type": "code",
   "execution_count": 60,
   "metadata": {},
   "outputs": [
    {
     "name": "stdout",
     "output_type": "stream",
     "text": [
      "   g_E                   HourUTC              HourCET/CEST  Month  Week  \\\n",
      "0  SE1 2018-12-31 23:00:00+00:00 2019-01-01 00:00:00+01:00      1     1   \n",
      "1  SE1 2019-01-01 00:00:00+00:00 2019-01-01 01:00:00+01:00      1     1   \n",
      "2  SE1 2019-01-01 01:00:00+00:00 2019-01-01 02:00:00+01:00      1     1   \n",
      "3  SE1 2019-01-01 02:00:00+00:00 2019-01-01 03:00:00+01:00      1     1   \n",
      "4  SE1 2019-01-01 03:00:00+00:00 2019-01-01 04:00:00+01:00      1     1   \n",
      "\n",
      "   Weekday  HourOfTheDay  h  Day-AheadPrice_€/MWh  \n",
      "0        1             0  1                 28.32  \n",
      "1        1             1  2                 10.07  \n",
      "2        1             2  3                 10.03  \n",
      "3        1             3  4                  4.56  \n",
      "4        1             4  5                  4.83  \n"
     ]
    }
   ],
   "source": [
    "df = pd.read_pickle('CleanedData/Day-AheadPrices_SE1SE2SE3SE4_2019')\n",
    "print(df.head())"
   ]
  },
  {
   "cell_type": "markdown",
   "metadata": {},
   "source": [
    "**Day Ahead Prices 2018**"
   ]
  },
  {
   "cell_type": "code",
   "execution_count": 61,
   "metadata": {},
   "outputs": [],
   "source": [
    "year = 2018\n",
    "\n",
    "start_str, end_str = str(year)+'-01-01T00',str(year)+'-12-31T23', \n",
    "start_CET = pd.Timestamp(start_str,tz='Europe/Stockholm'); start_UTC = start_CET.tz_convert('UTC')\n",
    "end_CET = pd.Timestamp(end_str,tz='Europe/Stockholm'); end_UTC = end_CET.tz_convert('UTC')\n",
    "h_index = pd.Index(pd.date_range(start_CET,end_CET,freq='H'),name='HourCET/CEST')"
   ]
  },
  {
   "cell_type": "code",
   "execution_count": 62,
   "metadata": {},
   "outputs": [],
   "source": [
    "df_prices = pd.concat([client.query_day_ahead_prices(Area[g], start=start_CET, end=end_CET).reindex(h_index).rename('Day-AheadPrice_€/MWh').to_frame().rename_axis('HourCET/CEST').assign(g_E=g).set_index('g_E',append=True)['Day-AheadPrice_€/MWh'] for g in list(g_area)],axis=0).reset_index()"
   ]
  },
  {
   "cell_type": "code",
   "execution_count": 63,
   "metadata": {},
   "outputs": [],
   "source": [
    "df_prices['HourUTC'] = df_prices['HourCET/CEST'].dt.tz_convert('UTC')\n",
    "df_prices['HourOfTheDay'] = df_prices['HourCET/CEST'].dt.hour\n",
    "df_prices['Weekday'] = df_prices['HourCET/CEST'].dt.weekday \n",
    "df_prices['Week'] = df_prices['HourCET/CEST'].dt.isocalendar().week\n",
    "df_prices['Month'] = df_prices['HourCET/CEST'].dt.month\n",
    "df_prices['h'] = 1\n",
    "df_prices['h'] = df_prices.groupby('g_E')['h'].cumsum()\n",
    "df_prices['g_E'] = df_prices['g_E'].str.replace('_','')\n",
    "new_col_order = ['g_E','HourUTC','HourCET/CEST','Month','Week','Weekday','HourOfTheDay','h','Day-AheadPrice_€/MWh']\n",
    "df_prices = df_prices[new_col_order].sort_values(['g_E','h']).reset_index(drop=True)"
   ]
  },
  {
   "cell_type": "code",
   "execution_count": 64,
   "metadata": {},
   "outputs": [],
   "source": [
    "file_path = os.path.join(data_dir,'Day-AheadPrices_'+''.join(df_prices['g_E'].unique().tolist())+'_'+str(year))\n",
    "df_prices.to_pickle(file_path)"
   ]
  },
  {
   "cell_type": "code",
   "execution_count": 65,
   "metadata": {},
   "outputs": [
    {
     "name": "stdout",
     "output_type": "stream",
     "text": [
      "   g_E                   HourUTC              HourCET/CEST  Month  Week  \\\n",
      "0  SE1 2017-12-31 23:00:00+00:00 2018-01-01 00:00:00+01:00      1     1   \n",
      "1  SE1 2018-01-01 00:00:00+00:00 2018-01-01 01:00:00+01:00      1     1   \n",
      "2  SE1 2018-01-01 01:00:00+00:00 2018-01-01 02:00:00+01:00      1     1   \n",
      "3  SE1 2018-01-01 02:00:00+00:00 2018-01-01 03:00:00+01:00      1     1   \n",
      "4  SE1 2018-01-01 03:00:00+00:00 2018-01-01 04:00:00+01:00      1     1   \n",
      "\n",
      "   Weekday  HourOfTheDay  h  Day-AheadPrice_€/MWh  \n",
      "0        0             0  1                 26.33  \n",
      "1        0             1  2                 26.43  \n",
      "2        0             2  3                 26.10  \n",
      "3        0             3  4                 24.70  \n",
      "4        0             4  5                 24.74  \n"
     ]
    }
   ],
   "source": [
    "df = pd.read_pickle('CleanedData/Day-AheadPrices_SE1SE2SE3SE4_2018')\n",
    "print(df.head())"
   ]
  },
  {
   "cell_type": "markdown",
   "metadata": {},
   "source": [
    "**Day Ahead Prices 2017**"
   ]
  },
  {
   "cell_type": "code",
   "execution_count": 66,
   "metadata": {},
   "outputs": [],
   "source": [
    "year = 2017\n",
    "\n",
    "start_str, end_str = str(year)+'-01-01T00',str(year)+'-12-31T23', \n",
    "start_CET = pd.Timestamp(start_str,tz='Europe/Stockholm'); start_UTC = start_CET.tz_convert('UTC')\n",
    "end_CET = pd.Timestamp(end_str,tz='Europe/Stockholm'); end_UTC = end_CET.tz_convert('UTC')\n",
    "h_index = pd.Index(pd.date_range(start_CET,end_CET,freq='H'),name='HourCET/CEST')"
   ]
  },
  {
   "cell_type": "code",
   "execution_count": 67,
   "metadata": {},
   "outputs": [],
   "source": [
    "df_prices = pd.concat([client.query_day_ahead_prices(Area[g], start=start_CET, end=end_CET).reindex(h_index).rename('Day-AheadPrice_€/MWh').to_frame().rename_axis('HourCET/CEST').assign(g_E=g).set_index('g_E',append=True)['Day-AheadPrice_€/MWh'] for g in list(g_area)],axis=0).reset_index()"
   ]
  },
  {
   "cell_type": "code",
   "execution_count": 68,
   "metadata": {},
   "outputs": [],
   "source": [
    "df_prices['HourUTC'] = df_prices['HourCET/CEST'].dt.tz_convert('UTC')\n",
    "df_prices['HourOfTheDay'] = df_prices['HourCET/CEST'].dt.hour\n",
    "df_prices['Weekday'] = df_prices['HourCET/CEST'].dt.weekday \n",
    "df_prices['Week'] = df_prices['HourCET/CEST'].dt.isocalendar().week\n",
    "df_prices['Month'] = df_prices['HourCET/CEST'].dt.month\n",
    "df_prices['h'] = 1\n",
    "df_prices['h'] = df_prices.groupby('g_E')['h'].cumsum()\n",
    "df_prices['g_E'] = df_prices['g_E'].str.replace('_','')\n",
    "new_col_order = ['g_E','HourUTC','HourCET/CEST','Month','Week','Weekday','HourOfTheDay','h','Day-AheadPrice_€/MWh']\n",
    "df_prices = df_prices[new_col_order].sort_values(['g_E','h']).reset_index(drop=True)"
   ]
  },
  {
   "cell_type": "code",
   "execution_count": 69,
   "metadata": {},
   "outputs": [],
   "source": [
    "file_path = os.path.join(data_dir,'Day-AheadPrices_'+''.join(df_prices['g_E'].unique().tolist())+'_'+str(year))\n",
    "df_prices.to_pickle(file_path)"
   ]
  },
  {
   "cell_type": "code",
   "execution_count": 70,
   "metadata": {},
   "outputs": [
    {
     "name": "stdout",
     "output_type": "stream",
     "text": [
      "   g_E                   HourUTC              HourCET/CEST  Month  Week  \\\n",
      "0  SE1 2016-12-31 23:00:00+00:00 2017-01-01 00:00:00+01:00      1    52   \n",
      "1  SE1 2017-01-01 00:00:00+00:00 2017-01-01 01:00:00+01:00      1    52   \n",
      "2  SE1 2017-01-01 01:00:00+00:00 2017-01-01 02:00:00+01:00      1    52   \n",
      "3  SE1 2017-01-01 02:00:00+00:00 2017-01-01 03:00:00+01:00      1    52   \n",
      "4  SE1 2017-01-01 03:00:00+00:00 2017-01-01 04:00:00+01:00      1    52   \n",
      "\n",
      "   Weekday  HourOfTheDay  h  Day-AheadPrice_€/MWh  \n",
      "0        6             0  1                 24.03  \n",
      "1        6             1  2                 24.03  \n",
      "2        6             2  3                 24.02  \n",
      "3        6             3  4                 23.19  \n",
      "4        6             4  5                 24.10  \n"
     ]
    }
   ],
   "source": [
    "df = pd.read_pickle('CleanedData/Day-AheadPrices_SE1SE2SE3SE4_2017')\n",
    "print(df.head())"
   ]
  },
  {
   "cell_type": "markdown",
   "metadata": {},
   "source": [
    "**Day Ahead Prices 2016**"
   ]
  },
  {
   "cell_type": "code",
   "execution_count": 71,
   "metadata": {},
   "outputs": [],
   "source": [
    "year = 2016\n",
    "\n",
    "start_str, end_str = str(year)+'-01-01T00',str(year)+'-12-31T23', \n",
    "start_CET = pd.Timestamp(start_str,tz='Europe/Stockholm'); start_UTC = start_CET.tz_convert('UTC')\n",
    "end_CET = pd.Timestamp(end_str,tz='Europe/Stockholm'); end_UTC = end_CET.tz_convert('UTC')\n",
    "h_index = pd.Index(pd.date_range(start_CET,end_CET,freq='H'),name='HourCET/CEST')"
   ]
  },
  {
   "cell_type": "code",
   "execution_count": 72,
   "metadata": {},
   "outputs": [],
   "source": [
    "df_prices = pd.concat([client.query_day_ahead_prices(Area[g], start=start_CET, end=end_CET).reindex(h_index).rename('Day-AheadPrice_€/MWh').to_frame().rename_axis('HourCET/CEST').assign(g_E=g).set_index('g_E',append=True)['Day-AheadPrice_€/MWh'] for g in list(g_area)],axis=0).reset_index()"
   ]
  },
  {
   "cell_type": "code",
   "execution_count": 73,
   "metadata": {},
   "outputs": [],
   "source": [
    "df_prices['HourUTC'] = df_prices['HourCET/CEST'].dt.tz_convert('UTC')\n",
    "df_prices['HourOfTheDay'] = df_prices['HourCET/CEST'].dt.hour\n",
    "df_prices['Weekday'] = df_prices['HourCET/CEST'].dt.weekday \n",
    "df_prices['Week'] = df_prices['HourCET/CEST'].dt.isocalendar().week\n",
    "df_prices['Month'] = df_prices['HourCET/CEST'].dt.month\n",
    "df_prices['h'] = 1\n",
    "df_prices['h'] = df_prices.groupby('g_E')['h'].cumsum()\n",
    "df_prices['g_E'] = df_prices['g_E'].str.replace('_','')\n",
    "new_col_order = ['g_E','HourUTC','HourCET/CEST','Month','Week','Weekday','HourOfTheDay','h','Day-AheadPrice_€/MWh']\n",
    "df_prices = df_prices[new_col_order].sort_values(['g_E','h']).reset_index(drop=True)"
   ]
  },
  {
   "cell_type": "code",
   "execution_count": 74,
   "metadata": {},
   "outputs": [],
   "source": [
    "file_path = os.path.join(data_dir,'Day-AheadPrices_'+''.join(df_prices['g_E'].unique().tolist())+'_'+str(year))\n",
    "df_prices.to_pickle(file_path)"
   ]
  },
  {
   "cell_type": "code",
   "execution_count": 75,
   "metadata": {},
   "outputs": [
    {
     "name": "stdout",
     "output_type": "stream",
     "text": [
      "   g_E                   HourUTC              HourCET/CEST  Month  Week  \\\n",
      "0  SE1 2015-12-31 23:00:00+00:00 2016-01-01 00:00:00+01:00      1    53   \n",
      "1  SE1 2016-01-01 00:00:00+00:00 2016-01-01 01:00:00+01:00      1    53   \n",
      "2  SE1 2016-01-01 01:00:00+00:00 2016-01-01 02:00:00+01:00      1    53   \n",
      "3  SE1 2016-01-01 02:00:00+00:00 2016-01-01 03:00:00+01:00      1    53   \n",
      "4  SE1 2016-01-01 03:00:00+00:00 2016-01-01 04:00:00+01:00      1    53   \n",
      "\n",
      "   Weekday  HourOfTheDay  h  Day-AheadPrice_€/MWh  \n",
      "0        4             0  1                 16.39  \n",
      "1        4             1  2                 16.04  \n",
      "2        4             2  3                 15.74  \n",
      "3        4             3  4                 15.57  \n",
      "4        4             4  5                 15.47  \n"
     ]
    }
   ],
   "source": [
    "df = pd.read_pickle('CleanedData/Day-AheadPrices_SE1SE2SE3SE4_2016')\n",
    "print(df.head())"
   ]
  },
  {
   "cell_type": "markdown",
   "metadata": {},
   "source": [
    "**Day Ahead Prices 2015**"
   ]
  },
  {
   "cell_type": "code",
   "execution_count": 76,
   "metadata": {},
   "outputs": [],
   "source": [
    "year = 2015\n",
    "\n",
    "start_str, end_str = str(year)+'-01-01T00',str(year)+'-12-31T23', \n",
    "start_CET = pd.Timestamp(start_str,tz='Europe/Stockholm'); start_UTC = start_CET.tz_convert('UTC')\n",
    "end_CET = pd.Timestamp(end_str,tz='Europe/Stockholm'); end_UTC = end_CET.tz_convert('UTC')\n",
    "h_index = pd.Index(pd.date_range(start_CET,end_CET,freq='H'),name='HourCET/CEST')"
   ]
  },
  {
   "cell_type": "code",
   "execution_count": 77,
   "metadata": {},
   "outputs": [],
   "source": [
    "df_prices = pd.concat([client.query_day_ahead_prices(Area[g], start=start_CET, end=end_CET).reindex(h_index).rename('Day-AheadPrice_€/MWh').to_frame().rename_axis('HourCET/CEST').assign(g_E=g).set_index('g_E',append=True)['Day-AheadPrice_€/MWh'] for g in list(g_area)],axis=0).reset_index()"
   ]
  },
  {
   "cell_type": "code",
   "execution_count": 78,
   "metadata": {},
   "outputs": [],
   "source": [
    "df_prices['HourUTC'] = df_prices['HourCET/CEST'].dt.tz_convert('UTC')\n",
    "df_prices['HourOfTheDay'] = df_prices['HourCET/CEST'].dt.hour\n",
    "df_prices['Weekday'] = df_prices['HourCET/CEST'].dt.weekday \n",
    "df_prices['Week'] = df_prices['HourCET/CEST'].dt.isocalendar().week\n",
    "df_prices['Month'] = df_prices['HourCET/CEST'].dt.month\n",
    "df_prices['h'] = 1\n",
    "df_prices['h'] = df_prices.groupby('g_E')['h'].cumsum()\n",
    "df_prices['g_E'] = df_prices['g_E'].str.replace('_','')\n",
    "new_col_order = ['g_E','HourUTC','HourCET/CEST','Month','Week','Weekday','HourOfTheDay','h','Day-AheadPrice_€/MWh']\n",
    "df_prices = df_prices[new_col_order].sort_values(['g_E','h']).reset_index(drop=True)"
   ]
  },
  {
   "cell_type": "code",
   "execution_count": 79,
   "metadata": {},
   "outputs": [],
   "source": [
    "file_path = os.path.join(data_dir,'Day-AheadPrices_'+''.join(df_prices['g_E'].unique().tolist())+'_'+str(year))\n",
    "df_prices.to_pickle(file_path)"
   ]
  },
  {
   "cell_type": "code",
   "execution_count": 80,
   "metadata": {},
   "outputs": [
    {
     "name": "stdout",
     "output_type": "stream",
     "text": [
      "   g_E                   HourUTC              HourCET/CEST  Month  Week  \\\n",
      "0  SE1 2014-12-31 23:00:00+00:00 2015-01-01 00:00:00+01:00      1     1   \n",
      "1  SE1 2015-01-01 00:00:00+00:00 2015-01-01 01:00:00+01:00      1     1   \n",
      "2  SE1 2015-01-01 01:00:00+00:00 2015-01-01 02:00:00+01:00      1     1   \n",
      "3  SE1 2015-01-01 02:00:00+00:00 2015-01-01 03:00:00+01:00      1     1   \n",
      "4  SE1 2015-01-01 03:00:00+00:00 2015-01-01 04:00:00+01:00      1     1   \n",
      "\n",
      "   Weekday  HourOfTheDay  h  Day-AheadPrice_€/MWh  \n",
      "0        3             0  1                 27.38  \n",
      "1        3             1  2                 23.37  \n",
      "2        3             2  3                 19.33  \n",
      "3        3             3  4                 17.66  \n",
      "4        3             4  5                 17.53  \n"
     ]
    }
   ],
   "source": [
    "df = pd.read_pickle('CleanedData/Day-AheadPrices_SE1SE2SE3SE4_2015')\n",
    "print(df.head())"
   ]
  },
  {
   "cell_type": "markdown",
   "metadata": {},
   "source": [
    "### Generation Forecast Hydro Power"
   ]
  },
  {
   "cell_type": "markdown",
   "metadata": {},
   "source": [
    "**2022**"
   ]
  },
  {
   "cell_type": "code",
   "execution_count": 124,
   "metadata": {},
   "outputs": [],
   "source": [
    "year = 2022\n",
    "\n",
    "start_str, end_str = str(year)+'-01-01T00',str(year)+'-12-31T23', \n",
    "start_CET = pd.Timestamp(start_str,tz='Europe/Stockholm'); start_UTC = start_CET.tz_convert('UTC')\n",
    "end_CET = pd.Timestamp(end_str,tz='Europe/Stockholm'); end_UTC = end_CET.tz_convert('UTC')\n",
    "h_index = pd.Index(pd.date_range(start_CET,end_CET,freq='H'),name='HourCET/CEST')"
   ]
  },
  {
   "cell_type": "code",
   "execution_count": 145,
   "metadata": {},
   "outputs": [
    {
     "name": "stdout",
     "output_type": "stream",
     "text": [
      "                           Hydro Water Reservoir  Other  Solar  Wind Onshore\n",
      "2022-01-01 00:00:00+01:00                 2665.0   37.0    0.0        1181.0\n",
      "2022-01-01 01:00:00+01:00                 2412.0   37.0    0.0        1223.0\n",
      "2022-01-01 02:00:00+01:00                 2386.0   37.0    0.0        1245.0\n",
      "2022-01-01 03:00:00+01:00                 2403.0   39.0    0.0        1263.0\n",
      "2022-01-01 04:00:00+01:00                 2310.0   39.0    0.0        1270.0\n"
     ]
    }
   ],
   "source": [
    "# Get the first DataFrame returned by the query\n",
    "df_generation = client.query_generation(Area.SE_1, start=start_CET,end=end_CET, process_type='A01')\n",
    "\n",
    "# Check the name of the first column\n",
    "print(df_generation.head())\n"
   ]
  },
  {
   "cell_type": "code",
   "execution_count": 183,
   "metadata": {},
   "outputs": [],
   "source": [
    "df_generation = pd.concat([\n",
    "    pd.concat([client.query_generation(Area[x], start=start_CET,end=end_CET, process_type='A01').rename_axis('HourCET/CEST').reindex(h_index).assign(g_E = x).set_index('g_E',append=True)['Hydro Water Reservoir'].rename('HydroWaterReservoir_MWh') for x in g_area],axis=0),\n",
    "],axis=1).reset_index()"
   ]
  },
  {
   "cell_type": "code",
   "execution_count": 184,
   "metadata": {},
   "outputs": [
    {
     "name": "stdout",
     "output_type": "stream",
     "text": [
      "               HourCET/CEST   g_E  HydroWaterReservoir_MWh\n",
      "0 2022-01-01 00:00:00+01:00  SE_1                   2665.0\n",
      "1 2022-01-01 01:00:00+01:00  SE_1                   2412.0\n",
      "2 2022-01-01 02:00:00+01:00  SE_1                   2386.0\n",
      "3 2022-01-01 03:00:00+01:00  SE_1                   2403.0\n",
      "4 2022-01-01 04:00:00+01:00  SE_1                   2310.0\n"
     ]
    }
   ],
   "source": [
    "print(df_generation.head())"
   ]
  },
  {
   "cell_type": "code",
   "execution_count": 185,
   "metadata": {},
   "outputs": [
    {
     "name": "stdout",
     "output_type": "stream",
     "text": [
      "0        2665.0\n",
      "1        2412.0\n",
      "2        2386.0\n",
      "3        2403.0\n",
      "4        2310.0\n",
      "          ...  \n",
      "35035     177.0\n",
      "35036     177.0\n",
      "35037     176.0\n",
      "35038     176.0\n",
      "35039       NaN\n",
      "Name: HydroWaterReservoir_MWh, Length: 35040, dtype: float64\n"
     ]
    }
   ],
   "source": [
    "print(df_generation['HydroWaterReservoir_MWh'])"
   ]
  },
  {
   "cell_type": "code",
   "execution_count": 186,
   "metadata": {},
   "outputs": [],
   "source": [
    "df_generation['HourUTC'] = df_generation['HourCET/CEST'].dt.tz_convert('UTC')\n",
    "df_generation['HourOfTheDay'] = df_generation['HourCET/CEST'].dt.hour\n",
    "df_generation['Weekday'] = df_generation['HourCET/CEST'].dt.weekday \n",
    "df_generation['Week'] = df_generation['HourCET/CEST'].dt.isocalendar().week\n",
    "df_generation['Month'] = df_generation['HourCET/CEST'].dt.month\n",
    "df_generation['h'] = 1\n",
    "df_generation['h'] = df_generation.groupby('g_E')['h'].cumsum()\n",
    "df_generation['g_E'] = df_generation['g_E'].str.replace('_','')\n",
    "new_col_order = ['g_E','HourUTC','HourCET/CEST','Month','Week','Weekday','HourOfTheDay','h','HydroWaterReservoir_MWh']\n",
    "df_generation = df_generation[new_col_order].sort_values(['g_E','h']).reset_index(drop=True)"
   ]
  },
  {
   "cell_type": "code",
   "execution_count": 187,
   "metadata": {},
   "outputs": [],
   "source": [
    "file_path = os.path.join(data_dir,'HydroWaterReservoir_MWh_'+''.join(df_prices['g_E'].unique().tolist())+'_'+str(year))\n",
    "df_generation.to_pickle(file_path)"
   ]
  },
  {
   "cell_type": "code",
   "execution_count": 189,
   "metadata": {},
   "outputs": [
    {
     "name": "stdout",
     "output_type": "stream",
     "text": [
      "   g_E                   HourUTC              HourCET/CEST  Month  Week  \\\n",
      "0  SE1 2021-12-31 23:00:00+00:00 2022-01-01 00:00:00+01:00      1    52   \n",
      "1  SE1 2022-01-01 00:00:00+00:00 2022-01-01 01:00:00+01:00      1    52   \n",
      "2  SE1 2022-01-01 01:00:00+00:00 2022-01-01 02:00:00+01:00      1    52   \n",
      "3  SE1 2022-01-01 02:00:00+00:00 2022-01-01 03:00:00+01:00      1    52   \n",
      "4  SE1 2022-01-01 03:00:00+00:00 2022-01-01 04:00:00+01:00      1    52   \n",
      "\n",
      "   Weekday  HourOfTheDay  h  HydroWaterReservoir_MWh  \n",
      "0        5             0  1                   2665.0  \n",
      "1        5             1  2                   2412.0  \n",
      "2        5             2  3                   2386.0  \n",
      "3        5             3  4                   2403.0  \n",
      "4        5             4  5                   2310.0  \n"
     ]
    }
   ],
   "source": [
    "df = pd.read_pickle('CleanedData/HydroWaterReservoir_MWh_SE1SE2SE3SE4_2022')\n",
    "print(df.head())"
   ]
  },
  {
   "cell_type": "markdown",
   "metadata": {},
   "source": [
    "**2023**"
   ]
  },
  {
   "cell_type": "code",
   "execution_count": 194,
   "metadata": {},
   "outputs": [],
   "source": [
    "year = 2023\n",
    "\n",
    "start_str, end_str = str(year)+'-01-01T00',str(year)+'-11-30T23', \n",
    "start_CET = pd.Timestamp(start_str,tz='Europe/Stockholm'); start_UTC = start_CET.tz_convert('UTC')\n",
    "end_CET = pd.Timestamp(end_str,tz='Europe/Stockholm'); end_UTC = end_CET.tz_convert('UTC')\n",
    "h_index = pd.Index(pd.date_range(start_CET,end_CET,freq='H'),name='HourCET/CEST')"
   ]
  },
  {
   "cell_type": "code",
   "execution_count": 195,
   "metadata": {},
   "outputs": [],
   "source": [
    "df_generation = pd.concat([\n",
    "    pd.concat([client.query_generation(Area[x], start=start_CET,end=end_CET, process_type='A01').rename_axis('HourCET/CEST').reindex(h_index).assign(g_E = x).set_index('g_E',append=True)['Hydro Water Reservoir'].rename('HydroWaterReservoir_MWh') for x in g_area],axis=0),\n",
    "],axis=1).reset_index()"
   ]
  },
  {
   "cell_type": "code",
   "execution_count": 196,
   "metadata": {},
   "outputs": [
    {
     "name": "stdout",
     "output_type": "stream",
     "text": [
      "               HourCET/CEST   g_E  HydroWaterReservoir_MWh\n",
      "0 2023-01-01 00:00:00+01:00  SE_1                    767.0\n",
      "1 2023-01-01 01:00:00+01:00  SE_1                    776.0\n",
      "2 2023-01-01 02:00:00+01:00  SE_1                    771.0\n",
      "3 2023-01-01 03:00:00+01:00  SE_1                    781.0\n",
      "4 2023-01-01 04:00:00+01:00  SE_1                    791.0\n"
     ]
    }
   ],
   "source": [
    "print(df_generation.head())"
   ]
  },
  {
   "cell_type": "code",
   "execution_count": 197,
   "metadata": {},
   "outputs": [],
   "source": [
    "df_generation['HourUTC'] = df_generation['HourCET/CEST'].dt.tz_convert('UTC')\n",
    "df_generation['HourOfTheDay'] = df_generation['HourCET/CEST'].dt.hour\n",
    "df_generation['Weekday'] = df_generation['HourCET/CEST'].dt.weekday \n",
    "df_generation['Week'] = df_generation['HourCET/CEST'].dt.isocalendar().week\n",
    "df_generation['Month'] = df_generation['HourCET/CEST'].dt.month\n",
    "df_generation['h'] = 1\n",
    "df_generation['h'] = df_generation.groupby('g_E')['h'].cumsum()\n",
    "df_generation['g_E'] = df_generation['g_E'].str.replace('_','')\n",
    "new_col_order = ['g_E','HourUTC','HourCET/CEST','Month','Week','Weekday','HourOfTheDay','h','HydroWaterReservoir_MWh']\n",
    "df_generation = df_generation[new_col_order].sort_values(['g_E','h']).reset_index(drop=True)"
   ]
  },
  {
   "cell_type": "code",
   "execution_count": 198,
   "metadata": {},
   "outputs": [],
   "source": [
    "file_path = os.path.join(data_dir,'HydroWaterReservoir_MWh_'+''.join(df_prices['g_E'].unique().tolist())+'_'+str(year))\n",
    "df_generation.to_pickle(file_path)"
   ]
  },
  {
   "cell_type": "code",
   "execution_count": 199,
   "metadata": {},
   "outputs": [
    {
     "name": "stdout",
     "output_type": "stream",
     "text": [
      "   g_E                   HourUTC              HourCET/CEST  Month  Week  \\\n",
      "0  SE1 2022-12-31 23:00:00+00:00 2023-01-01 00:00:00+01:00      1    52   \n",
      "1  SE1 2023-01-01 00:00:00+00:00 2023-01-01 01:00:00+01:00      1    52   \n",
      "2  SE1 2023-01-01 01:00:00+00:00 2023-01-01 02:00:00+01:00      1    52   \n",
      "3  SE1 2023-01-01 02:00:00+00:00 2023-01-01 03:00:00+01:00      1    52   \n",
      "4  SE1 2023-01-01 03:00:00+00:00 2023-01-01 04:00:00+01:00      1    52   \n",
      "\n",
      "   Weekday  HourOfTheDay  h  HydroWaterReservoir_MWh  \n",
      "0        6             0  1                    767.0  \n",
      "1        6             1  2                    776.0  \n",
      "2        6             2  3                    771.0  \n",
      "3        6             3  4                    781.0  \n",
      "4        6             4  5                    791.0  \n"
     ]
    }
   ],
   "source": [
    "df = pd.read_pickle('CleanedData/HydroWaterReservoir_MWh_SE1SE2SE3SE4_2023')\n",
    "print(df.head())"
   ]
  },
  {
   "cell_type": "markdown",
   "metadata": {},
   "source": [
    "### Day-Ahead Load"
   ]
  },
  {
   "cell_type": "markdown",
   "metadata": {},
   "source": [
    "**2022**"
   ]
  },
  {
   "cell_type": "code",
   "execution_count": 206,
   "metadata": {},
   "outputs": [],
   "source": [
    "year = 2022\n",
    "\n",
    "start_str, end_str = str(year)+'-01-01T00',str(year)+'-12-31T23', \n",
    "start_CET = pd.Timestamp(start_str,tz='Europe/Stockholm'); start_UTC = start_CET.tz_convert('UTC')\n",
    "end_CET = pd.Timestamp(end_str,tz='Europe/Stockholm'); end_UTC = end_CET.tz_convert('UTC')\n",
    "h_index = pd.Index(pd.date_range(start_CET,end_CET,freq='H'),name='HourCET/CEST')"
   ]
  },
  {
   "cell_type": "code",
   "execution_count": 209,
   "metadata": {},
   "outputs": [
    {
     "name": "stdout",
     "output_type": "stream",
     "text": [
      "                           Forecasted Load\n",
      "2022-01-01 00:00:00+01:00           1309.0\n",
      "2022-01-01 01:00:00+01:00           1308.0\n",
      "2022-01-01 02:00:00+01:00           1298.0\n",
      "2022-01-01 03:00:00+01:00           1284.0\n",
      "2022-01-01 04:00:00+01:00           1295.0\n"
     ]
    }
   ],
   "source": [
    "# Get the first DataFrame returned by the query\n",
    "df_generation = client.query_load_forecast(Area.SE_1, start=start_CET,end=end_CET, process_type='A01')\n",
    "\n",
    "# Check the name of the first column\n",
    "print(df_generation.head())"
   ]
  },
  {
   "cell_type": "code",
   "execution_count": 210,
   "metadata": {},
   "outputs": [],
   "source": [
    "df_generation = pd.concat([\n",
    "    pd.concat([client.query_load_forecast(Area[x], start=start_CET,end=end_CET, process_type='A01').rename_axis('HourCET/CEST').reindex(h_index).assign(g_E = x).set_index('g_E',append=True)['Forecasted Load'].rename('ForecastedLoad_MWh') for x in g_area],axis=0),\n",
    "],axis=1).reset_index()"
   ]
  },
  {
   "cell_type": "code",
   "execution_count": 212,
   "metadata": {},
   "outputs": [],
   "source": [
    "df_generation['HourUTC'] = df_generation['HourCET/CEST'].dt.tz_convert('UTC')\n",
    "df_generation['HourOfTheDay'] = df_generation['HourCET/CEST'].dt.hour\n",
    "df_generation['Weekday'] = df_generation['HourCET/CEST'].dt.weekday \n",
    "df_generation['Week'] = df_generation['HourCET/CEST'].dt.isocalendar().week\n",
    "df_generation['Month'] = df_generation['HourCET/CEST'].dt.month\n",
    "df_generation['h'] = 1\n",
    "df_generation['h'] = df_generation.groupby('g_E')['h'].cumsum()\n",
    "df_generation['g_E'] = df_generation['g_E'].str.replace('_','')\n",
    "new_col_order = ['g_E','HourUTC','HourCET/CEST','Month','Week','Weekday','HourOfTheDay','h','ForecastedLoad_MWh']\n",
    "df_generation = df_generation[new_col_order].sort_values(['g_E','h']).reset_index(drop=True)"
   ]
  },
  {
   "cell_type": "code",
   "execution_count": 213,
   "metadata": {},
   "outputs": [],
   "source": [
    "file_path = os.path.join(data_dir,'ForecastedLoad_MWh_'+''.join(df_prices['g_E'].unique().tolist())+'_'+str(year))\n",
    "df_generation.to_pickle(file_path)"
   ]
  },
  {
   "cell_type": "code",
   "execution_count": 215,
   "metadata": {},
   "outputs": [
    {
     "name": "stdout",
     "output_type": "stream",
     "text": [
      "   g_E                   HourUTC              HourCET/CEST  Month  Week  \\\n",
      "0  SE1 2021-12-31 23:00:00+00:00 2022-01-01 00:00:00+01:00      1    52   \n",
      "1  SE1 2022-01-01 00:00:00+00:00 2022-01-01 01:00:00+01:00      1    52   \n",
      "2  SE1 2022-01-01 01:00:00+00:00 2022-01-01 02:00:00+01:00      1    52   \n",
      "3  SE1 2022-01-01 02:00:00+00:00 2022-01-01 03:00:00+01:00      1    52   \n",
      "4  SE1 2022-01-01 03:00:00+00:00 2022-01-01 04:00:00+01:00      1    52   \n",
      "\n",
      "   Weekday  HourOfTheDay  h  ForecastedLoad_MWh  \n",
      "0        5             0  1              1309.0  \n",
      "1        5             1  2              1308.0  \n",
      "2        5             2  3              1298.0  \n",
      "3        5             3  4              1284.0  \n",
      "4        5             4  5              1295.0  \n"
     ]
    }
   ],
   "source": [
    "df = pd.read_pickle('CleanedData/ForecastedLoad_MWh_SE1SE2SE3SE4_2022')\n",
    "print(df.head())"
   ]
  },
  {
   "cell_type": "markdown",
   "metadata": {},
   "source": [
    "**2023**"
   ]
  },
  {
   "cell_type": "code",
   "execution_count": 216,
   "metadata": {},
   "outputs": [],
   "source": [
    "year = 2023\n",
    "\n",
    "start_str, end_str = str(year)+'-01-01T00',str(year)+'-11-30T23', \n",
    "start_CET = pd.Timestamp(start_str,tz='Europe/Stockholm'); start_UTC = start_CET.tz_convert('UTC')\n",
    "end_CET = pd.Timestamp(end_str,tz='Europe/Stockholm'); end_UTC = end_CET.tz_convert('UTC')\n",
    "h_index = pd.Index(pd.date_range(start_CET,end_CET,freq='H'),name='HourCET/CEST')"
   ]
  },
  {
   "cell_type": "code",
   "execution_count": 217,
   "metadata": {},
   "outputs": [],
   "source": [
    "df_generation = pd.concat([\n",
    "    pd.concat([client.query_load_forecast(Area[x], start=start_CET,end=end_CET, process_type='A01').rename_axis('HourCET/CEST').reindex(h_index).assign(g_E = x).set_index('g_E',append=True)['Forecasted Load'].rename('ForecastedLoad_MWh') for x in g_area],axis=0),\n",
    "],axis=1).reset_index()"
   ]
  },
  {
   "cell_type": "code",
   "execution_count": 218,
   "metadata": {},
   "outputs": [],
   "source": [
    "df_generation['HourUTC'] = df_generation['HourCET/CEST'].dt.tz_convert('UTC')\n",
    "df_generation['HourOfTheDay'] = df_generation['HourCET/CEST'].dt.hour\n",
    "df_generation['Weekday'] = df_generation['HourCET/CEST'].dt.weekday \n",
    "df_generation['Week'] = df_generation['HourCET/CEST'].dt.isocalendar().week\n",
    "df_generation['Month'] = df_generation['HourCET/CEST'].dt.month\n",
    "df_generation['h'] = 1\n",
    "df_generation['h'] = df_generation.groupby('g_E')['h'].cumsum()\n",
    "df_generation['g_E'] = df_generation['g_E'].str.replace('_','')\n",
    "new_col_order = ['g_E','HourUTC','HourCET/CEST','Month','Week','Weekday','HourOfTheDay','h','ForecastedLoad_MWh']\n",
    "df_generation = df_generation[new_col_order].sort_values(['g_E','h']).reset_index(drop=True)"
   ]
  },
  {
   "cell_type": "code",
   "execution_count": 219,
   "metadata": {},
   "outputs": [],
   "source": [
    "file_path = os.path.join(data_dir,'ForecastedLoad_MWh_'+''.join(df_prices['g_E'].unique().tolist())+'_'+str(year))\n",
    "df_generation.to_pickle(file_path)"
   ]
  },
  {
   "cell_type": "code",
   "execution_count": 220,
   "metadata": {},
   "outputs": [
    {
     "name": "stdout",
     "output_type": "stream",
     "text": [
      "   g_E                   HourUTC              HourCET/CEST  Month  Week  \\\n",
      "0  SE1 2022-12-31 23:00:00+00:00 2023-01-01 00:00:00+01:00      1    52   \n",
      "1  SE1 2023-01-01 00:00:00+00:00 2023-01-01 01:00:00+01:00      1    52   \n",
      "2  SE1 2023-01-01 01:00:00+00:00 2023-01-01 02:00:00+01:00      1    52   \n",
      "3  SE1 2023-01-01 02:00:00+00:00 2023-01-01 03:00:00+01:00      1    52   \n",
      "4  SE1 2023-01-01 03:00:00+00:00 2023-01-01 04:00:00+01:00      1    52   \n",
      "\n",
      "   Weekday  HourOfTheDay  h  ForecastedLoad_MWh  \n",
      "0        6             0  1              1262.0  \n",
      "1        6             1  2              1258.0  \n",
      "2        6             2  3              1252.0  \n",
      "3        6             3  4              1245.0  \n",
      "4        6             4  5              1256.0  \n"
     ]
    }
   ],
   "source": [
    "df = pd.read_pickle('CleanedData/ForecastedLoad_MWh_SE1SE2SE3SE4_2023')\n",
    "print(df.head())"
   ]
  },
  {
   "cell_type": "markdown",
   "metadata": {},
   "source": [
    "### Generation Wind Forecast"
   ]
  },
  {
   "cell_type": "markdown",
   "metadata": {},
   "source": [
    "**2022**"
   ]
  },
  {
   "cell_type": "code",
   "execution_count": 221,
   "metadata": {},
   "outputs": [],
   "source": [
    "year = 2022\n",
    "\n",
    "start_str, end_str = str(year)+'-01-01T00',str(year)+'-12-31T23', \n",
    "start_CET = pd.Timestamp(start_str,tz='Europe/Stockholm'); start_UTC = start_CET.tz_convert('UTC')\n",
    "end_CET = pd.Timestamp(end_str,tz='Europe/Stockholm'); end_UTC = end_CET.tz_convert('UTC')\n",
    "h_index = pd.Index(pd.date_range(start_CET,end_CET,freq='H'),name='HourCET/CEST')"
   ]
  },
  {
   "cell_type": "code",
   "execution_count": 223,
   "metadata": {},
   "outputs": [
    {
     "name": "stdout",
     "output_type": "stream",
     "text": [
      "                           Solar  Wind Onshore\n",
      "2022-01-01 00:00:00+01:00    0.0        1148.0\n",
      "2022-01-01 01:00:00+01:00    0.0        1195.0\n",
      "2022-01-01 02:00:00+01:00    0.0        1220.0\n",
      "2022-01-01 03:00:00+01:00    0.0        1254.0\n",
      "2022-01-01 04:00:00+01:00    0.0        1266.0\n"
     ]
    }
   ],
   "source": [
    "# Get the first DataFrame returned by the query\n",
    "df_generation = client.query_wind_and_solar_forecast(Area.SE_1, start=start_CET,end=end_CET, process_type='A01')\n",
    "\n",
    "# Check the name of the first column\n",
    "print(df_generation.head())"
   ]
  },
  {
   "cell_type": "code",
   "execution_count": 224,
   "metadata": {},
   "outputs": [],
   "source": [
    "df_generation = pd.concat([\n",
    "    pd.concat([client.query_wind_and_solar_forecast(Area[x], start=start_CET,end=end_CET, process_type='A01').rename_axis('HourCET/CEST').reindex(h_index).assign(g_E = x).set_index('g_E',append=True)['Wind Onshore'].rename('WindOnshore_MWh') for x in g_area],axis=0),\n",
    "],axis=1).reset_index()"
   ]
  },
  {
   "cell_type": "code",
   "execution_count": 225,
   "metadata": {},
   "outputs": [],
   "source": [
    "df_generation['HourUTC'] = df_generation['HourCET/CEST'].dt.tz_convert('UTC')\n",
    "df_generation['HourOfTheDay'] = df_generation['HourCET/CEST'].dt.hour\n",
    "df_generation['Weekday'] = df_generation['HourCET/CEST'].dt.weekday \n",
    "df_generation['Week'] = df_generation['HourCET/CEST'].dt.isocalendar().week\n",
    "df_generation['Month'] = df_generation['HourCET/CEST'].dt.month\n",
    "df_generation['h'] = 1\n",
    "df_generation['h'] = df_generation.groupby('g_E')['h'].cumsum()\n",
    "df_generation['g_E'] = df_generation['g_E'].str.replace('_','')\n",
    "new_col_order = ['g_E','HourUTC','HourCET/CEST','Month','Week','Weekday','HourOfTheDay','h','WindOnshore_MWh']\n",
    "df_generation = df_generation[new_col_order].sort_values(['g_E','h']).reset_index(drop=True)"
   ]
  },
  {
   "cell_type": "code",
   "execution_count": 226,
   "metadata": {},
   "outputs": [],
   "source": [
    "file_path = os.path.join(data_dir,'WindOnshore_MWh_'+''.join(df_prices['g_E'].unique().tolist())+'_'+str(year))\n",
    "df_generation.to_pickle(file_path)"
   ]
  },
  {
   "cell_type": "code",
   "execution_count": 227,
   "metadata": {},
   "outputs": [
    {
     "name": "stdout",
     "output_type": "stream",
     "text": [
      "   g_E                   HourUTC              HourCET/CEST  Month  Week  \\\n",
      "0  SE1 2021-12-31 23:00:00+00:00 2022-01-01 00:00:00+01:00      1    52   \n",
      "1  SE1 2022-01-01 00:00:00+00:00 2022-01-01 01:00:00+01:00      1    52   \n",
      "2  SE1 2022-01-01 01:00:00+00:00 2022-01-01 02:00:00+01:00      1    52   \n",
      "3  SE1 2022-01-01 02:00:00+00:00 2022-01-01 03:00:00+01:00      1    52   \n",
      "4  SE1 2022-01-01 03:00:00+00:00 2022-01-01 04:00:00+01:00      1    52   \n",
      "\n",
      "   Weekday  HourOfTheDay  h  WindOnshore_MWh  \n",
      "0        5             0  1           1148.0  \n",
      "1        5             1  2           1195.0  \n",
      "2        5             2  3           1220.0  \n",
      "3        5             3  4           1254.0  \n",
      "4        5             4  5           1266.0  \n"
     ]
    }
   ],
   "source": [
    "df = pd.read_pickle('CleanedData/WindOnshore_MWh_SE1SE2SE3SE4_2022')\n",
    "print(df.head())"
   ]
  },
  {
   "cell_type": "markdown",
   "metadata": {},
   "source": [
    "**2023**"
   ]
  },
  {
   "cell_type": "code",
   "execution_count": 228,
   "metadata": {},
   "outputs": [],
   "source": [
    "year = 2023\n",
    "\n",
    "start_str, end_str = str(year)+'-01-01T00',str(year)+'-11-30T23', \n",
    "start_CET = pd.Timestamp(start_str,tz='Europe/Stockholm'); start_UTC = start_CET.tz_convert('UTC')\n",
    "end_CET = pd.Timestamp(end_str,tz='Europe/Stockholm'); end_UTC = end_CET.tz_convert('UTC')\n",
    "h_index = pd.Index(pd.date_range(start_CET,end_CET,freq='H'),name='HourCET/CEST')"
   ]
  },
  {
   "cell_type": "code",
   "execution_count": 231,
   "metadata": {},
   "outputs": [],
   "source": [
    "df_generation = pd.concat([\n",
    "    pd.concat([client.query_wind_and_solar_forecast(Area[x], start=start_CET,end=end_CET, process_type='A01').rename_axis('HourCET/CEST').reindex(h_index).assign(g_E = x).set_index('g_E',append=True)['Wind Onshore'].rename('WindOnshore_MWh') for x in g_area],axis=0),\n",
    "],axis=1).reset_index()"
   ]
  },
  {
   "cell_type": "code",
   "execution_count": 232,
   "metadata": {},
   "outputs": [],
   "source": [
    "df_generation['HourUTC'] = df_generation['HourCET/CEST'].dt.tz_convert('UTC')\n",
    "df_generation['HourOfTheDay'] = df_generation['HourCET/CEST'].dt.hour\n",
    "df_generation['Weekday'] = df_generation['HourCET/CEST'].dt.weekday \n",
    "df_generation['Week'] = df_generation['HourCET/CEST'].dt.isocalendar().week\n",
    "df_generation['Month'] = df_generation['HourCET/CEST'].dt.month\n",
    "df_generation['h'] = 1\n",
    "df_generation['h'] = df_generation.groupby('g_E')['h'].cumsum()\n",
    "df_generation['g_E'] = df_generation['g_E'].str.replace('_','')\n",
    "new_col_order = ['g_E','HourUTC','HourCET/CEST','Month','Week','Weekday','HourOfTheDay','h','WindOnshore_MWh']\n",
    "df_generation = df_generation[new_col_order].sort_values(['g_E','h']).reset_index(drop=True)"
   ]
  },
  {
   "cell_type": "code",
   "execution_count": 233,
   "metadata": {},
   "outputs": [],
   "source": [
    "file_path = os.path.join(data_dir,'WindOnshore_MWh_'+''.join(df_prices['g_E'].unique().tolist())+'_'+str(year))\n",
    "df_generation.to_pickle(file_path)"
   ]
  },
  {
   "cell_type": "code",
   "execution_count": 234,
   "metadata": {},
   "outputs": [
    {
     "name": "stdout",
     "output_type": "stream",
     "text": [
      "   g_E                   HourUTC              HourCET/CEST  Month  Week  \\\n",
      "0  SE1 2022-12-31 23:00:00+00:00 2023-01-01 00:00:00+01:00      1    52   \n",
      "1  SE1 2023-01-01 00:00:00+00:00 2023-01-01 01:00:00+01:00      1    52   \n",
      "2  SE1 2023-01-01 01:00:00+00:00 2023-01-01 02:00:00+01:00      1    52   \n",
      "3  SE1 2023-01-01 02:00:00+00:00 2023-01-01 03:00:00+01:00      1    52   \n",
      "4  SE1 2023-01-01 03:00:00+00:00 2023-01-01 04:00:00+01:00      1    52   \n",
      "\n",
      "   Weekday  HourOfTheDay  h  WindOnshore_MWh  \n",
      "0        6             0  1           1548.0  \n",
      "1        6             1  2           1609.0  \n",
      "2        6             2  3           1661.0  \n",
      "3        6             3  4           1688.0  \n",
      "4        6             4  5           1689.0  \n"
     ]
    }
   ],
   "source": [
    "df = pd.read_pickle('CleanedData/WindOnshore_MWh_SE1SE2SE3SE4_2023')\n",
    "print(df.head())"
   ]
  },
  {
   "cell_type": "markdown",
   "metadata": {},
   "source": [
    "### Generation Solar Forecast"
   ]
  },
  {
   "cell_type": "markdown",
   "metadata": {},
   "source": [
    "**2022**"
   ]
  },
  {
   "cell_type": "code",
   "execution_count": 235,
   "metadata": {},
   "outputs": [],
   "source": [
    "year = 2022\n",
    "\n",
    "start_str, end_str = str(year)+'-01-01T00',str(year)+'-12-31T23', \n",
    "start_CET = pd.Timestamp(start_str,tz='Europe/Stockholm'); start_UTC = start_CET.tz_convert('UTC')\n",
    "end_CET = pd.Timestamp(end_str,tz='Europe/Stockholm'); end_UTC = end_CET.tz_convert('UTC')\n",
    "h_index = pd.Index(pd.date_range(start_CET,end_CET,freq='H'),name='HourCET/CEST')"
   ]
  },
  {
   "cell_type": "code",
   "execution_count": 236,
   "metadata": {},
   "outputs": [],
   "source": [
    "df_generation = pd.concat([\n",
    "    pd.concat([client.query_wind_and_solar_forecast(Area[x], start=start_CET,end=end_CET, process_type='A01').rename_axis('HourCET/CEST').reindex(h_index).assign(g_E = x).set_index('g_E',append=True)['Solar'].rename('Solar_MWh') for x in g_area],axis=0),\n",
    "],axis=1).reset_index()"
   ]
  },
  {
   "cell_type": "code",
   "execution_count": 237,
   "metadata": {},
   "outputs": [],
   "source": [
    "df_generation['HourUTC'] = df_generation['HourCET/CEST'].dt.tz_convert('UTC')\n",
    "df_generation['HourOfTheDay'] = df_generation['HourCET/CEST'].dt.hour\n",
    "df_generation['Weekday'] = df_generation['HourCET/CEST'].dt.weekday \n",
    "df_generation['Week'] = df_generation['HourCET/CEST'].dt.isocalendar().week\n",
    "df_generation['Month'] = df_generation['HourCET/CEST'].dt.month\n",
    "df_generation['h'] = 1\n",
    "df_generation['h'] = df_generation.groupby('g_E')['h'].cumsum()\n",
    "df_generation['g_E'] = df_generation['g_E'].str.replace('_','')\n",
    "new_col_order = ['g_E','HourUTC','HourCET/CEST','Month','Week','Weekday','HourOfTheDay','h','Solar_MWh']\n",
    "df_generation = df_generation[new_col_order].sort_values(['g_E','h']).reset_index(drop=True)"
   ]
  },
  {
   "cell_type": "code",
   "execution_count": 238,
   "metadata": {},
   "outputs": [],
   "source": [
    "file_path = os.path.join(data_dir,'Solar_MWh_'+''.join(df_prices['g_E'].unique().tolist())+'_'+str(year))\n",
    "df_generation.to_pickle(file_path)"
   ]
  },
  {
   "cell_type": "code",
   "execution_count": 240,
   "metadata": {},
   "outputs": [
    {
     "name": "stdout",
     "output_type": "stream",
     "text": [
      "   g_E                   HourUTC              HourCET/CEST  Month  Week  \\\n",
      "0  SE1 2021-12-31 23:00:00+00:00 2022-01-01 00:00:00+01:00      1    52   \n",
      "1  SE1 2022-01-01 00:00:00+00:00 2022-01-01 01:00:00+01:00      1    52   \n",
      "2  SE1 2022-01-01 01:00:00+00:00 2022-01-01 02:00:00+01:00      1    52   \n",
      "3  SE1 2022-01-01 02:00:00+00:00 2022-01-01 03:00:00+01:00      1    52   \n",
      "4  SE1 2022-01-01 03:00:00+00:00 2022-01-01 04:00:00+01:00      1    52   \n",
      "\n",
      "   Weekday  HourOfTheDay  h  Solar_MWh  \n",
      "0        5             0  1        0.0  \n",
      "1        5             1  2        0.0  \n",
      "2        5             2  3        0.0  \n",
      "3        5             3  4        0.0  \n",
      "4        5             4  5        0.0  \n"
     ]
    }
   ],
   "source": [
    "df = pd.read_pickle('CleanedData/Solar_MWh_SE1SE2SE3SE4_2022')\n",
    "print(df.head())"
   ]
  },
  {
   "cell_type": "markdown",
   "metadata": {},
   "source": [
    "**2023**"
   ]
  },
  {
   "cell_type": "code",
   "execution_count": 241,
   "metadata": {},
   "outputs": [],
   "source": [
    "year = 2023\n",
    "\n",
    "start_str, end_str = str(year)+'-01-01T00',str(year)+'-11-30T23', \n",
    "start_CET = pd.Timestamp(start_str,tz='Europe/Stockholm'); start_UTC = start_CET.tz_convert('UTC')\n",
    "end_CET = pd.Timestamp(end_str,tz='Europe/Stockholm'); end_UTC = end_CET.tz_convert('UTC')\n",
    "h_index = pd.Index(pd.date_range(start_CET,end_CET,freq='H'),name='HourCET/CEST')"
   ]
  },
  {
   "cell_type": "code",
   "execution_count": 242,
   "metadata": {},
   "outputs": [],
   "source": [
    "df_generation = pd.concat([\n",
    "    pd.concat([client.query_wind_and_solar_forecast(Area[x], start=start_CET,end=end_CET, process_type='A01').rename_axis('HourCET/CEST').reindex(h_index).assign(g_E = x).set_index('g_E',append=True)['Solar'].rename('Solar_MWh') for x in g_area],axis=0),\n",
    "],axis=1).reset_index()"
   ]
  },
  {
   "cell_type": "code",
   "execution_count": 243,
   "metadata": {},
   "outputs": [],
   "source": [
    "df_generation['HourUTC'] = df_generation['HourCET/CEST'].dt.tz_convert('UTC')\n",
    "df_generation['HourOfTheDay'] = df_generation['HourCET/CEST'].dt.hour\n",
    "df_generation['Weekday'] = df_generation['HourCET/CEST'].dt.weekday \n",
    "df_generation['Week'] = df_generation['HourCET/CEST'].dt.isocalendar().week\n",
    "df_generation['Month'] = df_generation['HourCET/CEST'].dt.month\n",
    "df_generation['h'] = 1\n",
    "df_generation['h'] = df_generation.groupby('g_E')['h'].cumsum()\n",
    "df_generation['g_E'] = df_generation['g_E'].str.replace('_','')\n",
    "new_col_order = ['g_E','HourUTC','HourCET/CEST','Month','Week','Weekday','HourOfTheDay','h','Solar_MWh']\n",
    "df_generation = df_generation[new_col_order].sort_values(['g_E','h']).reset_index(drop=True)"
   ]
  },
  {
   "cell_type": "code",
   "execution_count": 244,
   "metadata": {},
   "outputs": [],
   "source": [
    "file_path = os.path.join(data_dir,'Solar_MWh_'+''.join(df_prices['g_E'].unique().tolist())+'_'+str(year))\n",
    "df_generation.to_pickle(file_path)"
   ]
  },
  {
   "cell_type": "code",
   "execution_count": 245,
   "metadata": {},
   "outputs": [
    {
     "name": "stdout",
     "output_type": "stream",
     "text": [
      "   g_E                   HourUTC              HourCET/CEST  Month  Week  \\\n",
      "0  SE1 2022-12-31 23:00:00+00:00 2023-01-01 00:00:00+01:00      1    52   \n",
      "1  SE1 2023-01-01 00:00:00+00:00 2023-01-01 01:00:00+01:00      1    52   \n",
      "2  SE1 2023-01-01 01:00:00+00:00 2023-01-01 02:00:00+01:00      1    52   \n",
      "3  SE1 2023-01-01 02:00:00+00:00 2023-01-01 03:00:00+01:00      1    52   \n",
      "4  SE1 2023-01-01 03:00:00+00:00 2023-01-01 04:00:00+01:00      1    52   \n",
      "\n",
      "   Weekday  HourOfTheDay  h  Solar_MWh  \n",
      "0        6             0  1        0.0  \n",
      "1        6             1  2        0.0  \n",
      "2        6             2  3        0.0  \n",
      "3        6             3  4        0.0  \n",
      "4        6             4  5        0.0  \n"
     ]
    }
   ],
   "source": [
    "df = pd.read_pickle('CleanedData/Solar_MWh_SE1SE2SE3SE4_2023')\n",
    "print(df.head())"
   ]
  },
  {
   "cell_type": "markdown",
   "metadata": {},
   "source": [
    "### Actual Wind Generation"
   ]
  },
  {
   "cell_type": "markdown",
   "metadata": {},
   "source": [
    "**2022**"
   ]
  },
  {
   "cell_type": "code",
   "execution_count": 246,
   "metadata": {},
   "outputs": [],
   "source": [
    "year = 2022\n",
    "\n",
    "start_str, end_str = str(year)+'-01-01T00',str(year)+'-12-31T23', \n",
    "start_CET = pd.Timestamp(start_str,tz='Europe/Stockholm'); start_UTC = start_CET.tz_convert('UTC')\n",
    "end_CET = pd.Timestamp(end_str,tz='Europe/Stockholm'); end_UTC = end_CET.tz_convert('UTC')\n",
    "h_index = pd.Index(pd.date_range(start_CET,end_CET,freq='H'),name='HourCET/CEST')"
   ]
  },
  {
   "cell_type": "code",
   "execution_count": 247,
   "metadata": {},
   "outputs": [],
   "source": [
    "df_generation = pd.concat([\n",
    "    pd.concat([client.query_generation(Area[x], start=start_CET,end=end_CET, process_type='A01').rename_axis('HourCET/CEST').reindex(h_index).assign(g_E = x).set_index('g_E',append=True)['Wind Onshore'].rename('WindOnshore_MWh') for x in g_area],axis=0),\n",
    "],axis=1).reset_index()"
   ]
  },
  {
   "cell_type": "code",
   "execution_count": 250,
   "metadata": {},
   "outputs": [],
   "source": [
    "df_generation['HourUTC'] = df_generation['HourCET/CEST'].dt.tz_convert('UTC')\n",
    "df_generation['HourOfTheDay'] = df_generation['HourCET/CEST'].dt.hour\n",
    "df_generation['Weekday'] = df_generation['HourCET/CEST'].dt.weekday \n",
    "df_generation['Week'] = df_generation['HourCET/CEST'].dt.isocalendar().week\n",
    "df_generation['Month'] = df_generation['HourCET/CEST'].dt.month\n",
    "df_generation['h'] = 1\n",
    "df_generation['h'] = df_generation.groupby('g_E')['h'].cumsum()\n",
    "df_generation['g_E'] = df_generation['g_E'].str.replace('_','')\n",
    "new_col_order = ['g_E','HourUTC','HourCET/CEST','Month','Week','Weekday','HourOfTheDay','h','WindOnshore_MWh']\n",
    "df_generation = df_generation[new_col_order].sort_values(['g_E','h']).reset_index(drop=True)"
   ]
  },
  {
   "cell_type": "code",
   "execution_count": 251,
   "metadata": {},
   "outputs": [],
   "source": [
    "file_path = os.path.join(data_dir,'ActualWindOnshore_MWh_'+''.join(df_prices['g_E'].unique().tolist())+'_'+str(year))\n",
    "df_generation.to_pickle(file_path)"
   ]
  },
  {
   "cell_type": "code",
   "execution_count": 252,
   "metadata": {},
   "outputs": [
    {
     "name": "stdout",
     "output_type": "stream",
     "text": [
      "   g_E                   HourUTC              HourCET/CEST  Month  Week  \\\n",
      "0  SE1 2021-12-31 23:00:00+00:00 2022-01-01 00:00:00+01:00      1    52   \n",
      "1  SE1 2022-01-01 00:00:00+00:00 2022-01-01 01:00:00+01:00      1    52   \n",
      "2  SE1 2022-01-01 01:00:00+00:00 2022-01-01 02:00:00+01:00      1    52   \n",
      "3  SE1 2022-01-01 02:00:00+00:00 2022-01-01 03:00:00+01:00      1    52   \n",
      "4  SE1 2022-01-01 03:00:00+00:00 2022-01-01 04:00:00+01:00      1    52   \n",
      "\n",
      "   Weekday  HourOfTheDay  h  WindOnshore_MWh  \n",
      "0        5             0  1           1181.0  \n",
      "1        5             1  2           1223.0  \n",
      "2        5             2  3           1245.0  \n",
      "3        5             3  4           1263.0  \n",
      "4        5             4  5           1270.0  \n"
     ]
    }
   ],
   "source": [
    "df = pd.read_pickle('CleanedData/ActualWindOnshore_MWh_SE1SE2SE3SE4_2022')\n",
    "print(df.head())"
   ]
  },
  {
   "cell_type": "markdown",
   "metadata": {},
   "source": [
    "**2023**"
   ]
  },
  {
   "cell_type": "code",
   "execution_count": 253,
   "metadata": {},
   "outputs": [],
   "source": [
    "year = 2023\n",
    "\n",
    "start_str, end_str = str(year)+'-01-01T00',str(year)+'-11-30T23', \n",
    "start_CET = pd.Timestamp(start_str,tz='Europe/Stockholm'); start_UTC = start_CET.tz_convert('UTC')\n",
    "end_CET = pd.Timestamp(end_str,tz='Europe/Stockholm'); end_UTC = end_CET.tz_convert('UTC')\n",
    "h_index = pd.Index(pd.date_range(start_CET,end_CET,freq='H'),name='HourCET/CEST')"
   ]
  },
  {
   "cell_type": "code",
   "execution_count": 254,
   "metadata": {},
   "outputs": [],
   "source": [
    "df_generation = pd.concat([\n",
    "    pd.concat([client.query_generation(Area[x], start=start_CET,end=end_CET, process_type='A01').rename_axis('HourCET/CEST').reindex(h_index).assign(g_E = x).set_index('g_E',append=True)['Wind Onshore'].rename('WindOnshore_MWh') for x in g_area],axis=0),\n",
    "],axis=1).reset_index()"
   ]
  },
  {
   "cell_type": "code",
   "execution_count": 255,
   "metadata": {},
   "outputs": [],
   "source": [
    "df_generation['HourUTC'] = df_generation['HourCET/CEST'].dt.tz_convert('UTC')\n",
    "df_generation['HourOfTheDay'] = df_generation['HourCET/CEST'].dt.hour\n",
    "df_generation['Weekday'] = df_generation['HourCET/CEST'].dt.weekday \n",
    "df_generation['Week'] = df_generation['HourCET/CEST'].dt.isocalendar().week\n",
    "df_generation['Month'] = df_generation['HourCET/CEST'].dt.month\n",
    "df_generation['h'] = 1\n",
    "df_generation['h'] = df_generation.groupby('g_E')['h'].cumsum()\n",
    "df_generation['g_E'] = df_generation['g_E'].str.replace('_','')\n",
    "new_col_order = ['g_E','HourUTC','HourCET/CEST','Month','Week','Weekday','HourOfTheDay','h','WindOnshore_MWh']\n",
    "df_generation = df_generation[new_col_order].sort_values(['g_E','h']).reset_index(drop=True)"
   ]
  },
  {
   "cell_type": "code",
   "execution_count": 256,
   "metadata": {},
   "outputs": [],
   "source": [
    "file_path = os.path.join(data_dir,'ActualWindOnshore_MWh_'+''.join(df_prices['g_E'].unique().tolist())+'_'+str(year))\n",
    "df_generation.to_pickle(file_path)"
   ]
  },
  {
   "cell_type": "code",
   "execution_count": 257,
   "metadata": {},
   "outputs": [
    {
     "name": "stdout",
     "output_type": "stream",
     "text": [
      "   g_E                   HourUTC              HourCET/CEST  Month  Week  \\\n",
      "0  SE1 2022-12-31 23:00:00+00:00 2023-01-01 00:00:00+01:00      1    52   \n",
      "1  SE1 2023-01-01 00:00:00+00:00 2023-01-01 01:00:00+01:00      1    52   \n",
      "2  SE1 2023-01-01 01:00:00+00:00 2023-01-01 02:00:00+01:00      1    52   \n",
      "3  SE1 2023-01-01 02:00:00+00:00 2023-01-01 03:00:00+01:00      1    52   \n",
      "4  SE1 2023-01-01 03:00:00+00:00 2023-01-01 04:00:00+01:00      1    52   \n",
      "\n",
      "   Weekday  HourOfTheDay  h  WindOnshore_MWh  \n",
      "0        6             0  1           1695.0  \n",
      "1        6             1  2           1710.0  \n",
      "2        6             2  3           1751.0  \n",
      "3        6             3  4           1731.0  \n",
      "4        6             4  5           1738.0  \n"
     ]
    }
   ],
   "source": [
    "df = pd.read_pickle('CleanedData/ActualWindOnshore_MWh_SE1SE2SE3SE4_2023')\n",
    "print(df.head())"
   ]
  },
  {
   "cell_type": "markdown",
   "metadata": {},
   "source": [
    "### Other type of Generation"
   ]
  },
  {
   "cell_type": "markdown",
   "metadata": {},
   "source": [
    "**2022**"
   ]
  },
  {
   "cell_type": "code",
   "execution_count": 258,
   "metadata": {},
   "outputs": [],
   "source": [
    "year = 2022\n",
    "\n",
    "start_str, end_str = str(year)+'-01-01T00',str(year)+'-12-31T23', \n",
    "start_CET = pd.Timestamp(start_str,tz='Europe/Stockholm'); start_UTC = start_CET.tz_convert('UTC')\n",
    "end_CET = pd.Timestamp(end_str,tz='Europe/Stockholm'); end_UTC = end_CET.tz_convert('UTC')\n",
    "h_index = pd.Index(pd.date_range(start_CET,end_CET,freq='H'),name='HourCET/CEST')"
   ]
  },
  {
   "cell_type": "code",
   "execution_count": 259,
   "metadata": {},
   "outputs": [],
   "source": [
    "df_generation = pd.concat([\n",
    "    pd.concat([client.query_generation(Area[x], start=start_CET,end=end_CET, process_type='A01').rename_axis('HourCET/CEST').reindex(h_index).assign(g_E = x).set_index('g_E',append=True)['Other'].rename('Other_MWh') for x in g_area],axis=0),\n",
    "],axis=1).reset_index()"
   ]
  },
  {
   "cell_type": "code",
   "execution_count": 260,
   "metadata": {},
   "outputs": [],
   "source": [
    "df_generation['HourUTC'] = df_generation['HourCET/CEST'].dt.tz_convert('UTC')\n",
    "df_generation['HourOfTheDay'] = df_generation['HourCET/CEST'].dt.hour\n",
    "df_generation['Weekday'] = df_generation['HourCET/CEST'].dt.weekday \n",
    "df_generation['Week'] = df_generation['HourCET/CEST'].dt.isocalendar().week\n",
    "df_generation['Month'] = df_generation['HourCET/CEST'].dt.month\n",
    "df_generation['h'] = 1\n",
    "df_generation['h'] = df_generation.groupby('g_E')['h'].cumsum()\n",
    "df_generation['g_E'] = df_generation['g_E'].str.replace('_','')\n",
    "new_col_order = ['g_E','HourUTC','HourCET/CEST','Month','Week','Weekday','HourOfTheDay','h','Other_MWh']\n",
    "df_generation = df_generation[new_col_order].sort_values(['g_E','h']).reset_index(drop=True)"
   ]
  },
  {
   "cell_type": "code",
   "execution_count": 261,
   "metadata": {},
   "outputs": [],
   "source": [
    "file_path = os.path.join(data_dir,'Other_MWh_'+''.join(df_prices['g_E'].unique().tolist())+'_'+str(year))\n",
    "df_generation.to_pickle(file_path)"
   ]
  },
  {
   "cell_type": "code",
   "execution_count": 262,
   "metadata": {},
   "outputs": [
    {
     "name": "stdout",
     "output_type": "stream",
     "text": [
      "   g_E                   HourUTC              HourCET/CEST  Month  Week  \\\n",
      "0  SE1 2021-12-31 23:00:00+00:00 2022-01-01 00:00:00+01:00      1    52   \n",
      "1  SE1 2022-01-01 00:00:00+00:00 2022-01-01 01:00:00+01:00      1    52   \n",
      "2  SE1 2022-01-01 01:00:00+00:00 2022-01-01 02:00:00+01:00      1    52   \n",
      "3  SE1 2022-01-01 02:00:00+00:00 2022-01-01 03:00:00+01:00      1    52   \n",
      "4  SE1 2022-01-01 03:00:00+00:00 2022-01-01 04:00:00+01:00      1    52   \n",
      "\n",
      "   Weekday  HourOfTheDay  h  Other_MWh  \n",
      "0        5             0  1       37.0  \n",
      "1        5             1  2       37.0  \n",
      "2        5             2  3       37.0  \n",
      "3        5             3  4       39.0  \n",
      "4        5             4  5       39.0  \n"
     ]
    }
   ],
   "source": [
    "df = pd.read_pickle('CleanedData/Other_MWh_SE1SE2SE3SE4_2022')\n",
    "print(df.head())"
   ]
  },
  {
   "cell_type": "markdown",
   "metadata": {},
   "source": [
    "**2023**"
   ]
  },
  {
   "cell_type": "code",
   "execution_count": 263,
   "metadata": {},
   "outputs": [],
   "source": [
    "year = 2023\n",
    "\n",
    "start_str, end_str = str(year)+'-01-01T00',str(year)+'-11-30T23', \n",
    "start_CET = pd.Timestamp(start_str,tz='Europe/Stockholm'); start_UTC = start_CET.tz_convert('UTC')\n",
    "end_CET = pd.Timestamp(end_str,tz='Europe/Stockholm'); end_UTC = end_CET.tz_convert('UTC')\n",
    "h_index = pd.Index(pd.date_range(start_CET,end_CET,freq='H'),name='HourCET/CEST')"
   ]
  },
  {
   "cell_type": "code",
   "execution_count": 264,
   "metadata": {},
   "outputs": [],
   "source": [
    "df_generation = pd.concat([\n",
    "    pd.concat([client.query_generation(Area[x], start=start_CET,end=end_CET, process_type='A01').rename_axis('HourCET/CEST').reindex(h_index).assign(g_E = x).set_index('g_E',append=True)['Other'].rename('Other_MWh') for x in g_area],axis=0),\n",
    "],axis=1).reset_index()"
   ]
  },
  {
   "cell_type": "code",
   "execution_count": 265,
   "metadata": {},
   "outputs": [],
   "source": [
    "df_generation['HourUTC'] = df_generation['HourCET/CEST'].dt.tz_convert('UTC')\n",
    "df_generation['HourOfTheDay'] = df_generation['HourCET/CEST'].dt.hour\n",
    "df_generation['Weekday'] = df_generation['HourCET/CEST'].dt.weekday \n",
    "df_generation['Week'] = df_generation['HourCET/CEST'].dt.isocalendar().week\n",
    "df_generation['Month'] = df_generation['HourCET/CEST'].dt.month\n",
    "df_generation['h'] = 1\n",
    "df_generation['h'] = df_generation.groupby('g_E')['h'].cumsum()\n",
    "df_generation['g_E'] = df_generation['g_E'].str.replace('_','')\n",
    "new_col_order = ['g_E','HourUTC','HourCET/CEST','Month','Week','Weekday','HourOfTheDay','h','Other_MWh']\n",
    "df_generation = df_generation[new_col_order].sort_values(['g_E','h']).reset_index(drop=True)"
   ]
  },
  {
   "cell_type": "code",
   "execution_count": 266,
   "metadata": {},
   "outputs": [],
   "source": [
    "file_path = os.path.join(data_dir,'Other_MWh_'+''.join(df_prices['g_E'].unique().tolist())+'_'+str(year))\n",
    "df_generation.to_pickle(file_path)"
   ]
  },
  {
   "cell_type": "code",
   "execution_count": 267,
   "metadata": {},
   "outputs": [
    {
     "name": "stdout",
     "output_type": "stream",
     "text": [
      "   g_E                   HourUTC              HourCET/CEST  Month  Week  \\\n",
      "0  SE1 2022-12-31 23:00:00+00:00 2023-01-01 00:00:00+01:00      1    52   \n",
      "1  SE1 2023-01-01 00:00:00+00:00 2023-01-01 01:00:00+01:00      1    52   \n",
      "2  SE1 2023-01-01 01:00:00+00:00 2023-01-01 02:00:00+01:00      1    52   \n",
      "3  SE1 2023-01-01 02:00:00+00:00 2023-01-01 03:00:00+01:00      1    52   \n",
      "4  SE1 2023-01-01 03:00:00+00:00 2023-01-01 04:00:00+01:00      1    52   \n",
      "\n",
      "   Weekday  HourOfTheDay  h  Other_MWh  \n",
      "0        6             0  1       19.0  \n",
      "1        6             1  2       19.0  \n",
      "2        6             2  3       20.0  \n",
      "3        6             3  4       20.0  \n",
      "4        6             4  5       20.0  \n"
     ]
    }
   ],
   "source": [
    "df = pd.read_pickle('CleanedData/Other_MWh_SE1SE2SE3SE4_2023')\n",
    "print(df.head())"
   ]
  }
 ],
 "metadata": {
  "kernelspec": {
   "display_name": "base",
   "language": "python",
   "name": "python3"
  },
  "language_info": {
   "codemirror_mode": {
    "name": "ipython",
    "version": 3
   },
   "file_extension": ".py",
   "mimetype": "text/x-python",
   "name": "python",
   "nbconvert_exporter": "python",
   "pygments_lexer": "ipython3",
   "version": "3.9.16"
  }
 },
 "nbformat": 4,
 "nbformat_minor": 2
}
