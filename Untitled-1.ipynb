{
 "cells": [
  {
   "cell_type": "markdown",
   "metadata": {},
   "source": [
    "**variable lado izquierdo:** hourly DAM prices for different zones (SE1,SE2,SE3,SE4)\n",
    "\n",
    "**Variables lado derecho:**\n",
    "**GAS VARIABLES**\n",
    "**X1** = Natural Gas price (the daily Henry Hub, is publishedby the U.S. Department ofEnergy’s Energy Information Agency)\n",
    "\n",
    "**NUCLEAR VARIABLES**\n",
    "**X2** = Daily Nuclear MW available **X3** = Daily Nuclear MW available (other plant)\n",
    "\n",
    "**HYDRO VARIABLES**\n",
    "**X4** = daily California hydro index **X5** = Hourly discharge from hydro stations **X6** = Hourly discharge from hydro stations (different station)\n",
    "\n",
    "**Demand related variables**\n",
    "**X7** = Hourly actual system MWh loads **F7** = The forecast for the load **X8** = Same but for other area **F8** = Same but for other area\n",
    "\n",
    "**Renweable energy**\n",
    "**X9** = Hourly actual solar MWh **F9** = His forecast **X10** = Hourly actual wind MWh **F10** = His forecast\n",
    "\n",
    "**For othear areas the same for solar and wind** (X11,F11,X12,F12)"
   ]
  }
 ],
 "metadata": {
  "language_info": {
   "name": "python"
  }
 },
 "nbformat": 4,
 "nbformat_minor": 2
}
