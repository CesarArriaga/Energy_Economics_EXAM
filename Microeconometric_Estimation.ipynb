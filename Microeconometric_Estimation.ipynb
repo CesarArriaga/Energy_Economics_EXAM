{
 "cells": [
  {
   "cell_type": "markdown",
   "metadata": {},
   "source": [
    "# **Estimate the day-ahead merit-order effect of renewable energy for Sweden**"
   ]
  },
  {
   "cell_type": "markdown",
   "metadata": {},
   "source": [
    "#### **Setting Libraries**"
   ]
  },
  {
   "cell_type": "code",
   "execution_count": 1,
   "metadata": {},
   "outputs": [
    {
     "name": "stdout",
     "output_type": "stream",
     "text": [
      "Requirement already satisfied: statsmodels in /Users/rodrigovillegasgomez/opt/anaconda3/lib/python3.9/site-packages (0.14.1)\n",
      "Requirement already satisfied: numpy<2,>=1.18 in /Users/rodrigovillegasgomez/opt/anaconda3/lib/python3.9/site-packages (from statsmodels) (1.23.5)\n",
      "Requirement already satisfied: scipy!=1.9.2,>=1.4 in /Users/rodrigovillegasgomez/opt/anaconda3/lib/python3.9/site-packages (from statsmodels) (1.11.1)\n",
      "Requirement already satisfied: pandas!=2.1.0,>=1.0 in /Users/rodrigovillegasgomez/opt/anaconda3/lib/python3.9/site-packages (from statsmodels) (2.1.4)\n",
      "Requirement already satisfied: patsy>=0.5.4 in /Users/rodrigovillegasgomez/opt/anaconda3/lib/python3.9/site-packages (from statsmodels) (0.5.4)\n",
      "Requirement already satisfied: packaging>=21.3 in /Users/rodrigovillegasgomez/opt/anaconda3/lib/python3.9/site-packages (from statsmodels) (23.0)\n",
      "Requirement already satisfied: python-dateutil>=2.8.2 in /Users/rodrigovillegasgomez/opt/anaconda3/lib/python3.9/site-packages (from pandas!=2.1.0,>=1.0->statsmodels) (2.8.2)\n",
      "Requirement already satisfied: pytz>=2020.1 in /Users/rodrigovillegasgomez/opt/anaconda3/lib/python3.9/site-packages (from pandas!=2.1.0,>=1.0->statsmodels) (2022.7)\n",
      "Requirement already satisfied: tzdata>=2022.1 in /Users/rodrigovillegasgomez/opt/anaconda3/lib/python3.9/site-packages (from pandas!=2.1.0,>=1.0->statsmodels) (2023.3)\n",
      "Requirement already satisfied: six in /Users/rodrigovillegasgomez/opt/anaconda3/lib/python3.9/site-packages (from patsy>=0.5.4->statsmodels) (1.16.0)\n",
      "Note: you may need to restart the kernel to use updated packages.\n"
     ]
    }
   ],
   "source": [
    "pip install statsmodels --upgrade --pre"
   ]
  },
  {
   "cell_type": "code",
   "execution_count": 2,
   "metadata": {},
   "outputs": [],
   "source": [
    "import re\n",
    "import numpy as np\n",
    "import pandas as pd\n",
    "import seaborn as sns\n",
    "import statsmodels.api as sm\n",
    "import matplotlib.pyplot as plt\n",
    "import statsmodels.tsa.api as smt"
   ]
  },
  {
   "cell_type": "markdown",
   "metadata": {},
   "source": [
    "#### **Loading the data**"
   ]
  },
  {
   "cell_type": "code",
   "execution_count": 3,
   "metadata": {},
   "outputs": [],
   "source": [
    "# Load the pre_panel dataframe\n",
    "pre_panel = pd.read_csv('pre_panel.csv')\n",
    "\n",
    "# Sorting by 'entity' and 'time' in descending order\n",
    "pre_panel = pre_panel.sort_values(by=['subject_id', 'date'], ascending=[True, True])\n",
    "\n",
    "# Convert the date column to datetime format\n",
    "pre_panel['date'] = pd.to_datetime(pre_panel['date'], utc=True, format='%Y-%m-%d %H:%M:%S')"
   ]
  },
  {
   "cell_type": "markdown",
   "metadata": {},
   "source": [
    "#### **Cleaning Database and Creating Dummy and First Difference Variables**"
   ]
  },
  {
   "cell_type": "code",
   "execution_count": 4,
   "metadata": {},
   "outputs": [],
   "source": [
    "# Rename 'subject_id' to 'entity' and 'date' to 'time'\n",
    "pre_panel = pre_panel.rename(columns={'subject_id': 'zona', 'date': 'fecha'})\n",
    "\n",
    "# Create 'dum_ss' and 'dum_aw'\n",
    "pre_panel['dum_ss'] = pre_panel['mes'].isin([3, 4, 5, 6, 7, 8]).astype(int)\n",
    "pre_panel['dum_aw'] = pre_panel['mes'].isin([9, 10, 11, 12, 1, 2]).astype(int)\n",
    "\n",
    "# Create 'dum_wd' and 'dum_we'\n",
    "pre_panel['dum_wd'] = pre_panel['wd'].isin([1, 2, 3, 4]).astype(int)\n",
    "pre_panel['dum_we'] = pre_panel['wd'].isin([5, 6, 7]).astype(int)\n",
    "\n",
    "for col in ['hydro', 'solar', 'wind', 'other', 'load_var']:\n",
    "    # Calculate the first difference of each variable and add it as a new column in the DataFrame\n",
    "    pre_panel[col + '_diff'] = pre_panel[col] - pre_panel[col].shift(periods=168)"
   ]
  },
  {
   "cell_type": "markdown",
   "metadata": {},
   "source": [
    "#### **Creating the Panel**"
   ]
  },
  {
   "cell_type": "code",
   "execution_count": 5,
   "metadata": {},
   "outputs": [
    {
     "name": "stdout",
     "output_type": "stream",
     "text": [
      "Columns with missing values:\n",
      "load_a             8\n",
      "hydro             16\n",
      "solar            192\n",
      "wind             192\n",
      "other             16\n",
      "load_var           8\n",
      "hydro_diff        32\n",
      "solar_diff       201\n",
      "wind_diff        201\n",
      "other_diff        32\n",
      "load_var_diff     16\n",
      "dtype: int64\n"
     ]
    }
   ],
   "source": [
    "# Create a definite Pane\n",
    "panel = pre_panel\n",
    "# Check for missing values in pre_panel\n",
    "missing_values = panel.isnull().sum()\n",
    "# Display the columns with missing values, if any\n",
    "print(\"Columns with missing values:\")\n",
    "print(missing_values[missing_values > 0])"
   ]
  },
  {
   "cell_type": "code",
   "execution_count": null,
   "metadata": {},
   "outputs": [],
   "source": [
    "# Dropping Missing Values\n",
    "panel = panel.dropna()\n",
    "# Rename 'subject_id' to 'entity' and 'date' to 'time'\n",
    "panel = panel.rename(columns={'zona': 'id', 'fecha': 'time'})\n",
    "# Generating External Index\n",
    "time_index = pd.Index(pre_panel['fecha'])\n",
    "entity_index = pd.Index(pre_panel['zona'])"
   ]
  },
  {
   "cell_type": "code",
   "execution_count": 6,
   "metadata": {},
   "outputs": [],
   "source": [
    "# Seting Multindex\n",
    "panel.set_index(['time','id'], inplace=True)"
   ]
  },
  {
   "cell_type": "markdown",
   "metadata": {},
   "source": [
    "## **Descriptive Statistics**"
   ]
  },
  {
   "cell_type": "markdown",
   "metadata": {},
   "source": [
    "#### **Summary Statistics**"
   ]
  },
  {
   "cell_type": "code",
   "execution_count": 19,
   "metadata": {},
   "outputs": [
    {
     "name": "stdout",
     "output_type": "stream",
     "text": [
      "                 Mean      Std Dev      Min     25%   Median      75%      Max\n",
      "price       74.815475    93.170488   -60.04   17.26    41.01    95.59   799.97\n",
      "hydro     1919.544068  1690.137853     6.00  297.00  1433.00  3152.00  6577.00\n",
      "solar       31.841635    85.078865     0.00    0.00     0.00    10.00   745.00\n",
      "wind       960.981419   873.203355     3.00  313.00   716.00  1331.00  7017.00\n",
      "other      222.396242   275.562723     0.00   41.00   126.00   255.00  1463.00\n",
      "load_var    46.064608   234.257160 -6441.00  -76.00    37.00   162.00  1734.00\n"
     ]
    }
   ],
   "source": [
    "# Assuming 'pre_panel' is your DataFrame\n",
    "vars = ['price', 'hydro', 'solar', 'wind', 'other', 'load_var']\n",
    "\n",
    "# Calculate mean, standard deviation, min, 25%, 50%, 75%, and max\n",
    "mean_values = panel[vars].apply(np.mean)\n",
    "std_dev_values =panel[vars].apply(np.std)\n",
    "min_values = panel[vars].min()\n",
    "q25_values = panel[vars].quantile(0.25)\n",
    "median_values = panel[vars].median()\n",
    "q75_values = panel[vars].quantile(0.75)\n",
    "max_values = panel[vars].max()\n",
    "\n",
    "# Create a DataFrame to display the summary statistics\n",
    "summary_stats = pd.DataFrame({\n",
    "    'Mean': mean_values,\n",
    "    'Std Dev': std_dev_values,\n",
    "    'Min': min_values,\n",
    "    '25%': q25_values,\n",
    "    'Median': median_values,\n",
    "    '75%': q75_values,\n",
    "    'Max': max_values\n",
    "})\n",
    "\n",
    "print(summary_stats)"
   ]
  },
  {
   "cell_type": "markdown",
   "metadata": {},
   "source": [
    "#### **Correlation Matrix**"
   ]
  },
  {
   "cell_type": "code",
   "execution_count": 20,
   "metadata": {},
   "outputs": [
    {
     "name": "stdout",
     "output_type": "stream",
     "text": [
      "             price     hydro     solar      wind     other  load_var\n",
      "price     1.000000 -0.116484  0.053038 -0.309823  0.299406 -0.072351\n",
      "hydro    -0.116484  1.000000 -0.240234  0.173884 -0.243385  0.062293\n",
      "solar     0.053038 -0.240234  1.000000 -0.147080  0.151170  0.048625\n",
      "wind     -0.309823  0.173884 -0.147080  1.000000  0.038889  0.150827\n",
      "other     0.299406 -0.243385  0.151170  0.038889  1.000000 -0.024736\n",
      "load_var -0.072351  0.062293  0.048625  0.150827 -0.024736  1.000000\n"
     ]
    }
   ],
   "source": [
    "correlation_matrix = panel[['price', 'hydro', 'solar', 'wind', 'other', 'load_var']].corr()\n",
    "print(correlation_matrix)"
   ]
  },
  {
   "cell_type": "markdown",
   "metadata": {},
   "source": [
    "#### **Scatter Plott**"
   ]
  },
  {
   "cell_type": "code",
   "execution_count": 24,
   "metadata": {},
   "outputs": [
    {
     "name": "stdout",
     "output_type": "stream",
     "text": [
      "                            OLS Regression Results                            \n",
      "==============================================================================\n",
      "Dep. Variable:                  price   R-squared:                       0.195\n",
      "Model:                            OLS   Adj. R-squared:                  0.195\n",
      "Method:                 Least Squares   F-statistic:                     3245.\n",
      "Date:                Mon, 18 Dec 2023   Prob (F-statistic):               0.00\n",
      "Time:                        22:22:09   Log-Likelihood:            -3.9099e+05\n",
      "No. Observations:               66896   AIC:                         7.820e+05\n",
      "Df Residuals:                   66890   BIC:                         7.821e+05\n",
      "Df Model:                           5                                         \n",
      "Covariance Type:            nonrobust                                         \n",
      "==============================================================================\n",
      "                 coef    std err          t      P>|t|      [0.025      0.975]\n",
      "------------------------------------------------------------------------------\n",
      "intercept     85.0042      0.698    121.856      0.000      83.637      86.371\n",
      "load_var      -0.0054      0.001     -3.857      0.000      -0.008      -0.003\n",
      "hydro          0.0005      0.000      2.576      0.010       0.000       0.001\n",
      "solar         -0.0445      0.004    -11.197      0.000      -0.052      -0.037\n",
      "wind          -0.0350      0.000    -90.993      0.000      -0.036      -0.034\n",
      "other          0.1083      0.001     88.662      0.000       0.106       0.111\n",
      "==============================================================================\n",
      "Omnibus:                    38644.110   Durbin-Watson:                   0.087\n",
      "Prob(Omnibus):                  0.000   Jarque-Bera (JB):           372238.961\n",
      "Skew:                           2.671   Prob(JB):                         0.00\n",
      "Kurtosis:                      13.247   Cond. No.                     5.85e+03\n",
      "==============================================================================\n",
      "\n",
      "Notes:\n",
      "[1] Standard Errors assume that the covariance matrix of the errors is correctly specified.\n",
      "[2] The condition number is large, 5.85e+03. This might indicate that there are\n",
      "strong multicollinearity or other numerical problems.\n"
     ]
    }
   ],
   "source": [
    "panel['intercept'] = 1\n",
    "\n",
    "# Estimate the two-way fixed effect model\n",
    "model = sm.OLS(panel['price'], panel[['intercept', 'load_var', 'hydro', 'solar', 'wind', 'other']])\n",
    "results = model.fit(index=time_index, groups=entity_index, use_demeaned=True)\n",
    "\n",
    "# Print the results\n",
    "print(results.summary())"
   ]
  },
  {
   "cell_type": "code",
   "execution_count": 35,
   "metadata": {},
   "outputs": [
    {
     "name": "stdout",
     "output_type": "stream",
     "text": [
      "Fixed Effects Model:\n",
      "                            OLS Regression Results                            \n",
      "==============================================================================\n",
      "Dep. Variable:                  price   R-squared:                       0.195\n",
      "Model:                            OLS   Adj. R-squared:                  0.195\n",
      "Method:                 Least Squares   F-statistic:                     3245.\n",
      "Date:                Tue, 19 Dec 2023   Prob (F-statistic):               0.00\n",
      "Time:                        00:34:59   Log-Likelihood:            -3.9099e+05\n",
      "No. Observations:               66896   AIC:                         7.820e+05\n",
      "Df Residuals:                   66890   BIC:                         7.821e+05\n",
      "Df Model:                           5                                         \n",
      "Covariance Type:            nonrobust                                         \n",
      "==============================================================================\n",
      "                 coef    std err          t      P>|t|      [0.025      0.975]\n",
      "------------------------------------------------------------------------------\n",
      "intercept     85.0042      0.698    121.856      0.000      83.637      86.371\n",
      "load_var      -0.0054      0.001     -3.857      0.000      -0.008      -0.003\n",
      "hydro          0.0005      0.000      2.576      0.010       0.000       0.001\n",
      "solar         -0.0445      0.004    -11.197      0.000      -0.052      -0.037\n",
      "wind          -0.0350      0.000    -90.993      0.000      -0.036      -0.034\n",
      "other          0.1083      0.001     88.662      0.000       0.106       0.111\n",
      "==============================================================================\n",
      "Omnibus:                    38644.110   Durbin-Watson:                   0.087\n",
      "Prob(Omnibus):                  0.000   Jarque-Bera (JB):           372238.961\n",
      "Skew:                           2.671   Prob(JB):                         0.00\n",
      "Kurtosis:                      13.247   Cond. No.                     5.85e+03\n",
      "==============================================================================\n",
      "\n",
      "Notes:\n",
      "[1] Standard Errors assume that the covariance matrix of the errors is correctly specified.\n",
      "[2] The condition number is large, 5.85e+03. This might indicate that there are\n",
      "strong multicollinearity or other numerical problems.\n"
     ]
    }
   ],
   "source": [
    "# Fixed effects model with entity and time effects\n",
    "sm.OLS(panel['price'], panel[['load_var', 'hydro', 'solar', 'wind', 'other']])\n",
    "FE_results = model.fit(index=time_index, groups=entity_index)\n",
    "print('Fixed Effects Model:')\n",
    "print(FE_results.summary())"
   ]
  }
 ],
 "metadata": {
  "kernelspec": {
   "display_name": "base",
   "language": "python",
   "name": "python3"
  },
  "language_info": {
   "codemirror_mode": {
    "name": "ipython",
    "version": 3
   },
   "file_extension": ".py",
   "mimetype": "text/x-python",
   "name": "python",
   "nbconvert_exporter": "python",
   "pygments_lexer": "ipython3",
   "version": "3.9.13"
  }
 },
 "nbformat": 4,
 "nbformat_minor": 2
}
