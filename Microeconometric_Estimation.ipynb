{
 "cells": [
  {
   "cell_type": "markdown",
   "metadata": {},
   "source": [
    "# **Estimate the day-ahead merit-order effect of renewable energy for Sweden**"
   ]
  },
  {
   "cell_type": "markdown",
   "metadata": {},
   "source": [
    "#### **Setting Libraries**"
   ]
  },
  {
   "cell_type": "code",
   "execution_count": 31,
   "metadata": {},
   "outputs": [
    {
     "name": "stdout",
     "output_type": "stream",
     "text": [
      "\u001b[31mERROR: Could not find a version that satisfies the requirement re (from versions: none)\u001b[0m\u001b[31m\n",
      "\u001b[0m\u001b[31mERROR: No matching distribution found for re\u001b[0m\u001b[31m\n",
      "\u001b[0mCollecting pandas\n",
      "  Downloading pandas-2.1.4-cp39-cp39-macosx_10_9_x86_64.whl.metadata (18 kB)\n",
      "Requirement already satisfied: numpy<2,>=1.22.4 in /Users/rodrigovillegasgomez/opt/anaconda3/lib/python3.9/site-packages (from pandas) (1.23.5)\n",
      "Requirement already satisfied: python-dateutil>=2.8.2 in /Users/rodrigovillegasgomez/opt/anaconda3/lib/python3.9/site-packages (from pandas) (2.8.2)\n",
      "Requirement already satisfied: pytz>=2020.1 in /Users/rodrigovillegasgomez/opt/anaconda3/lib/python3.9/site-packages (from pandas) (2022.7)\n",
      "Collecting tzdata>=2022.1 (from pandas)\n",
      "  Downloading tzdata-2023.3-py2.py3-none-any.whl (341 kB)\n",
      "\u001b[2K     \u001b[90m━━━━━━━━━━━━━━━━━━━━━━━━━━━━━━━━━━━━━━━\u001b[0m \u001b[32m341.8/341.8 kB\u001b[0m \u001b[31m5.5 MB/s\u001b[0m eta \u001b[36m0:00:00\u001b[0m00:01\u001b[0m\n",
      "\u001b[?25hRequirement already satisfied: six>=1.5 in /Users/rodrigovillegasgomez/opt/anaconda3/lib/python3.9/site-packages (from python-dateutil>=2.8.2->pandas) (1.16.0)\n",
      "Downloading pandas-2.1.4-cp39-cp39-macosx_10_9_x86_64.whl (11.8 MB)\n",
      "\u001b[2K   \u001b[90m━━━━━━━━━━━━━━━━━━━━━━━━━━━━━━━━━━━━━━━━\u001b[0m \u001b[32m11.8/11.8 MB\u001b[0m \u001b[31m12.5 MB/s\u001b[0m eta \u001b[36m0:00:00\u001b[0m00:01\u001b[0m00:01\u001b[0m\n",
      "\u001b[?25hInstalling collected packages: tzdata, pandas\n",
      "Successfully installed pandas-2.1.4 tzdata-2023.3\n"
     ]
    }
   ],
   "source": [
    "!pip install re; pip install pandas"
   ]
  },
  {
   "cell_type": "code",
   "execution_count": 32,
   "metadata": {},
   "outputs": [],
   "source": [
    "import re\n",
    "import numpy as np\n",
    "import pandas as pd\n",
    "import statsmodels.api as sm"
   ]
  },
  {
   "cell_type": "markdown",
   "metadata": {},
   "source": [
    "#### **Loading the data**"
   ]
  },
  {
   "cell_type": "code",
   "execution_count": 33,
   "metadata": {},
   "outputs": [],
   "source": [
    "# Load the pre_panel dataframe\n",
    "pre_panel = pd.read_csv('pre_panel.csv')\n",
    "\n",
    "# Sorting by 'entity' and 'time' in descending order\n",
    "pre_panel = pre_panel.sort_values(by=['subject_id', 'date'], ascending=[True, True])\n",
    "\n",
    "# Convert the date column to datetime format\n",
    "pre_panel['date'] = pd.to_datetime(pre_panel['date'], format='%Y-%m-%d %H:%M:%S')"
   ]
  },
  {
   "cell_type": "markdown",
   "metadata": {},
   "source": [
    "#### **Cleaning and fixing data**"
   ]
  },
  {
   "cell_type": "code",
   "execution_count": 34,
   "metadata": {},
   "outputs": [],
   "source": [
    "# Rename 'subject_id' to 'entity' and 'date' to 'time'\n",
    "pre_panel = pre_panel.rename(columns={'subject_id': 'zona', 'date': 'fecha'})\n",
    "\n",
    "# Create 'dum_ss' and 'dum_aw'\n",
    "pre_panel['dum_ss'] = pre_panel['mes'].isin([3, 4, 5, 6, 7, 8]).astype(int)\n",
    "pre_panel['dum_aw'] = pre_panel['mes'].isin([9, 10, 11, 12, 1, 2]).astype(int)\n",
    "\n",
    "# Create 'dum_wd' and 'dum_we'\n",
    "pre_panel['dum_wd'] = pre_panel['wd'].isin([1, 2, 3, 4]).astype(int)\n",
    "pre_panel['dum_we'] = pre_panel['wd'].isin([5, 6, 7]).astype(int)"
   ]
  },
  {
   "cell_type": "markdown",
   "metadata": {},
   "source": [
    "#### **Creating the Variables**"
   ]
  },
  {
   "cell_type": "code",
   "execution_count": 35,
   "metadata": {},
   "outputs": [],
   "source": [
    "# Create the dependent variable and independent variables\n",
    "price = pre_panel['price']\n",
    "load_var = pre_panel['load_var']\n",
    "hydro = pre_panel['hydro']\n",
    "solar = pre_panel['solar']\n",
    "wind = pre_panel['wind']\n",
    "other = pre_panel['other']\n",
    "dum_ss = pre_panel['dum_ss']\n",
    "dum_aw = pre_panel['dum_aw']\n",
    "dum_wd = pre_panel['dum_wd']\n",
    "dum_we = pre_panel['dum_we']"
   ]
  },
  {
   "cell_type": "markdown",
   "metadata": {},
   "source": [
    "#### **Setting the Index**"
   ]
  },
  {
   "cell_type": "code",
   "execution_count": 38,
   "metadata": {},
   "outputs": [
    {
     "ename": "",
     "evalue": "",
     "output_type": "error",
     "traceback": [
      "\u001b[1;31mThe Kernel crashed while executing code in the the current cell or a previous cell. Please review the code in the cell(s) to identify a possible cause of the failure. Click <a href='https://aka.ms/vscodeJupyterKernelCrash'>here</a> for more info. View Jupyter <a href='command:jupyter.viewOutput'>log</a> for further details."
     ]
    }
   ],
   "source": [
    "# Create the 'date' and 'subject_id' indices\n",
    "time_index = pd.Index(pre_panel['fecha'])\n",
    "entity_index = pd.Index(pre_panel['zona'])\n",
    "multi_index = pd.MultiIndex.from_tuples([(time, id) for time in time_index for id in entity_index])"
   ]
  },
  {
   "cell_type": "markdown",
   "metadata": {},
   "source": [
    "#### **Creating the Panel**"
   ]
  },
  {
   "cell_type": "code",
   "execution_count": 37,
   "metadata": {},
   "outputs": [
    {
     "ename": "AttributeError",
     "evalue": "module 'pandas' has no attribute 'Panel'",
     "output_type": "error",
     "traceback": [
      "\u001b[0;31m---------------------------------------------------------------------------\u001b[0m",
      "\u001b[0;31mAttributeError\u001b[0m                            Traceback (most recent call last)",
      "Cell \u001b[0;32mIn[37], line 2\u001b[0m\n\u001b[1;32m      1\u001b[0m \u001b[38;5;66;03m# Create a panel object\u001b[39;00m\n\u001b[0;32m----> 2\u001b[0m panel \u001b[38;5;241m=\u001b[39m \u001b[43mpd\u001b[49m\u001b[38;5;241;43m.\u001b[39;49m\u001b[43mPanel\u001b[49m(data\u001b[38;5;241m=\u001b[39m{\u001b[38;5;124m'\u001b[39m\u001b[38;5;124mprice\u001b[39m\u001b[38;5;124m'\u001b[39m: price, \u001b[38;5;124m'\u001b[39m\u001b[38;5;124mload_var\u001b[39m\u001b[38;5;124m'\u001b[39m: load_var, \u001b[38;5;124m'\u001b[39m\u001b[38;5;124mhydro\u001b[39m\u001b[38;5;124m'\u001b[39m: hydro, \u001b[38;5;124m'\u001b[39m\u001b[38;5;124msolar\u001b[39m\u001b[38;5;124m'\u001b[39m: solar, \u001b[38;5;124m'\u001b[39m\u001b[38;5;124mwind\u001b[39m\u001b[38;5;124m'\u001b[39m: wind, \u001b[38;5;124m'\u001b[39m\u001b[38;5;124mother\u001b[39m\u001b[38;5;124m'\u001b[39m: other, \u001b[38;5;124m'\u001b[39m\u001b[38;5;124mdum_ss\u001b[39m\u001b[38;5;124m'\u001b[39m: dum_ss, \u001b[38;5;124m'\u001b[39m\u001b[38;5;124mdum_aw\u001b[39m\u001b[38;5;124m'\u001b[39m: dum_aw, \u001b[38;5;124m'\u001b[39m\u001b[38;5;124mdum_wd\u001b[39m\u001b[38;5;124m'\u001b[39m: dum_wd, \u001b[38;5;124m'\u001b[39m\u001b[38;5;124mdum_we\u001b[39m\u001b[38;5;124m'\u001b[39m: dum_we},\n\u001b[1;32m      3\u001b[0m                  index\u001b[38;5;241m=\u001b[39mpd\u001b[38;5;241m.\u001b[39mMultiIndex\u001b[38;5;241m.\u001b[39mfrom_tuples([(time, \u001b[38;5;28mid\u001b[39m) \u001b[38;5;28;01mfor\u001b[39;00m time \u001b[38;5;129;01min\u001b[39;00m time_index \u001b[38;5;28;01mfor\u001b[39;00m \u001b[38;5;28mid\u001b[39m \u001b[38;5;129;01min\u001b[39;00m entity_index]))\n",
      "File \u001b[0;32m~/opt/anaconda3/lib/python3.9/site-packages/pandas/__init__.py:261\u001b[0m, in \u001b[0;36m__getattr__\u001b[0;34m(name)\u001b[0m\n\u001b[1;32m    257\u001b[0m     \u001b[38;5;28;01mfrom\u001b[39;00m \u001b[38;5;21;01mpandas\u001b[39;00m\u001b[38;5;21;01m.\u001b[39;00m\u001b[38;5;21;01mcore\u001b[39;00m\u001b[38;5;21;01m.\u001b[39;00m\u001b[38;5;21;01marrays\u001b[39;00m\u001b[38;5;21;01m.\u001b[39;00m\u001b[38;5;21;01msparse\u001b[39;00m \u001b[38;5;28;01mimport\u001b[39;00m SparseArray \u001b[38;5;28;01mas\u001b[39;00m _SparseArray\n\u001b[1;32m    259\u001b[0m     \u001b[38;5;28;01mreturn\u001b[39;00m _SparseArray\n\u001b[0;32m--> 261\u001b[0m \u001b[38;5;28;01mraise\u001b[39;00m \u001b[38;5;167;01mAttributeError\u001b[39;00m(\u001b[38;5;124mf\u001b[39m\u001b[38;5;124m\"\u001b[39m\u001b[38;5;124mmodule \u001b[39m\u001b[38;5;124m'\u001b[39m\u001b[38;5;124mpandas\u001b[39m\u001b[38;5;124m'\u001b[39m\u001b[38;5;124m has no attribute \u001b[39m\u001b[38;5;124m'\u001b[39m\u001b[38;5;132;01m{\u001b[39;00mname\u001b[38;5;132;01m}\u001b[39;00m\u001b[38;5;124m'\u001b[39m\u001b[38;5;124m\"\u001b[39m)\n",
      "\u001b[0;31mAttributeError\u001b[0m: module 'pandas' has no attribute 'Panel'"
     ]
    }
   ],
   "source": [
    "# Create a DataFrame with the data and multi-index\n",
    "panel = pd.DataFrame({\n",
    "    'price': pre_panel['price'],\n",
    "    'load_var': pre_panel['load_var'],\n",
    "    'hydro': pre_panel['hydro'],\n",
    "    'solar': pre_panel['solar'],\n",
    "    'wind': pre_panel['wind'],\n",
    "    'other': pre_panel['other'],\n",
    "    'dum_ss': pre_panel['dum_ss'],\n",
    "    'dum_aw': pre_panel['dum_aw'],\n",
    "    'dum_wd': pre_panel['dum_wd'],\n",
    "    'dum_we': pre_panel['dum_we']\n",
    "}, index=multi_index)"
   ]
  },
  {
   "cell_type": "code",
   "execution_count": null,
   "metadata": {},
   "outputs": [],
   "source": []
  },
  {
   "cell_type": "markdown",
   "metadata": {},
   "source": [
    "## **Descriptive Statistics**"
   ]
  },
  {
   "cell_type": "code",
   "execution_count": null,
   "metadata": {},
   "outputs": [],
   "source": []
  }
 ],
 "metadata": {
  "kernelspec": {
   "display_name": "base",
   "language": "python",
   "name": "python3"
  },
  "language_info": {
   "codemirror_mode": {
    "name": "ipython",
    "version": 3
   },
   "file_extension": ".py",
   "mimetype": "text/x-python",
   "name": "python",
   "nbconvert_exporter": "python",
   "pygments_lexer": "ipython3",
   "version": "3.9.13"
  }
 },
 "nbformat": 4,
 "nbformat_minor": 2
}
