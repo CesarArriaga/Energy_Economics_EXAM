{
 "cells": [
  {
   "cell_type": "markdown",
   "metadata": {},
   "source": [
    "# **Estimate the day-ahead merit-order effect of renewable energy for Sweden**"
   ]
  },
  {
   "cell_type": "markdown",
   "metadata": {},
   "source": [
    "#### **Setting Libraries**"
   ]
  },
  {
   "cell_type": "code",
   "execution_count": 1,
   "metadata": {},
   "outputs": [
    {
     "name": "stdout",
     "output_type": "stream",
     "text": [
      "Requirement already satisfied: statsmodels in /Users/rodrigovillegasgomez/opt/anaconda3/lib/python3.9/site-packages (0.14.1)\n",
      "Requirement already satisfied: numpy<2,>=1.18 in /Users/rodrigovillegasgomez/opt/anaconda3/lib/python3.9/site-packages (from statsmodels) (1.23.5)\n",
      "Requirement already satisfied: scipy!=1.9.2,>=1.4 in /Users/rodrigovillegasgomez/opt/anaconda3/lib/python3.9/site-packages (from statsmodels) (1.11.1)\n",
      "Requirement already satisfied: pandas!=2.1.0,>=1.0 in /Users/rodrigovillegasgomez/opt/anaconda3/lib/python3.9/site-packages (from statsmodels) (2.1.4)\n",
      "Requirement already satisfied: patsy>=0.5.4 in /Users/rodrigovillegasgomez/opt/anaconda3/lib/python3.9/site-packages (from statsmodels) (0.5.4)\n",
      "Requirement already satisfied: packaging>=21.3 in /Users/rodrigovillegasgomez/opt/anaconda3/lib/python3.9/site-packages (from statsmodels) (23.0)\n",
      "Requirement already satisfied: python-dateutil>=2.8.2 in /Users/rodrigovillegasgomez/opt/anaconda3/lib/python3.9/site-packages (from pandas!=2.1.0,>=1.0->statsmodels) (2.8.2)\n",
      "Requirement already satisfied: pytz>=2020.1 in /Users/rodrigovillegasgomez/opt/anaconda3/lib/python3.9/site-packages (from pandas!=2.1.0,>=1.0->statsmodels) (2022.7)\n",
      "Requirement already satisfied: tzdata>=2022.1 in /Users/rodrigovillegasgomez/opt/anaconda3/lib/python3.9/site-packages (from pandas!=2.1.0,>=1.0->statsmodels) (2023.3)\n",
      "Requirement already satisfied: six in /Users/rodrigovillegasgomez/opt/anaconda3/lib/python3.9/site-packages (from patsy>=0.5.4->statsmodels) (1.16.0)\n",
      "Note: you may need to restart the kernel to use updated packages.\n"
     ]
    }
   ],
   "source": [
    "pip install statsmodels --upgrade --pre"
   ]
  },
  {
   "cell_type": "code",
   "execution_count": 22,
   "metadata": {},
   "outputs": [],
   "source": [
    "import re\n",
    "import numpy as np\n",
    "import pandas as pd\n",
    "import seaborn as sns\n",
    "import statsmodels.api as sm\n",
    "import matplotlib.pyplot as plt\n",
    "import statsmodels.tsa.api as smt"
   ]
  },
  {
   "cell_type": "markdown",
   "metadata": {},
   "source": [
    "#### **Loading the data**"
   ]
  },
  {
   "cell_type": "code",
   "execution_count": 23,
   "metadata": {},
   "outputs": [],
   "source": [
    "# Load the pre_panel dataframe\n",
    "pre_panel = pd.read_csv('pre_panel.csv')\n",
    "\n",
    "# Sorting by 'entity' and 'time' in descending order\n",
    "pre_panel = pre_panel.sort_values(by=['subject_id', 'date'], ascending=[True, True])\n",
    "\n",
    "# Convert the date column to datetime format\n",
    "pre_panel['date'] = pd.to_datetime(pre_panel['date'], utc=True, format='%Y-%m-%d %H:%M:%S')"
   ]
  },
  {
   "cell_type": "markdown",
   "metadata": {},
   "source": [
    "#### **Cleaning Database and Creating Dummy and First Difference Variables**"
   ]
  },
  {
   "cell_type": "code",
   "execution_count": 24,
   "metadata": {},
   "outputs": [],
   "source": [
    "# Rename 'subject_id' to 'entity' and 'date' to 'time'\n",
    "pre_panel = pre_panel.rename(columns={'subject_id': 'zona', 'date': 'fecha'})\n",
    "\n",
    "# Create 'dum_ss' and 'dum_aw'\n",
    "pre_panel['dum_ss'] = pre_panel['mes'].isin([3, 4, 5, 6, 7, 8]).astype(int)\n",
    "pre_panel['dum_aw'] = pre_panel['mes'].isin([9, 10, 11, 12, 1, 2]).astype(int)\n",
    "\n",
    "# Create 'dum_wd' and 'dum_we'\n",
    "pre_panel['dum_wd'] = pre_panel['wd'].isin([1, 2, 3, 4]).astype(int)\n",
    "pre_panel['dum_we'] = pre_panel['wd'].isin([5, 6, 7]).astype(int)"
   ]
  },
  {
   "cell_type": "code",
   "execution_count": 26,
   "metadata": {},
   "outputs": [
    {
     "name": "stderr",
     "output_type": "stream",
     "text": [
      "/var/folders/0j/w3qt49pj7d19pfkd8ry8bfsh0000gn/T/ipykernel_41282/285811854.py:3: SettingWithCopyWarning: \n",
      "A value is trying to be set on a copy of a slice from a DataFrame.\n",
      "Try using .loc[row_indexer,col_indexer] = value instead\n",
      "\n",
      "See the caveats in the documentation: https://pandas.pydata.org/pandas-docs/stable/user_guide/indexing.html#returning-a-view-versus-a-copy\n",
      "  df[col + \"_diff\"] = df[col] - df[col].shift(periods=168)\n",
      "/var/folders/0j/w3qt49pj7d19pfkd8ry8bfsh0000gn/T/ipykernel_41282/285811854.py:3: SettingWithCopyWarning: \n",
      "A value is trying to be set on a copy of a slice from a DataFrame.\n",
      "Try using .loc[row_indexer,col_indexer] = value instead\n",
      "\n",
      "See the caveats in the documentation: https://pandas.pydata.org/pandas-docs/stable/user_guide/indexing.html#returning-a-view-versus-a-copy\n",
      "  df[col + \"_diff\"] = df[col] - df[col].shift(periods=168)\n",
      "/var/folders/0j/w3qt49pj7d19pfkd8ry8bfsh0000gn/T/ipykernel_41282/285811854.py:3: SettingWithCopyWarning: \n",
      "A value is trying to be set on a copy of a slice from a DataFrame.\n",
      "Try using .loc[row_indexer,col_indexer] = value instead\n",
      "\n",
      "See the caveats in the documentation: https://pandas.pydata.org/pandas-docs/stable/user_guide/indexing.html#returning-a-view-versus-a-copy\n",
      "  df[col + \"_diff\"] = df[col] - df[col].shift(periods=168)\n",
      "/var/folders/0j/w3qt49pj7d19pfkd8ry8bfsh0000gn/T/ipykernel_41282/285811854.py:3: SettingWithCopyWarning: \n",
      "A value is trying to be set on a copy of a slice from a DataFrame.\n",
      "Try using .loc[row_indexer,col_indexer] = value instead\n",
      "\n",
      "See the caveats in the documentation: https://pandas.pydata.org/pandas-docs/stable/user_guide/indexing.html#returning-a-view-versus-a-copy\n",
      "  df[col + \"_diff\"] = df[col] - df[col].shift(periods=168)\n",
      "/var/folders/0j/w3qt49pj7d19pfkd8ry8bfsh0000gn/T/ipykernel_41282/285811854.py:3: SettingWithCopyWarning: \n",
      "A value is trying to be set on a copy of a slice from a DataFrame.\n",
      "Try using .loc[row_indexer,col_indexer] = value instead\n",
      "\n",
      "See the caveats in the documentation: https://pandas.pydata.org/pandas-docs/stable/user_guide/indexing.html#returning-a-view-versus-a-copy\n",
      "  df[col + \"_diff\"] = df[col] - df[col].shift(periods=168)\n",
      "/var/folders/0j/w3qt49pj7d19pfkd8ry8bfsh0000gn/T/ipykernel_41282/285811854.py:3: SettingWithCopyWarning: \n",
      "A value is trying to be set on a copy of a slice from a DataFrame.\n",
      "Try using .loc[row_indexer,col_indexer] = value instead\n",
      "\n",
      "See the caveats in the documentation: https://pandas.pydata.org/pandas-docs/stable/user_guide/indexing.html#returning-a-view-versus-a-copy\n",
      "  df[col + \"_diff\"] = df[col] - df[col].shift(periods=168)\n",
      "/var/folders/0j/w3qt49pj7d19pfkd8ry8bfsh0000gn/T/ipykernel_41282/285811854.py:3: SettingWithCopyWarning: \n",
      "A value is trying to be set on a copy of a slice from a DataFrame.\n",
      "Try using .loc[row_indexer,col_indexer] = value instead\n",
      "\n",
      "See the caveats in the documentation: https://pandas.pydata.org/pandas-docs/stable/user_guide/indexing.html#returning-a-view-versus-a-copy\n",
      "  df[col + \"_diff\"] = df[col] - df[col].shift(periods=168)\n",
      "/var/folders/0j/w3qt49pj7d19pfkd8ry8bfsh0000gn/T/ipykernel_41282/285811854.py:3: SettingWithCopyWarning: \n",
      "A value is trying to be set on a copy of a slice from a DataFrame.\n",
      "Try using .loc[row_indexer,col_indexer] = value instead\n",
      "\n",
      "See the caveats in the documentation: https://pandas.pydata.org/pandas-docs/stable/user_guide/indexing.html#returning-a-view-versus-a-copy\n",
      "  df[col + \"_diff\"] = df[col] - df[col].shift(periods=168)\n",
      "/var/folders/0j/w3qt49pj7d19pfkd8ry8bfsh0000gn/T/ipykernel_41282/285811854.py:3: SettingWithCopyWarning: \n",
      "A value is trying to be set on a copy of a slice from a DataFrame.\n",
      "Try using .loc[row_indexer,col_indexer] = value instead\n",
      "\n",
      "See the caveats in the documentation: https://pandas.pydata.org/pandas-docs/stable/user_guide/indexing.html#returning-a-view-versus-a-copy\n",
      "  df[col + \"_diff\"] = df[col] - df[col].shift(periods=168)\n",
      "/var/folders/0j/w3qt49pj7d19pfkd8ry8bfsh0000gn/T/ipykernel_41282/285811854.py:3: SettingWithCopyWarning: \n",
      "A value is trying to be set on a copy of a slice from a DataFrame.\n",
      "Try using .loc[row_indexer,col_indexer] = value instead\n",
      "\n",
      "See the caveats in the documentation: https://pandas.pydata.org/pandas-docs/stable/user_guide/indexing.html#returning-a-view-versus-a-copy\n",
      "  df[col + \"_diff\"] = df[col] - df[col].shift(periods=168)\n",
      "/var/folders/0j/w3qt49pj7d19pfkd8ry8bfsh0000gn/T/ipykernel_41282/285811854.py:3: SettingWithCopyWarning: \n",
      "A value is trying to be set on a copy of a slice from a DataFrame.\n",
      "Try using .loc[row_indexer,col_indexer] = value instead\n",
      "\n",
      "See the caveats in the documentation: https://pandas.pydata.org/pandas-docs/stable/user_guide/indexing.html#returning-a-view-versus-a-copy\n",
      "  df[col + \"_diff\"] = df[col] - df[col].shift(periods=168)\n",
      "/var/folders/0j/w3qt49pj7d19pfkd8ry8bfsh0000gn/T/ipykernel_41282/285811854.py:3: SettingWithCopyWarning: \n",
      "A value is trying to be set on a copy of a slice from a DataFrame.\n",
      "Try using .loc[row_indexer,col_indexer] = value instead\n",
      "\n",
      "See the caveats in the documentation: https://pandas.pydata.org/pandas-docs/stable/user_guide/indexing.html#returning-a-view-versus-a-copy\n",
      "  df[col + \"_diff\"] = df[col] - df[col].shift(periods=168)\n",
      "/var/folders/0j/w3qt49pj7d19pfkd8ry8bfsh0000gn/T/ipykernel_41282/285811854.py:3: SettingWithCopyWarning: \n",
      "A value is trying to be set on a copy of a slice from a DataFrame.\n",
      "Try using .loc[row_indexer,col_indexer] = value instead\n",
      "\n",
      "See the caveats in the documentation: https://pandas.pydata.org/pandas-docs/stable/user_guide/indexing.html#returning-a-view-versus-a-copy\n",
      "  df[col + \"_diff\"] = df[col] - df[col].shift(periods=168)\n",
      "/var/folders/0j/w3qt49pj7d19pfkd8ry8bfsh0000gn/T/ipykernel_41282/285811854.py:3: SettingWithCopyWarning: \n",
      "A value is trying to be set on a copy of a slice from a DataFrame.\n",
      "Try using .loc[row_indexer,col_indexer] = value instead\n",
      "\n",
      "See the caveats in the documentation: https://pandas.pydata.org/pandas-docs/stable/user_guide/indexing.html#returning-a-view-versus-a-copy\n",
      "  df[col + \"_diff\"] = df[col] - df[col].shift(periods=168)\n",
      "/var/folders/0j/w3qt49pj7d19pfkd8ry8bfsh0000gn/T/ipykernel_41282/285811854.py:3: SettingWithCopyWarning: \n",
      "A value is trying to be set on a copy of a slice from a DataFrame.\n",
      "Try using .loc[row_indexer,col_indexer] = value instead\n",
      "\n",
      "See the caveats in the documentation: https://pandas.pydata.org/pandas-docs/stable/user_guide/indexing.html#returning-a-view-versus-a-copy\n",
      "  df[col + \"_diff\"] = df[col] - df[col].shift(periods=168)\n",
      "/var/folders/0j/w3qt49pj7d19pfkd8ry8bfsh0000gn/T/ipykernel_41282/285811854.py:3: SettingWithCopyWarning: \n",
      "A value is trying to be set on a copy of a slice from a DataFrame.\n",
      "Try using .loc[row_indexer,col_indexer] = value instead\n",
      "\n",
      "See the caveats in the documentation: https://pandas.pydata.org/pandas-docs/stable/user_guide/indexing.html#returning-a-view-versus-a-copy\n",
      "  df[col + \"_diff\"] = df[col] - df[col].shift(periods=168)\n",
      "/var/folders/0j/w3qt49pj7d19pfkd8ry8bfsh0000gn/T/ipykernel_41282/285811854.py:3: SettingWithCopyWarning: \n",
      "A value is trying to be set on a copy of a slice from a DataFrame.\n",
      "Try using .loc[row_indexer,col_indexer] = value instead\n",
      "\n",
      "See the caveats in the documentation: https://pandas.pydata.org/pandas-docs/stable/user_guide/indexing.html#returning-a-view-versus-a-copy\n",
      "  df[col + \"_diff\"] = df[col] - df[col].shift(periods=168)\n",
      "/var/folders/0j/w3qt49pj7d19pfkd8ry8bfsh0000gn/T/ipykernel_41282/285811854.py:3: SettingWithCopyWarning: \n",
      "A value is trying to be set on a copy of a slice from a DataFrame.\n",
      "Try using .loc[row_indexer,col_indexer] = value instead\n",
      "\n",
      "See the caveats in the documentation: https://pandas.pydata.org/pandas-docs/stable/user_guide/indexing.html#returning-a-view-versus-a-copy\n",
      "  df[col + \"_diff\"] = df[col] - df[col].shift(periods=168)\n",
      "/var/folders/0j/w3qt49pj7d19pfkd8ry8bfsh0000gn/T/ipykernel_41282/285811854.py:3: SettingWithCopyWarning: \n",
      "A value is trying to be set on a copy of a slice from a DataFrame.\n",
      "Try using .loc[row_indexer,col_indexer] = value instead\n",
      "\n",
      "See the caveats in the documentation: https://pandas.pydata.org/pandas-docs/stable/user_guide/indexing.html#returning-a-view-versus-a-copy\n",
      "  df[col + \"_diff\"] = df[col] - df[col].shift(periods=168)\n",
      "/var/folders/0j/w3qt49pj7d19pfkd8ry8bfsh0000gn/T/ipykernel_41282/285811854.py:3: SettingWithCopyWarning: \n",
      "A value is trying to be set on a copy of a slice from a DataFrame.\n",
      "Try using .loc[row_indexer,col_indexer] = value instead\n",
      "\n",
      "See the caveats in the documentation: https://pandas.pydata.org/pandas-docs/stable/user_guide/indexing.html#returning-a-view-versus-a-copy\n",
      "  df[col + \"_diff\"] = df[col] - df[col].shift(periods=168)\n"
     ]
    }
   ],
   "source": [
    "def calculate_first_differences(df, col_list):\n",
    "    for col in col_list:\n",
    "        df[col + \"_diff\"] = df[col] - df[col].shift(periods=168)\n",
    "\n",
    "zonas = pre_panel[\"zona\"].unique()\n",
    "for zona in zonas:\n",
    "    sub_df = pre_panel[pre_panel[\"zona\"] == zona]\n",
    "    calculate_first_differences(sub_df, [\"price\", \"hydro\", \"solar\", \"wind\", \"other\", \"load_var\"])\n",
    "    if zona == 1:\n",
    "        panel_z1 = sub_df\n",
    "    elif zona == 2:\n",
    "        panel_z2 = sub_df\n",
    "    elif zona == 3:\n",
    "        panel_z3 = sub_df\n",
    "    elif zona == 4:\n",
    "        panel_z4 = sub_df"
   ]
  },
  {
   "cell_type": "code",
   "execution_count": 27,
   "metadata": {},
   "outputs": [],
   "source": [
    "# Concat the DataFrames in the desired order\n",
    "panel_full = pd.concat([panel_z1, panel_z2, panel_z3, panel_z4], axis=0, ignore_index=True)"
   ]
  },
  {
   "cell_type": "markdown",
   "metadata": {},
   "source": [
    "#### **Creating the Panel**"
   ]
  },
  {
   "cell_type": "code",
   "execution_count": 28,
   "metadata": {},
   "outputs": [
    {
     "name": "stdout",
     "output_type": "stream",
     "text": [
      "Columns with missing values:\n",
      "load_a              8\n",
      "hydro              16\n",
      "solar             192\n",
      "wind              192\n",
      "other              16\n",
      "load_var            8\n",
      "hydro_diff        700\n",
      "solar_diff       1056\n",
      "wind_diff        1056\n",
      "other_diff        700\n",
      "load_var_diff     684\n",
      "dtype: int64\n"
     ]
    }
   ],
   "source": [
    "# Create a definite Pane\n",
    "panel = panel_full\n",
    "# Check for missing values in pre_panel\n",
    "missing_values = panel.isnull().sum()\n",
    "# Display the columns with missing values, if any\n",
    "print(\"Columns with missing values:\")\n",
    "print(missing_values[missing_values > 0])"
   ]
  },
  {
   "cell_type": "code",
   "execution_count": 6,
   "metadata": {},
   "outputs": [],
   "source": [
    "# Dropping Missing Values\n",
    "panel = panel.dropna()\n",
    "# Rename 'subject_id' to 'entity' and 'date' to 'time'\n",
    "panel = panel.rename(columns={'zona': 'id', 'fecha': 'time'})\n",
    "# Generating External Index\n",
    "time_index = pd.Index(pre_panel['fecha'])\n",
    "entity_index = pd.Index(pre_panel['zona'])"
   ]
  },
  {
   "cell_type": "code",
   "execution_count": 7,
   "metadata": {},
   "outputs": [],
   "source": [
    "# Seting Multindex\n",
    "panel.set_index(['time','id'], inplace=True)"
   ]
  },
  {
   "cell_type": "markdown",
   "metadata": {},
   "source": [
    "## **Descriptive Statistics**"
   ]
  },
  {
   "cell_type": "markdown",
   "metadata": {},
   "source": [
    "#### **Summary Statistics**"
   ]
  },
  {
   "cell_type": "code",
   "execution_count": 30,
   "metadata": {},
   "outputs": [
    {
     "name": "stdout",
     "output_type": "stream",
     "text": [
      "                 Mean      Std Dev      Min     25%   Median        75%  \\\n",
      "price       75.173247    93.675680   -60.04   17.27    41.17    96.0025   \n",
      "hydro     1919.621601  1690.214337     6.00  297.00  1433.00  3152.0000   \n",
      "solar       31.834021    85.070117     0.00    0.00     0.00    10.0000   \n",
      "wind       961.081585   873.290928     3.00  313.00   716.00  1331.0000   \n",
      "other      222.446578   275.697313     0.00   41.00   126.00   255.0000   \n",
      "load_var    45.253517   234.750108 -6441.00  -77.00    37.00   162.0000   \n",
      "\n",
      "              Max  \n",
      "price      799.97  \n",
      "hydro     6577.00  \n",
      "solar      745.00  \n",
      "wind      7017.00  \n",
      "other     1463.00  \n",
      "load_var  1734.00  \n"
     ]
    }
   ],
   "source": [
    "# Assuming 'pre_panel' is your DataFrame\n",
    "vars = ['price', 'hydro', 'solar', 'wind', 'other', 'load_var']\n",
    "\n",
    "# Calculate mean, standard deviation, min, 25%, 50%, 75%, and max\n",
    "mean_values = panel_full[vars].apply(np.mean)\n",
    "std_dev_values =panel_full[vars].apply(np.std)\n",
    "min_values = panel_full[vars].min()\n",
    "q25_values = panel_full[vars].quantile(0.25)\n",
    "median_values = panel_full[vars].median()\n",
    "q75_values = panel_full[vars].quantile(0.75)\n",
    "max_values = panel_full[vars].max()\n",
    "\n",
    "# Create a DataFrame to display the summary statistics\n",
    "summary_stats = pd.DataFrame({\n",
    "    'Mean': mean_values,\n",
    "    'Std Dev': std_dev_values,\n",
    "    'Min': min_values,\n",
    "    '25%': q25_values,\n",
    "    'Median': median_values,\n",
    "    '75%': q75_values,\n",
    "    'Max': max_values\n",
    "})\n",
    "\n",
    "print(summary_stats)"
   ]
  },
  {
   "cell_type": "code",
   "execution_count": null,
   "metadata": {},
   "outputs": [],
   "source": [
    "# Assuming 'pre_panel' is your DataFrame\n",
    "vars = ['price_diff', 'hydro_diff', 'solar_diff', 'wind_diff', 'other_diff', 'load_var_diff']\n",
    "\n",
    "# Calculate mean, standard deviation, min, 25%, 50%, 75%, and max\n",
    "mean_values = panel_full[vars].apply(np.mean)\n",
    "std_dev_values =panel_full[vars].apply(np.std)\n",
    "min_values = panel_full[vars].min()\n",
    "q25_values = panel_full[vars].quantile(0.25)\n",
    "median_values = panel_full[vars].median()\n",
    "q75_values = panel_full[vars].quantile(0.75)\n",
    "max_values = panel_full[vars].max()\n",
    "\n",
    "# Create a DataFrame to display the summary statistics\n",
    "summary_stats_d = pd.DataFrame({\n",
    "    'Mean': mean_values,\n",
    "    'Std Dev': std_dev_values,\n",
    "    'Min': min_values,\n",
    "    '25%': q25_values,\n",
    "    'Median': median_values,\n",
    "    '75%': q75_values,\n",
    "    'Max': max_values\n",
    "})\n",
    "\n",
    "print(summary_stats_d)"
   ]
  },
  {
   "cell_type": "markdown",
   "metadata": {},
   "source": [
    "#### **Correlation Matrix**"
   ]
  },
  {
   "cell_type": "code",
   "execution_count": 9,
   "metadata": {},
   "outputs": [
    {
     "name": "stdout",
     "output_type": "stream",
     "text": [
      "             price     hydro     solar      wind     other  load_var\n",
      "price     1.000000 -0.114776  0.050319 -0.309953  0.299960 -0.073367\n",
      "hydro    -0.114776  1.000000 -0.239845  0.174893 -0.241851  0.064977\n",
      "solar     0.050319 -0.239845  1.000000 -0.147548  0.150846  0.048050\n",
      "wind     -0.309953  0.174893 -0.147548  1.000000  0.038418  0.151586\n",
      "other     0.299960 -0.241851  0.150846  0.038418  1.000000 -0.024690\n",
      "load_var -0.073367  0.064977  0.048050  0.151586 -0.024690  1.000000\n"
     ]
    }
   ],
   "source": [
    "correlation_matrix = panel[['price_diff', 'hydro_diff', 'solar_diff', 'wind_diff', 'other_diff', 'load_var_diff']].corr()\n",
    "print(correlation_matrix)"
   ]
  },
  {
   "cell_type": "code",
   "execution_count": null,
   "metadata": {},
   "outputs": [],
   "source": [
    "correlation_matrix = panel[['price', 'hydro', 'solar', 'wind', 'other', 'load_var']].corr()\n",
    "print(correlation_matrix)"
   ]
  },
  {
   "cell_type": "markdown",
   "metadata": {},
   "source": [
    "#### **Scatter Plott**"
   ]
  },
  {
   "cell_type": "code",
   "execution_count": null,
   "metadata": {},
   "outputs": [],
   "source": [
    "# Create separate scatter plots for each variable\n",
    "for var in ['load_var', 'hydro', 'solar', 'wind', 'other']:\n",
    "    # Create a scatter plot with regression line\n",
    "    sns.regplot(x=var, y='price', data=panel)\n",
    "    plt.title(f'Price vs. {var}')\n",
    "    plt.xlabel(var)\n",
    "    plt.ylabel('Price')\n",
    "    plt.show()"
   ]
  },
  {
   "cell_type": "code",
   "execution_count": 10,
   "metadata": {},
   "outputs": [
    {
     "name": "stdout",
     "output_type": "stream",
     "text": [
      "                            OLS Regression Results                            \n",
      "==============================================================================\n",
      "Dep. Variable:                  price   R-squared:                       0.196\n",
      "Model:                            OLS   Adj. R-squared:                  0.196\n",
      "Method:                 Least Squares   F-statistic:                     3239.\n",
      "Date:                Tue, 19 Dec 2023   Prob (F-statistic):               0.00\n",
      "Time:                        00:57:28   Log-Likelihood:            -3.8856e+05\n",
      "No. Observations:               66521   AIC:                         7.771e+05\n",
      "Df Residuals:                   66515   BIC:                         7.772e+05\n",
      "Df Model:                           5                                         \n",
      "Covariance Type:            nonrobust                                         \n",
      "==============================================================================\n",
      "                 coef    std err          t      P>|t|      [0.025      0.975]\n",
      "------------------------------------------------------------------------------\n",
      "intercept     84.6982      0.696    121.618      0.000      83.333      86.063\n",
      "load_var      -0.0057      0.001     -4.039      0.000      -0.008      -0.003\n",
      "hydro          0.0006      0.000      2.940      0.003       0.000       0.001\n",
      "solar         -0.0472      0.004    -11.904      0.000      -0.055      -0.039\n",
      "wind          -0.0349      0.000    -90.912      0.000      -0.036      -0.034\n",
      "other          0.1083      0.001     88.796      0.000       0.106       0.111\n",
      "==============================================================================\n",
      "Omnibus:                    38431.584   Durbin-Watson:                   0.088\n",
      "Prob(Omnibus):                  0.000   Jarque-Bera (JB):           372106.753\n",
      "Skew:                           2.669   Prob(JB):                         0.00\n",
      "Kurtosis:                      13.284   Cond. No.                     5.84e+03\n",
      "==============================================================================\n",
      "\n",
      "Notes:\n",
      "[1] Standard Errors assume that the covariance matrix of the errors is correctly specified.\n",
      "[2] The condition number is large, 5.84e+03. This might indicate that there are\n",
      "strong multicollinearity or other numerical problems.\n"
     ]
    }
   ],
   "source": [
    "panel['intercept'] = 1\n",
    "\n",
    "# Estimate the two-way fixed effect model\n",
    "model = sm.OLS(panel['price'], panel[['intercept', 'load_var', 'hydro', 'solar', 'wind', 'other']])\n",
    "results = model.fit(index=time_index, groups=entity_index, use_demeaned=True)\n",
    "\n",
    "# Print the results\n",
    "print(results.summary())"
   ]
  },
  {
   "cell_type": "code",
   "execution_count": 11,
   "metadata": {},
   "outputs": [
    {
     "name": "stdout",
     "output_type": "stream",
     "text": [
      "Fixed Effects Model:\n",
      "                            OLS Regression Results                            \n",
      "==============================================================================\n",
      "Dep. Variable:                  price   R-squared:                       0.196\n",
      "Model:                            OLS   Adj. R-squared:                  0.196\n",
      "Method:                 Least Squares   F-statistic:                     3239.\n",
      "Date:                Tue, 19 Dec 2023   Prob (F-statistic):               0.00\n",
      "Time:                        00:57:28   Log-Likelihood:            -3.8856e+05\n",
      "No. Observations:               66521   AIC:                         7.771e+05\n",
      "Df Residuals:                   66515   BIC:                         7.772e+05\n",
      "Df Model:                           5                                         \n",
      "Covariance Type:            nonrobust                                         \n",
      "==============================================================================\n",
      "                 coef    std err          t      P>|t|      [0.025      0.975]\n",
      "------------------------------------------------------------------------------\n",
      "intercept     84.6982      0.696    121.618      0.000      83.333      86.063\n",
      "load_var      -0.0057      0.001     -4.039      0.000      -0.008      -0.003\n",
      "hydro          0.0006      0.000      2.940      0.003       0.000       0.001\n",
      "solar         -0.0472      0.004    -11.904      0.000      -0.055      -0.039\n",
      "wind          -0.0349      0.000    -90.912      0.000      -0.036      -0.034\n",
      "other          0.1083      0.001     88.796      0.000       0.106       0.111\n",
      "==============================================================================\n",
      "Omnibus:                    38431.584   Durbin-Watson:                   0.088\n",
      "Prob(Omnibus):                  0.000   Jarque-Bera (JB):           372106.753\n",
      "Skew:                           2.669   Prob(JB):                         0.00\n",
      "Kurtosis:                      13.284   Cond. No.                     5.84e+03\n",
      "==============================================================================\n",
      "\n",
      "Notes:\n",
      "[1] Standard Errors assume that the covariance matrix of the errors is correctly specified.\n",
      "[2] The condition number is large, 5.84e+03. This might indicate that there are\n",
      "strong multicollinearity or other numerical problems.\n"
     ]
    }
   ],
   "source": [
    "# Fixed effects model with entity and time effects\n",
    "sm.OLS(panel['price'], panel[['load_var', 'hydro', 'solar', 'wind', 'other']])\n",
    "FE_results = model.fit(index=time_index, groups=entity_index)\n",
    "print('Fixed Effects Model:')\n",
    "print(FE_results.summary())"
   ]
  }
 ],
 "metadata": {
  "kernelspec": {
   "display_name": "base",
   "language": "python",
   "name": "python3"
  },
  "language_info": {
   "codemirror_mode": {
    "name": "ipython",
    "version": 3
   },
   "file_extension": ".py",
   "mimetype": "text/x-python",
   "name": "python",
   "nbconvert_exporter": "python",
   "pygments_lexer": "ipython3",
   "version": "3.9.13"
  }
 },
 "nbformat": 4,
 "nbformat_minor": 2
}
